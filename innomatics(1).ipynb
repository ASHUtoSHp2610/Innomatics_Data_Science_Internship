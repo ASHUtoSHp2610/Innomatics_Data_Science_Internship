{
  "nbformat": 4,
  "nbformat_minor": 0,
  "metadata": {
    "colab": {
      "provenance": []
    },
    "kernelspec": {
      "name": "python3",
      "display_name": "Python 3"
    },
    "language_info": {
      "name": "python"
    }
  },
  "cells": [
    {
      "cell_type": "code",
      "source": [
        "import pandas as pd\n"
      ],
      "metadata": {
        "id": "YjlEcljlePxJ"
      },
      "execution_count": 1,
      "outputs": []
    },
    {
      "cell_type": "code",
      "execution_count": 2,
      "metadata": {
        "id": "l7o1WqKxcgQ0"
      },
      "outputs": [],
      "source": [
        "df_link = pd.read_csv(\"/content/links.csv\")\n",
        "df_movies = pd.read_csv('/content/movies.csv')\n",
        "df_rating = pd.read_csv('/content/ratings.csv')\n",
        "df_tags = pd.read_csv(\"/content/tags.csv\")"
      ]
    },
    {
      "cell_type": "code",
      "source": [
        "print('link: ',df_link.shape)\n",
        "print('Movies: ',df_movies.shape)\n",
        "print('Rating: ',df_rating.shape)\n",
        "print('Tags: ',df_tags.shape)"
      ],
      "metadata": {
        "colab": {
          "base_uri": "https://localhost:8080/"
        },
        "id": "lFsm7TIteaXk",
        "outputId": "6bdde803-31ce-4bc0-e6c3-e8f523baccee"
      },
      "execution_count": 3,
      "outputs": [
        {
          "output_type": "stream",
          "name": "stdout",
          "text": [
            "link:  (9742, 3)\n",
            "Movies:  (9742, 3)\n",
            "Rating:  (100836, 4)\n",
            "Tags:  (3683, 4)\n"
          ]
        }
      ]
    },
    {
      "cell_type": "code",
      "source": [
        "df_rating['userId'].nunique()"
      ],
      "metadata": {
        "colab": {
          "base_uri": "https://localhost:8080/",
          "height": 525
        },
        "id": "TgvkN4LteeAj",
        "outputId": "da711c30-c54d-4da2-a03c-5e30a687dfa1"
      },
      "execution_count": 4,
      "outputs": [
        {
          "output_type": "error",
          "ename": "KeyError",
          "evalue": "'user'",
          "traceback": [
            "\u001b[0;31m---------------------------------------------------------------------------\u001b[0m",
            "\u001b[0;31mKeyError\u001b[0m                                  Traceback (most recent call last)",
            "\u001b[0;32m/usr/local/lib/python3.10/dist-packages/pandas/core/indexes/base.py\u001b[0m in \u001b[0;36mget_loc\u001b[0;34m(self, key, method, tolerance)\u001b[0m\n\u001b[1;32m   3801\u001b[0m             \u001b[0;32mtry\u001b[0m\u001b[0;34m:\u001b[0m\u001b[0;34m\u001b[0m\u001b[0;34m\u001b[0m\u001b[0m\n\u001b[0;32m-> 3802\u001b[0;31m                 \u001b[0;32mreturn\u001b[0m \u001b[0mself\u001b[0m\u001b[0;34m.\u001b[0m\u001b[0m_engine\u001b[0m\u001b[0;34m.\u001b[0m\u001b[0mget_loc\u001b[0m\u001b[0;34m(\u001b[0m\u001b[0mcasted_key\u001b[0m\u001b[0;34m)\u001b[0m\u001b[0;34m\u001b[0m\u001b[0;34m\u001b[0m\u001b[0m\n\u001b[0m\u001b[1;32m   3803\u001b[0m             \u001b[0;32mexcept\u001b[0m \u001b[0mKeyError\u001b[0m \u001b[0;32mas\u001b[0m \u001b[0merr\u001b[0m\u001b[0;34m:\u001b[0m\u001b[0;34m\u001b[0m\u001b[0;34m\u001b[0m\u001b[0m\n",
            "\u001b[0;32m/usr/local/lib/python3.10/dist-packages/pandas/_libs/index.pyx\u001b[0m in \u001b[0;36mpandas._libs.index.IndexEngine.get_loc\u001b[0;34m()\u001b[0m\n",
            "\u001b[0;32m/usr/local/lib/python3.10/dist-packages/pandas/_libs/index.pyx\u001b[0m in \u001b[0;36mpandas._libs.index.IndexEngine.get_loc\u001b[0;34m()\u001b[0m\n",
            "\u001b[0;32mpandas/_libs/hashtable_class_helper.pxi\u001b[0m in \u001b[0;36mpandas._libs.hashtable.PyObjectHashTable.get_item\u001b[0;34m()\u001b[0m\n",
            "\u001b[0;32mpandas/_libs/hashtable_class_helper.pxi\u001b[0m in \u001b[0;36mpandas._libs.hashtable.PyObjectHashTable.get_item\u001b[0;34m()\u001b[0m\n",
            "\u001b[0;31mKeyError\u001b[0m: 'user'",
            "\nThe above exception was the direct cause of the following exception:\n",
            "\u001b[0;31mKeyError\u001b[0m                                  Traceback (most recent call last)",
            "\u001b[0;32m<ipython-input-4-4d1d7088c56c>\u001b[0m in \u001b[0;36m<cell line: 1>\u001b[0;34m()\u001b[0m\n\u001b[0;32m----> 1\u001b[0;31m \u001b[0mdf_rating\u001b[0m\u001b[0;34m[\u001b[0m\u001b[0;34m'user'\u001b[0m\u001b[0;34m]\u001b[0m\u001b[0;34m\u001b[0m\u001b[0;34m\u001b[0m\u001b[0m\n\u001b[0m",
            "\u001b[0;32m/usr/local/lib/python3.10/dist-packages/pandas/core/frame.py\u001b[0m in \u001b[0;36m__getitem__\u001b[0;34m(self, key)\u001b[0m\n\u001b[1;32m   3805\u001b[0m             \u001b[0;32mif\u001b[0m \u001b[0mself\u001b[0m\u001b[0;34m.\u001b[0m\u001b[0mcolumns\u001b[0m\u001b[0;34m.\u001b[0m\u001b[0mnlevels\u001b[0m \u001b[0;34m>\u001b[0m \u001b[0;36m1\u001b[0m\u001b[0;34m:\u001b[0m\u001b[0;34m\u001b[0m\u001b[0;34m\u001b[0m\u001b[0m\n\u001b[1;32m   3806\u001b[0m                 \u001b[0;32mreturn\u001b[0m \u001b[0mself\u001b[0m\u001b[0;34m.\u001b[0m\u001b[0m_getitem_multilevel\u001b[0m\u001b[0;34m(\u001b[0m\u001b[0mkey\u001b[0m\u001b[0;34m)\u001b[0m\u001b[0;34m\u001b[0m\u001b[0;34m\u001b[0m\u001b[0m\n\u001b[0;32m-> 3807\u001b[0;31m             \u001b[0mindexer\u001b[0m \u001b[0;34m=\u001b[0m \u001b[0mself\u001b[0m\u001b[0;34m.\u001b[0m\u001b[0mcolumns\u001b[0m\u001b[0;34m.\u001b[0m\u001b[0mget_loc\u001b[0m\u001b[0;34m(\u001b[0m\u001b[0mkey\u001b[0m\u001b[0;34m)\u001b[0m\u001b[0;34m\u001b[0m\u001b[0;34m\u001b[0m\u001b[0m\n\u001b[0m\u001b[1;32m   3808\u001b[0m             \u001b[0;32mif\u001b[0m \u001b[0mis_integer\u001b[0m\u001b[0;34m(\u001b[0m\u001b[0mindexer\u001b[0m\u001b[0;34m)\u001b[0m\u001b[0;34m:\u001b[0m\u001b[0;34m\u001b[0m\u001b[0;34m\u001b[0m\u001b[0m\n\u001b[1;32m   3809\u001b[0m                 \u001b[0mindexer\u001b[0m \u001b[0;34m=\u001b[0m \u001b[0;34m[\u001b[0m\u001b[0mindexer\u001b[0m\u001b[0;34m]\u001b[0m\u001b[0;34m\u001b[0m\u001b[0;34m\u001b[0m\u001b[0m\n",
            "\u001b[0;32m/usr/local/lib/python3.10/dist-packages/pandas/core/indexes/base.py\u001b[0m in \u001b[0;36mget_loc\u001b[0;34m(self, key, method, tolerance)\u001b[0m\n\u001b[1;32m   3802\u001b[0m                 \u001b[0;32mreturn\u001b[0m \u001b[0mself\u001b[0m\u001b[0;34m.\u001b[0m\u001b[0m_engine\u001b[0m\u001b[0;34m.\u001b[0m\u001b[0mget_loc\u001b[0m\u001b[0;34m(\u001b[0m\u001b[0mcasted_key\u001b[0m\u001b[0;34m)\u001b[0m\u001b[0;34m\u001b[0m\u001b[0;34m\u001b[0m\u001b[0m\n\u001b[1;32m   3803\u001b[0m             \u001b[0;32mexcept\u001b[0m \u001b[0mKeyError\u001b[0m \u001b[0;32mas\u001b[0m \u001b[0merr\u001b[0m\u001b[0;34m:\u001b[0m\u001b[0;34m\u001b[0m\u001b[0;34m\u001b[0m\u001b[0m\n\u001b[0;32m-> 3804\u001b[0;31m                 \u001b[0;32mraise\u001b[0m \u001b[0mKeyError\u001b[0m\u001b[0;34m(\u001b[0m\u001b[0mkey\u001b[0m\u001b[0;34m)\u001b[0m \u001b[0;32mfrom\u001b[0m \u001b[0merr\u001b[0m\u001b[0;34m\u001b[0m\u001b[0;34m\u001b[0m\u001b[0m\n\u001b[0m\u001b[1;32m   3805\u001b[0m             \u001b[0;32mexcept\u001b[0m \u001b[0mTypeError\u001b[0m\u001b[0;34m:\u001b[0m\u001b[0;34m\u001b[0m\u001b[0;34m\u001b[0m\u001b[0m\n\u001b[1;32m   3806\u001b[0m                 \u001b[0;31m# If we have a listlike key, _check_indexing_error will raise\u001b[0m\u001b[0;34m\u001b[0m\u001b[0;34m\u001b[0m\u001b[0m\n",
            "\u001b[0;31mKeyError\u001b[0m: 'user'"
          ]
        }
      ]
    },
    {
      "cell_type": "code",
      "source": [],
      "metadata": {
        "id": "h-HcvamTf0xr"
      },
      "execution_count": 4,
      "outputs": []
    },
    {
      "cell_type": "code",
      "source": [
        "merged_df = pd.merge(df_movies, df_rating, on='movieId')\n",
        "filtered_df = merged_df[merged_df['title'].str.contains('Matrix|Pulp Fiction|Forrest Gump|Shawshank Redemption', case=False)]\n",
        "result_df = filtered_df.groupby('title')['rating'].mean().reset_index()\n",
        "result_df = result_df.sort_values(by='rating', ascending=False)\n",
        "print(result_df)"
      ],
      "metadata": {
        "colab": {
          "base_uri": "https://localhost:8080/"
        },
        "id": "ftmz7dNnJ8lg",
        "outputId": "e7c82962-5332-4fd1-d0ed-1c208a3e25df"
      },
      "execution_count": 5,
      "outputs": [
        {
          "output_type": "stream",
          "name": "stdout",
          "text": [
            "                              title    rating\n",
            "6  Shawshank Redemption, The (1994)  4.429022\n",
            "5               Pulp Fiction (1994)  4.197068\n",
            "4                Matrix, The (1999)  4.192446\n",
            "1               Forrest Gump (1994)  4.164134\n",
            "0             Animatrix, The (2003)  3.700000\n",
            "2       Matrix Reloaded, The (2003)  3.354167\n",
            "3    Matrix Revolutions, The (2003)  3.151899\n"
          ]
        }
      ]
    },
    {
      "cell_type": "code",
      "source": [
        "merged_df = pd.merge(df_movies, df_tags, on='movieId')\n",
        "filtered_df = merged_df[merged_df['title'] == 'Matrix, The (1999)']\n",
        "print(filtered_df[['title', 'tag']])"
      ],
      "metadata": {
        "colab": {
          "base_uri": "https://localhost:8080/"
        },
        "id": "IOjfLmqCKNCq",
        "outputId": "56b45fe6-2f9e-4401-8e85-e8427bbb4dae"
      },
      "execution_count": 6,
      "outputs": [
        {
          "output_type": "stream",
          "name": "stdout",
          "text": [
            "                   title                 tag\n",
            "1313  Matrix, The (1999)        martial arts\n",
            "1314  Matrix, The (1999)              sci-fi\n",
            "1315  Matrix, The (1999)  alternate universe\n",
            "1316  Matrix, The (1999)          philosophy\n",
            "1317  Matrix, The (1999)    post apocalyptic\n"
          ]
        }
      ]
    },
    {
      "cell_type": "code",
      "source": [
        "merged_df = pd.merge(df_movies, df_rating, on='movieId')\n",
        "filtered_df = merged_df[merged_df['title'] == 'Terminator 2: Judgment Day (1991)']\n",
        "avg_rating = filtered_df['rating'].mean()\n",
        "display(avg_rating)"
      ],
      "metadata": {
        "colab": {
          "base_uri": "https://localhost:8080/",
          "height": 35
        },
        "id": "LphpKOXgKaRs",
        "outputId": "a4fdd789-6253-4972-e58c-6431f7b9bf53"
      },
      "execution_count": 7,
      "outputs": [
        {
          "output_type": "display_data",
          "data": {
            "text/plain": [
              "3.970982142857143"
            ]
          },
          "metadata": {}
        }
      ]
    },
    {
      "cell_type": "code",
      "source": [
        "import matplotlib.pyplot as plt\n",
        "\n",
        "\n",
        "# Merge movies and ratings DataFrames\n",
        "ratings_fight_club = pd.merge(df_movies, df_rating, on='movieId', how='inner')\n",
        "\n",
        "# Filter rows for 'Fight Club (1999)'\n",
        "ratings_fight_club = ratings_fight_club[ratings_fight_club['title'] == 'Fight Club (1999)']\n",
        "\n",
        "\n",
        "plt.hist(ratings_fight_club['rating'], bins=10, color='blue', edgecolor='black')\n",
        "plt.xlabel('User Ratings')\n",
        "plt.ylabel('Frequency')\n",
        "plt.title('Histogram of User Ratings for Fight Club (1999)')\n",
        "plt.show()\n",
        "\n",
        "# Calculate skewness\n",
        "skewness = ratings_fight_club['rating'].skew()\n",
        "print(f\"Skewness: {skewness}\")\n"
      ],
      "metadata": {
        "colab": {
          "base_uri": "https://localhost:8080/",
          "height": 490
        },
        "id": "AETksh8FKkI_",
        "outputId": "368655e2-c873-4802-b4b4-ef08746b0db1"
      },
      "execution_count": 8,
      "outputs": [
        {
          "output_type": "display_data",
          "data": {
            "text/plain": [
              "<Figure size 640x480 with 1 Axes>"
            ],
            "image/png": "[encoded data removed]"
          },
          "metadata": {}
        },
        {
          "output_type": "stream",
          "name": "stdout",
          "text": [
            "Skewness: -1.8603186380018706\n"
          ]
        }
      ]
    },
    {
      "cell_type": "code",
      "source": [
        "grouped_ratings = df_rating.groupby(\"movieId\").agg(\n",
        "    rating_count=pd.NamedAgg(column=\"rating\", aggfunc=\"count\"),\n",
        "    average_rating=pd.NamedAgg(column=\"rating\", aggfunc=\"mean\")\n",
        ").reset_index()"
      ],
      "metadata": {
        "id": "fGsSXn1HLECC"
      },
      "execution_count": 9,
      "outputs": []
    },
    {
      "cell_type": "code",
      "source": [
        "merge_df = pd.merge(df_movies, grouped_ratings, on='movieId', how='inner')\n",
        "filter_df = merge_df[merge_df['rating_count'] > 50]"
      ],
      "metadata": {
        "id": "QfPTlb5BLMfi"
      },
      "execution_count": 10,
      "outputs": []
    },
    {
      "cell_type": "code",
      "source": [
        "top_movie = filter_df.sort_values(by='average_rating', ascending=False).head(1)\n",
        "print(top_movie[['title', 'average_rating']])"
      ],
      "metadata": {
        "colab": {
          "base_uri": "https://localhost:8080/"
        },
        "id": "kN45CenOLVVM",
        "outputId": "cc2edcde-ebd0-4866-8a1e-670ce4db1502"
      },
      "execution_count": 11,
      "outputs": [
        {
          "output_type": "stream",
          "name": "stdout",
          "text": [
            "                                title  average_rating\n",
            "277  Shawshank Redemption, The (1994)        4.429022\n"
          ]
        }
      ]
    },
    {
      "cell_type": "code",
      "source": [
        "top_movies_by_rating_count = filter_df.sort_values(by='rating_count', ascending=False).head(5)\n",
        "print(top_movies_by_rating_count[['title', 'rating_count']])"
      ],
      "metadata": {
        "colab": {
          "base_uri": "https://localhost:8080/"
        },
        "id": "YjhNOP1dLhtj",
        "outputId": "dc36e74b-600c-4e90-9d81-40dfa69ff188"
      },
      "execution_count": 12,
      "outputs": [
        {
          "output_type": "stream",
          "name": "stdout",
          "text": [
            "                                 title  rating_count\n",
            "314                Forrest Gump (1994)           329\n",
            "277   Shawshank Redemption, The (1994)           317\n",
            "257                Pulp Fiction (1994)           307\n",
            "510   Silence of the Lambs, The (1991)           279\n",
            "1938                Matrix, The (1999)           278\n"
          ]
        }
      ]
    },
    {
      "cell_type": "code",
      "source": [
        "sci_fi_movies = filter_df[filter_df['genres'].str.contains('Sci-Fi', case=False, na=False)]\n",
        "top_sci_fi_movies_by_rating_count = sci_fi_movies.sort_values(by='rating_count', ascending=False).head(5)\n",
        "print(top_sci_fi_movies_by_rating_count[['title', 'rating_count']])"
      ],
      "metadata": {
        "colab": {
          "base_uri": "https://localhost:8080/"
        },
        "id": "c0VU_BJxLxCy",
        "outputId": "2348f7ee-cbcd-477d-d8e3-ce523b60e871"
      },
      "execution_count": 13,
      "outputs": [
        {
          "output_type": "stream",
          "name": "stdout",
          "text": [
            "                                                  title  rating_count\n",
            "1938                                 Matrix, The (1999)           278\n",
            "224           Star Wars: Episode IV - A New Hope (1977)           251\n",
            "418                                Jurassic Park (1993)           238\n",
            "507                   Terminator 2: Judgment Day (1991)           224\n",
            "897   Star Wars: Episode V - The Empire Strikes Back...           211\n"
          ]
        }
      ]
    },
    {
      "cell_type": "code",
      "source": [],
      "metadata": {
        "id": "DL9PScVEL2Cj"
      },
      "execution_count": 13,
      "outputs": []
    },
    {
      "cell_type": "code",
      "source": [
        "import requests\n",
        "import numpy as np\n",
        "from bs4 import BeautifulSoup\n",
        "\n",
        "def scrapper(imdbId):\n",
        "    id = str(int(imdbId))\n",
        "    n_zeroes = 7 - len(id)\n",
        "    new_id = \"0\" * n_zeroes + id\n",
        "    URL = f\"https://www.imdb.com/title/tt{new_id}/\"\n",
        "    request_header = {\n",
        "        'Content-Type': 'text/html; charset=UTF-8',\n",
        "        'User-Agent': 'Mozilla/5.0 (Windows NT 10.0; Win64; x64; rv:109.0) Gecko/20100101 Firefox/119.0',\n",
        "        'Accept-Encoding': 'gzip, deflate, br'\n",
        "    }\n",
        "    response = requests.get(URL, headers=request_header)\n",
        "    soup = BeautifulSoup(response.text, 'html.parser')\n",
        "    imdb_rating_tag = soup.find('span', itemprop='ratingValue')\n",
        "    return imdb_rating_tag.text if imdb_rating_tag else np.nan\n"
      ],
      "metadata": {
        "id": "LEWOux-NH0WI"
      },
      "execution_count": 14,
      "outputs": []
    },
    {
      "cell_type": "code",
      "source": [
        "df_link['imdb_rating'] = df_link['imdbId'].apply(scrapper)"
      ],
      "metadata": {
        "id": "vcOPJxBKIibq"
      },
      "execution_count": null,
      "outputs": []
    },
    {
      "cell_type": "code",
      "source": [
        "top_movie_by_imdb_rating = df_link.sort_values(by='imdb_rating', ascending=False).head(1)\n",
        "print(top_movie_by_imdb_rating[['movieId', 'imdb_rating']])"
      ],
      "metadata": {
        "id": "ARFaH2VJI60A"
      },
      "execution_count": null,
      "outputs": []
    },
    {
      "cell_type": "code",
      "source": [
        "merged_df = pd.merge(df_link, df_tags, on='movieId', how='inner')\n",
        "\n",
        "sci_fi_movies = merged_df[merged_df['tag'].str.contains('sci-fi', case=False, na=False)]\n",
        "\n",
        "\n",
        "top_sci_fi_movie_by_imdb_rating = sci_fi_movies.sort_values(by='imdb_rating', ascending=False).head(1)\n",
        "\n",
        "print(top_sci_fi_movie_by_imdb_rating[['movieId', 'imdb_rating']])"
      ],
      "metadata": {
        "id": "RHhwl6AUWlrG"
      },
      "execution_count": null,
      "outputs": []
    },
    {
      "cell_type": "code",
      "source": [],
      "metadata": {
        "id": "7PMQ8FiDYQFa"
      },
      "execution_count": null,
      "outputs": []
    }
  ]
}