{
  "cells": [
    {
      "cell_type": "code",
      "execution_count": 1,
      "metadata": {
        "id": "fP7yUlTHyERb"
      },
      "outputs": [],
      "source": [
        "import pandas as pd\n",
        "import matplotlib.pyplot as plt\n",
        "import seaborn as sns"
      ]
    },
    {
      "cell_type": "code",
      "source": [
        "from google.colab import drive\n",
        "drive.mount('/content/drive')"
      ],
      "metadata": {
        "id": "Se8910O2vZWZ",
        "colab": {
          "base_uri": "https://localhost:8080/"
        },
        "outputId": "6cca56ae-a7b6-4414-91c1-67c6d00c68bc"
      },
      "execution_count": 2,
      "outputs": [
        {
          "output_type": "stream",
          "name": "stdout",
          "text": [
            "Mounted at /content/drive\n"
          ]
        }
      ]
    },
    {
      "cell_type": "code",
      "execution_count": 3,
      "metadata": {
        "id": "RF4S6e8SyVv2"
      },
      "outputs": [],
      "source": [
        "df = pd.read_excel(r\"/content/drive/MyDrive/Innomatics Research lab/data.xlsx\")\n"
      ]
    },
    {
      "cell_type": "code",
      "execution_count": 4,
      "metadata": {
        "id": "RaU-4uq2yY_g",
        "colab": {
          "base_uri": "https://localhost:8080/"
        },
        "outputId": "1e315c3d-9576-4c23-b96f-5ba7958fddb7"
      },
      "outputs": [
        {
          "output_type": "stream",
          "name": "stdout",
          "text": [
            "  Unnamed: 0      ID   Salary        DOJ                  DOL  \\\n",
            "0      train  203097   420000 2012-06-01              present   \n",
            "1      train  579905   500000 2013-09-01              present   \n",
            "2      train  810601   325000 2014-06-01              present   \n",
            "3      train  267447  1100000 2011-07-01              present   \n",
            "4      train  343523   200000 2014-03-01  2015-03-01 00:00:00   \n",
            "\n",
            "                Designation    JobCity Gender        DOB  10percentage  ...  \\\n",
            "0   senior quality engineer  Bangalore      f 1990-02-19          84.3  ...   \n",
            "1         assistant manager     Indore      m 1989-10-04          85.4  ...   \n",
            "2          systems engineer    Chennai      f 1992-08-03          85.0  ...   \n",
            "3  senior software engineer    Gurgaon      m 1989-12-05          85.6  ...   \n",
            "4                       get    Manesar      m 1991-02-27          78.0  ...   \n",
            "\n",
            "  ComputerScience  MechanicalEngg  ElectricalEngg TelecomEngg  CivilEngg  \\\n",
            "0              -1              -1              -1          -1         -1   \n",
            "1              -1              -1              -1          -1         -1   \n",
            "2              -1              -1              -1          -1         -1   \n",
            "3              -1              -1              -1          -1         -1   \n",
            "4              -1              -1              -1          -1         -1   \n",
            "\n",
            "   conscientiousness agreeableness extraversion  nueroticism  \\\n",
            "0             0.9737        0.8128       0.5269      1.35490   \n",
            "1            -0.7335        0.3789       1.2396     -0.10760   \n",
            "2             0.2718        1.7109       0.1637     -0.86820   \n",
            "3             0.0464        0.3448      -0.3440     -0.40780   \n",
            "4            -0.8810       -0.2793      -1.0697      0.09163   \n",
            "\n",
            "   openess_to_experience  \n",
            "0                -0.4455  \n",
            "1                 0.8637  \n",
            "2                 0.6721  \n",
            "3                -0.9194  \n",
            "4                -0.1295  \n",
            "\n",
            "[5 rows x 39 columns]\n"
          ]
        }
      ],
      "source": [
        "print(df.head(5))"
      ]
    },
    {
      "cell_type": "code",
      "execution_count": 5,
      "metadata": {
        "id": "Wo_KSOZsyksn"
      },
      "outputs": [],
      "source": [
        "df.rename(columns= {'Unnamed: 0': 'travel_type'}, inplace = True)"
      ]
    },
    {
      "cell_type": "code",
      "execution_count": 6,
      "metadata": {
        "id": "HTFN2lJ0y8WW",
        "colab": {
          "base_uri": "https://localhost:8080/",
          "height": 670
        },
        "outputId": "4b73a254-2a81-461e-f54b-495c5a00afb2"
      },
      "outputs": [
        {
          "output_type": "display_data",
          "data": {
            "text/plain": [
              "     travel_type      ID   Salary        DOJ                  DOL  \\\n",
              "0          train  203097   420000 2012-06-01              present   \n",
              "1          train  579905   500000 2013-09-01              present   \n",
              "2          train  810601   325000 2014-06-01              present   \n",
              "3          train  267447  1100000 2011-07-01              present   \n",
              "4          train  343523   200000 2014-03-01  2015-03-01 00:00:00   \n",
              "...          ...     ...      ...        ...                  ...   \n",
              "3993       train   47916   280000 2011-10-01  2012-10-01 00:00:00   \n",
              "3994       train  752781   100000 2013-07-01  2013-07-01 00:00:00   \n",
              "3995       train  355888   320000 2013-07-01              present   \n",
              "3996       train  947111   200000 2014-07-01  2015-01-01 00:00:00   \n",
              "3997       train  324966   400000 2013-02-01              present   \n",
              "\n",
              "                      Designation           JobCity Gender        DOB  \\\n",
              "0         senior quality engineer         Bangalore      f 1990-02-19   \n",
              "1               assistant manager            Indore      m 1989-10-04   \n",
              "2                systems engineer           Chennai      f 1992-08-03   \n",
              "3        senior software engineer           Gurgaon      m 1989-12-05   \n",
              "4                             get           Manesar      m 1991-02-27   \n",
              "...                           ...               ...    ...        ...   \n",
              "3993            software engineer        New Delhi       m 1987-04-15   \n",
              "3994             technical writer         Hyderabad      f 1992-08-27   \n",
              "3995  associate software engineer         Bangalore      m 1991-07-03   \n",
              "3996           software developer  Asifabadbanglore      f 1992-03-20   \n",
              "3997      senior systems engineer           Chennai      f 1991-02-26   \n",
              "\n",
              "      10percentage  ... ComputerScience  MechanicalEngg  ElectricalEngg  \\\n",
              "0            84.30  ...              -1              -1              -1   \n",
              "1            85.40  ...              -1              -1              -1   \n",
              "2            85.00  ...              -1              -1              -1   \n",
              "3            85.60  ...              -1              -1              -1   \n",
              "4            78.00  ...              -1              -1              -1   \n",
              "...            ...  ...             ...             ...             ...   \n",
              "3993         52.09  ...              -1              -1              -1   \n",
              "3994         90.00  ...              -1              -1              -1   \n",
              "3995         81.86  ...              -1              -1              -1   \n",
              "3996         78.72  ...             438              -1              -1   \n",
              "3997         70.60  ...              -1              -1              -1   \n",
              "\n",
              "     TelecomEngg  CivilEngg  conscientiousness agreeableness extraversion  \\\n",
              "0             -1         -1             0.9737        0.8128       0.5269   \n",
              "1             -1         -1            -0.7335        0.3789       1.2396   \n",
              "2             -1         -1             0.2718        1.7109       0.1637   \n",
              "3             -1         -1             0.0464        0.3448      -0.3440   \n",
              "4             -1         -1            -0.8810       -0.2793      -1.0697   \n",
              "...          ...        ...                ...           ...          ...   \n",
              "3993          -1         -1            -0.1082        0.3448       0.2366   \n",
              "3994          -1         -1            -0.3027        0.8784       0.9322   \n",
              "3995          -1         -1            -1.5765       -1.5273      -1.5051   \n",
              "3996          -1         -1            -0.1590        0.0459      -0.4511   \n",
              "3997          -1         -1            -1.1128       -0.2793      -0.6343   \n",
              "\n",
              "      nueroticism  openess_to_experience  \n",
              "0         1.35490                -0.4455  \n",
              "1        -0.10760                 0.8637  \n",
              "2        -0.86820                 0.6721  \n",
              "3        -0.40780                -0.9194  \n",
              "4         0.09163                -0.1295  \n",
              "...           ...                    ...  \n",
              "3993      0.64980                -0.9194  \n",
              "3994      0.77980                -0.0943  \n",
              "3995     -1.31840                -0.7615  \n",
              "3996     -0.36120                -0.0943  \n",
              "3997      1.32553                -0.6035  \n",
              "\n",
              "[3998 rows x 39 columns]"
            ],
            "text/html": [
              "\n",
              "  <div id=\"df-0cd971ed-3a19-4137-b10c-1beb8ec30109\" class=\"colab-df-container\">\n",
              "    <div>\n",
              "<style scoped>\n",
              "    .dataframe tbody tr th:only-of-type {\n",
              "        vertical-align: middle;\n",
              "    }\n",
              "\n",
              "    .dataframe tbody tr th {\n",
              "        vertical-align: top;\n",
              "    }\n",
              "\n",
              "    .dataframe thead th {\n",
              "        text-align: right;\n",
              "    }\n",
              "</style>\n",
              "<table border=\"1\" class=\"dataframe\">\n",
              "  <thead>\n",
              "    <tr style=\"text-align: right;\">\n",
              "      <th></th>\n",
              "      <th>travel_type</th>\n",
              "      <th>ID</th>\n",
              "      <th>Salary</th>\n",
              "      <th>DOJ</th>\n",
              "      <th>DOL</th>\n",
              "      <th>Designation</th>\n",
              "      <th>JobCity</th>\n",
              "      <th>Gender</th>\n",
              "      <th>DOB</th>\n",
              "      <th>10percentage</th>\n",
              "      <th>...</th>\n",
              "      <th>ComputerScience</th>\n",
              "      <th>MechanicalEngg</th>\n",
              "      <th>ElectricalEngg</th>\n",
              "      <th>TelecomEngg</th>\n",
              "      <th>CivilEngg</th>\n",
              "      <th>conscientiousness</th>\n",
              "      <th>agreeableness</th>\n",
              "      <th>extraversion</th>\n",
              "      <th>nueroticism</th>\n",
              "      <th>openess_to_experience</th>\n",
              "    </tr>\n",
              "  </thead>\n",
              "  <tbody>\n",
              "    <tr>\n",
              "      <th>0</th>\n",
              "      <td>train</td>\n",
              "      <td>203097</td>\n",
              "      <td>420000</td>\n",
              "      <td>2012-06-01</td>\n",
              "      <td>present</td>\n",
              "      <td>senior quality engineer</td>\n",
              "      <td>Bangalore</td>\n",
              "      <td>f</td>\n",
              "      <td>1990-02-19</td>\n",
              "      <td>84.30</td>\n",
              "      <td>...</td>\n",
              "      <td>-1</td>\n",
              "      <td>-1</td>\n",
              "      <td>-1</td>\n",
              "      <td>-1</td>\n",
              "      <td>-1</td>\n",
              "      <td>0.9737</td>\n",
              "      <td>0.8128</td>\n",
              "      <td>0.5269</td>\n",
              "      <td>1.35490</td>\n",
              "      <td>-0.4455</td>\n",
              "    </tr>\n",
              "    <tr>\n",
              "      <th>1</th>\n",
              "      <td>train</td>\n",
              "      <td>579905</td>\n",
              "      <td>500000</td>\n",
              "      <td>2013-09-01</td>\n",
              "      <td>present</td>\n",
              "      <td>assistant manager</td>\n",
              "      <td>Indore</td>\n",
              "      <td>m</td>\n",
              "      <td>1989-10-04</td>\n",
              "      <td>85.40</td>\n",
              "      <td>...</td>\n",
              "      <td>-1</td>\n",
              "      <td>-1</td>\n",
              "      <td>-1</td>\n",
              "      <td>-1</td>\n",
              "      <td>-1</td>\n",
              "      <td>-0.7335</td>\n",
              "      <td>0.3789</td>\n",
              "      <td>1.2396</td>\n",
              "      <td>-0.10760</td>\n",
              "      <td>0.8637</td>\n",
              "    </tr>\n",
              "    <tr>\n",
              "      <th>2</th>\n",
              "      <td>train</td>\n",
              "      <td>810601</td>\n",
              "      <td>325000</td>\n",
              "      <td>2014-06-01</td>\n",
              "      <td>present</td>\n",
              "      <td>systems engineer</td>\n",
              "      <td>Chennai</td>\n",
              "      <td>f</td>\n",
              "      <td>1992-08-03</td>\n",
              "      <td>85.00</td>\n",
              "      <td>...</td>\n",
              "      <td>-1</td>\n",
              "      <td>-1</td>\n",
              "      <td>-1</td>\n",
              "      <td>-1</td>\n",
              "      <td>-1</td>\n",
              "      <td>0.2718</td>\n",
              "      <td>1.7109</td>\n",
              "      <td>0.1637</td>\n",
              "      <td>-0.86820</td>\n",
              "      <td>0.6721</td>\n",
              "    </tr>\n",
              "    <tr>\n",
              "      <th>3</th>\n",
              "      <td>train</td>\n",
              "      <td>267447</td>\n",
              "      <td>1100000</td>\n",
              "      <td>2011-07-01</td>\n",
              "      <td>present</td>\n",
              "      <td>senior software engineer</td>\n",
              "      <td>Gurgaon</td>\n",
              "      <td>m</td>\n",
              "      <td>1989-12-05</td>\n",
              "      <td>85.60</td>\n",
              "      <td>...</td>\n",
              "      <td>-1</td>\n",
              "      <td>-1</td>\n",
              "      <td>-1</td>\n",
              "      <td>-1</td>\n",
              "      <td>-1</td>\n",
              "      <td>0.0464</td>\n",
              "      <td>0.3448</td>\n",
              "      <td>-0.3440</td>\n",
              "      <td>-0.40780</td>\n",
              "      <td>-0.9194</td>\n",
              "    </tr>\n",
              "    <tr>\n",
              "      <th>4</th>\n",
              "      <td>train</td>\n",
              "      <td>343523</td>\n",
              "      <td>200000</td>\n",
              "      <td>2014-03-01</td>\n",
              "      <td>2015-03-01 00:00:00</td>\n",
              "      <td>get</td>\n",
              "      <td>Manesar</td>\n",
              "      <td>m</td>\n",
              "      <td>1991-02-27</td>\n",
              "      <td>78.00</td>\n",
              "      <td>...</td>\n",
              "      <td>-1</td>\n",
              "      <td>-1</td>\n",
              "      <td>-1</td>\n",
              "      <td>-1</td>\n",
              "      <td>-1</td>\n",
              "      <td>-0.8810</td>\n",
              "      <td>-0.2793</td>\n",
              "      <td>-1.0697</td>\n",
              "      <td>0.09163</td>\n",
              "      <td>-0.1295</td>\n",
              "    </tr>\n",
              "    <tr>\n",
              "      <th>...</th>\n",
              "      <td>...</td>\n",
              "      <td>...</td>\n",
              "      <td>...</td>\n",
              "      <td>...</td>\n",
              "      <td>...</td>\n",
              "      <td>...</td>\n",
              "      <td>...</td>\n",
              "      <td>...</td>\n",
              "      <td>...</td>\n",
              "      <td>...</td>\n",
              "      <td>...</td>\n",
              "      <td>...</td>\n",
              "      <td>...</td>\n",
              "      <td>...</td>\n",
              "      <td>...</td>\n",
              "      <td>...</td>\n",
              "      <td>...</td>\n",
              "      <td>...</td>\n",
              "      <td>...</td>\n",
              "      <td>...</td>\n",
              "      <td>...</td>\n",
              "    </tr>\n",
              "    <tr>\n",
              "      <th>3993</th>\n",
              "      <td>train</td>\n",
              "      <td>47916</td>\n",
              "      <td>280000</td>\n",
              "      <td>2011-10-01</td>\n",
              "      <td>2012-10-01 00:00:00</td>\n",
              "      <td>software engineer</td>\n",
              "      <td>New Delhi</td>\n",
              "      <td>m</td>\n",
              "      <td>1987-04-15</td>\n",
              "      <td>52.09</td>\n",
              "      <td>...</td>\n",
              "      <td>-1</td>\n",
              "      <td>-1</td>\n",
              "      <td>-1</td>\n",
              "      <td>-1</td>\n",
              "      <td>-1</td>\n",
              "      <td>-0.1082</td>\n",
              "      <td>0.3448</td>\n",
              "      <td>0.2366</td>\n",
              "      <td>0.64980</td>\n",
              "      <td>-0.9194</td>\n",
              "    </tr>\n",
              "    <tr>\n",
              "      <th>3994</th>\n",
              "      <td>train</td>\n",
              "      <td>752781</td>\n",
              "      <td>100000</td>\n",
              "      <td>2013-07-01</td>\n",
              "      <td>2013-07-01 00:00:00</td>\n",
              "      <td>technical writer</td>\n",
              "      <td>Hyderabad</td>\n",
              "      <td>f</td>\n",
              "      <td>1992-08-27</td>\n",
              "      <td>90.00</td>\n",
              "      <td>...</td>\n",
              "      <td>-1</td>\n",
              "      <td>-1</td>\n",
              "      <td>-1</td>\n",
              "      <td>-1</td>\n",
              "      <td>-1</td>\n",
              "      <td>-0.3027</td>\n",
              "      <td>0.8784</td>\n",
              "      <td>0.9322</td>\n",
              "      <td>0.77980</td>\n",
              "      <td>-0.0943</td>\n",
              "    </tr>\n",
              "    <tr>\n",
              "      <th>3995</th>\n",
              "      <td>train</td>\n",
              "      <td>355888</td>\n",
              "      <td>320000</td>\n",
              "      <td>2013-07-01</td>\n",
              "      <td>present</td>\n",
              "      <td>associate software engineer</td>\n",
              "      <td>Bangalore</td>\n",
              "      <td>m</td>\n",
              "      <td>1991-07-03</td>\n",
              "      <td>81.86</td>\n",
              "      <td>...</td>\n",
              "      <td>-1</td>\n",
              "      <td>-1</td>\n",
              "      <td>-1</td>\n",
              "      <td>-1</td>\n",
              "      <td>-1</td>\n",
              "      <td>-1.5765</td>\n",
              "      <td>-1.5273</td>\n",
              "      <td>-1.5051</td>\n",
              "      <td>-1.31840</td>\n",
              "      <td>-0.7615</td>\n",
              "    </tr>\n",
              "    <tr>\n",
              "      <th>3996</th>\n",
              "      <td>train</td>\n",
              "      <td>947111</td>\n",
              "      <td>200000</td>\n",
              "      <td>2014-07-01</td>\n",
              "      <td>2015-01-01 00:00:00</td>\n",
              "      <td>software developer</td>\n",
              "      <td>Asifabadbanglore</td>\n",
              "      <td>f</td>\n",
              "      <td>1992-03-20</td>\n",
              "      <td>78.72</td>\n",
              "      <td>...</td>\n",
              "      <td>438</td>\n",
              "      <td>-1</td>\n",
              "      <td>-1</td>\n",
              "      <td>-1</td>\n",
              "      <td>-1</td>\n",
              "      <td>-0.1590</td>\n",
              "      <td>0.0459</td>\n",
              "      <td>-0.4511</td>\n",
              "      <td>-0.36120</td>\n",
              "      <td>-0.0943</td>\n",
              "    </tr>\n",
              "    <tr>\n",
              "      <th>3997</th>\n",
              "      <td>train</td>\n",
              "      <td>324966</td>\n",
              "      <td>400000</td>\n",
              "      <td>2013-02-01</td>\n",
              "      <td>present</td>\n",
              "      <td>senior systems engineer</td>\n",
              "      <td>Chennai</td>\n",
              "      <td>f</td>\n",
              "      <td>1991-02-26</td>\n",
              "      <td>70.60</td>\n",
              "      <td>...</td>\n",
              "      <td>-1</td>\n",
              "      <td>-1</td>\n",
              "      <td>-1</td>\n",
              "      <td>-1</td>\n",
              "      <td>-1</td>\n",
              "      <td>-1.1128</td>\n",
              "      <td>-0.2793</td>\n",
              "      <td>-0.6343</td>\n",
              "      <td>1.32553</td>\n",
              "      <td>-0.6035</td>\n",
              "    </tr>\n",
              "  </tbody>\n",
              "</table>\n",
              "<p>3998 rows × 39 columns</p>\n",
              "</div>\n",
              "    <div class=\"colab-df-buttons\">\n",
              "\n",
              "  <div class=\"colab-df-container\">\n",
              "    <button class=\"colab-df-convert\" onclick=\"convertToInteractive('df-0cd971ed-3a19-4137-b10c-1beb8ec30109')\"\n",
              "            title=\"Convert this dataframe to an interactive table.\"\n",
              "            style=\"display:none;\">\n",
              "\n",
              "  <svg xmlns=\"http://www.w3.org/2000/svg\" height=\"24px\" viewBox=\"0 -960 960 960\">\n",
              "    <path d=\"M120-120v-720h720v720H120Zm60-500h600v-160H180v160Zm220 220h160v-160H400v160Zm0 220h160v-160H400v160ZM180-400h160v-160H180v160Zm440 0h160v-160H620v160ZM180-180h160v-160H180v160Zm440 0h160v-160H620v160Z\"/>\n",
              "  </svg>\n",
              "    </button>\n",
              "\n",
              "  <style>\n",
              "    .colab-df-container {\n",
              "      display:flex;\n",
              "      gap: 12px;\n",
              "    }\n",
              "\n",
              "    .colab-df-convert {\n",
              "      background-color: #E8F0FE;\n",
              "      border: none;\n",
              "      border-radius: 50%;\n",
              "      cursor: pointer;\n",
              "      display: none;\n",
              "      fill: #1967D2;\n",
              "      height: 32px;\n",
              "      padding: 0 0 0 0;\n",
              "      width: 32px;\n",
              "    }\n",
              "\n",
              "    .colab-df-convert:hover {\n",
              "      background-color: #E2EBFA;\n",
              "      box-shadow: 0px 1px 2px rgba(60, 64, 67, 0.3), 0px 1px 3px 1px rgba(60, 64, 67, 0.15);\n",
              "      fill: #174EA6;\n",
              "    }\n",
              "\n",
              "    .colab-df-buttons div {\n",
              "      margin-bottom: 4px;\n",
              "    }\n",
              "\n",
              "    [theme=dark] .colab-df-convert {\n",
              "      background-color: #3B4455;\n",
              "      fill: #D2E3FC;\n",
              "    }\n",
              "\n",
              "    [theme=dark] .colab-df-convert:hover {\n",
              "      background-color: #434B5C;\n",
              "      box-shadow: 0px 1px 3px 1px rgba(0, 0, 0, 0.15);\n",
              "      filter: drop-shadow(0px 1px 2px rgba(0, 0, 0, 0.3));\n",
              "      fill: #FFFFFF;\n",
              "    }\n",
              "  </style>\n",
              "\n",
              "    <script>\n",
              "      const buttonEl =\n",
              "        document.querySelector('#df-0cd971ed-3a19-4137-b10c-1beb8ec30109 button.colab-df-convert');\n",
              "      buttonEl.style.display =\n",
              "        google.colab.kernel.accessAllowed ? 'block' : 'none';\n",
              "\n",
              "      async function convertToInteractive(key) {\n",
              "        const element = document.querySelector('#df-0cd971ed-3a19-4137-b10c-1beb8ec30109');\n",
              "        const dataTable =\n",
              "          await google.colab.kernel.invokeFunction('convertToInteractive',\n",
              "                                                    [key], {});\n",
              "        if (!dataTable) return;\n",
              "\n",
              "        const docLinkHtml = 'Like what you see? Visit the ' +\n",
              "          '<a target=\"_blank\" href=https://colab.research.google.com/notebooks/data_table.ipynb>data table notebook</a>'\n",
              "          + ' to learn more about interactive tables.';\n",
              "        element.innerHTML = '';\n",
              "        dataTable['output_type'] = 'display_data';\n",
              "        await google.colab.output.renderOutput(dataTable, element);\n",
              "        const docLink = document.createElement('div');\n",
              "        docLink.innerHTML = docLinkHtml;\n",
              "        element.appendChild(docLink);\n",
              "      }\n",
              "    </script>\n",
              "  </div>\n",
              "\n",
              "\n",
              "<div id=\"df-56036ef0-0228-418f-805f-b5310c257747\">\n",
              "  <button class=\"colab-df-quickchart\" onclick=\"quickchart('df-56036ef0-0228-418f-805f-b5310c257747')\"\n",
              "            title=\"Suggest charts\"\n",
              "            style=\"display:none;\">\n",
              "\n",
              "<svg xmlns=\"http://www.w3.org/2000/svg\" height=\"24px\"viewBox=\"0 0 24 24\"\n",
              "     width=\"24px\">\n",
              "    <g>\n",
              "        <path d=\"M19 3H5c-1.1 0-2 .9-2 2v14c0 1.1.9 2 2 2h14c1.1 0 2-.9 2-2V5c0-1.1-.9-2-2-2zM9 17H7v-7h2v7zm4 0h-2V7h2v10zm4 0h-2v-4h2v4z\"/>\n",
              "    </g>\n",
              "</svg>\n",
              "  </button>\n",
              "\n",
              "<style>\n",
              "  .colab-df-quickchart {\n",
              "      --bg-color: #E8F0FE;\n",
              "      --fill-color: #1967D2;\n",
              "      --hover-bg-color: #E2EBFA;\n",
              "      --hover-fill-color: #174EA6;\n",
              "      --disabled-fill-color: #AAA;\n",
              "      --disabled-bg-color: #DDD;\n",
              "  }\n",
              "\n",
              "  [theme=dark] .colab-df-quickchart {\n",
              "      --bg-color: #3B4455;\n",
              "      --fill-color: #D2E3FC;\n",
              "      --hover-bg-color: #434B5C;\n",
              "      --hover-fill-color: #FFFFFF;\n",
              "      --disabled-bg-color: #3B4455;\n",
              "      --disabled-fill-color: #666;\n",
              "  }\n",
              "\n",
              "  .colab-df-quickchart {\n",
              "    background-color: var(--bg-color);\n",
              "    border: none;\n",
              "    border-radius: 50%;\n",
              "    cursor: pointer;\n",
              "    display: none;\n",
              "    fill: var(--fill-color);\n",
              "    height: 32px;\n",
              "    padding: 0;\n",
              "    width: 32px;\n",
              "  }\n",
              "\n",
              "  .colab-df-quickchart:hover {\n",
              "    background-color: var(--hover-bg-color);\n",
              "    box-shadow: 0 1px 2px rgba(60, 64, 67, 0.3), 0 1px 3px 1px rgba(60, 64, 67, 0.15);\n",
              "    fill: var(--button-hover-fill-color);\n",
              "  }\n",
              "\n",
              "  .colab-df-quickchart-complete:disabled,\n",
              "  .colab-df-quickchart-complete:disabled:hover {\n",
              "    background-color: var(--disabled-bg-color);\n",
              "    fill: var(--disabled-fill-color);\n",
              "    box-shadow: none;\n",
              "  }\n",
              "\n",
              "  .colab-df-spinner {\n",
              "    border: 2px solid var(--fill-color);\n",
              "    border-color: transparent;\n",
              "    border-bottom-color: var(--fill-color);\n",
              "    animation:\n",
              "      spin 1s steps(1) infinite;\n",
              "  }\n",
              "\n",
              "  @keyframes spin {\n",
              "    0% {\n",
              "      border-color: transparent;\n",
              "      border-bottom-color: var(--fill-color);\n",
              "      border-left-color: var(--fill-color);\n",
              "    }\n",
              "    20% {\n",
              "      border-color: transparent;\n",
              "      border-left-color: var(--fill-color);\n",
              "      border-top-color: var(--fill-color);\n",
              "    }\n",
              "    30% {\n",
              "      border-color: transparent;\n",
              "      border-left-color: var(--fill-color);\n",
              "      border-top-color: var(--fill-color);\n",
              "      border-right-color: var(--fill-color);\n",
              "    }\n",
              "    40% {\n",
              "      border-color: transparent;\n",
              "      border-right-color: var(--fill-color);\n",
              "      border-top-color: var(--fill-color);\n",
              "    }\n",
              "    60% {\n",
              "      border-color: transparent;\n",
              "      border-right-color: var(--fill-color);\n",
              "    }\n",
              "    80% {\n",
              "      border-color: transparent;\n",
              "      border-right-color: var(--fill-color);\n",
              "      border-bottom-color: var(--fill-color);\n",
              "    }\n",
              "    90% {\n",
              "      border-color: transparent;\n",
              "      border-bottom-color: var(--fill-color);\n",
              "    }\n",
              "  }\n",
              "</style>\n",
              "\n",
              "  <script>\n",
              "    async function quickchart(key) {\n",
              "      const quickchartButtonEl =\n",
              "        document.querySelector('#' + key + ' button');\n",
              "      quickchartButtonEl.disabled = true;  // To prevent multiple clicks.\n",
              "      quickchartButtonEl.classList.add('colab-df-spinner');\n",
              "      try {\n",
              "        const charts = await google.colab.kernel.invokeFunction(\n",
              "            'suggestCharts', [key], {});\n",
              "      } catch (error) {\n",
              "        console.error('Error during call to suggestCharts:', error);\n",
              "      }\n",
              "      quickchartButtonEl.classList.remove('colab-df-spinner');\n",
              "      quickchartButtonEl.classList.add('colab-df-quickchart-complete');\n",
              "    }\n",
              "    (() => {\n",
              "      let quickchartButtonEl =\n",
              "        document.querySelector('#df-56036ef0-0228-418f-805f-b5310c257747 button');\n",
              "      quickchartButtonEl.style.display =\n",
              "        google.colab.kernel.accessAllowed ? 'block' : 'none';\n",
              "    })();\n",
              "  </script>\n",
              "</div>\n",
              "\n",
              "  <div id=\"id_c39f59e0-2d3a-4da3-bc5d-e61d02585e10\">\n",
              "    <style>\n",
              "      .colab-df-generate {\n",
              "        background-color: #E8F0FE;\n",
              "        border: none;\n",
              "        border-radius: 50%;\n",
              "        cursor: pointer;\n",
              "        display: none;\n",
              "        fill: #1967D2;\n",
              "        height: 32px;\n",
              "        padding: 0 0 0 0;\n",
              "        width: 32px;\n",
              "      }\n",
              "\n",
              "      .colab-df-generate:hover {\n",
              "        background-color: #E2EBFA;\n",
              "        box-shadow: 0px 1px 2px rgba(60, 64, 67, 0.3), 0px 1px 3px 1px rgba(60, 64, 67, 0.15);\n",
              "        fill: #174EA6;\n",
              "      }\n",
              "\n",
              "      [theme=dark] .colab-df-generate {\n",
              "        background-color: #3B4455;\n",
              "        fill: #D2E3FC;\n",
              "      }\n",
              "\n",
              "      [theme=dark] .colab-df-generate:hover {\n",
              "        background-color: #434B5C;\n",
              "        box-shadow: 0px 1px 3px 1px rgba(0, 0, 0, 0.15);\n",
              "        filter: drop-shadow(0px 1px 2px rgba(0, 0, 0, 0.3));\n",
              "        fill: #FFFFFF;\n",
              "      }\n",
              "    </style>\n",
              "    <button class=\"colab-df-generate\" onclick=\"generateWithVariable('df')\"\n",
              "            title=\"Generate code using this dataframe.\"\n",
              "            style=\"display:none;\">\n",
              "\n",
              "  <svg xmlns=\"http://www.w3.org/2000/svg\" height=\"24px\"viewBox=\"0 0 24 24\"\n",
              "       width=\"24px\">\n",
              "    <path d=\"M7,19H8.4L18.45,9,17,7.55,7,17.6ZM5,21V16.75L18.45,3.32a2,2,0,0,1,2.83,0l1.4,1.43a1.91,1.91,0,0,1,.58,1.4,1.91,1.91,0,0,1-.58,1.4L9.25,21ZM18.45,9,17,7.55Zm-12,3A5.31,5.31,0,0,0,4.9,8.1,5.31,5.31,0,0,0,1,6.5,5.31,5.31,0,0,0,4.9,4.9,5.31,5.31,0,0,0,6.5,1,5.31,5.31,0,0,0,8.1,4.9,5.31,5.31,0,0,0,12,6.5,5.46,5.46,0,0,0,6.5,12Z\"/>\n",
              "  </svg>\n",
              "    </button>\n",
              "    <script>\n",
              "      (() => {\n",
              "      const buttonEl =\n",
              "        document.querySelector('#id_c39f59e0-2d3a-4da3-bc5d-e61d02585e10 button.colab-df-generate');\n",
              "      buttonEl.style.display =\n",
              "        google.colab.kernel.accessAllowed ? 'block' : 'none';\n",
              "\n",
              "      buttonEl.onclick = () => {\n",
              "        google.colab.notebook.generateWithVariable('df');\n",
              "      }\n",
              "      })();\n",
              "    </script>\n",
              "  </div>\n",
              "\n",
              "    </div>\n",
              "  </div>\n"
            ],
            "application/vnd.google.colaboratory.intrinsic+json": {
              "type": "dataframe",
              "variable_name": "df"
            }
          },
          "metadata": {}
        }
      ],
      "source": [
        "display(df)"
      ]
    },
    {
      "cell_type": "code",
      "source": [
        "claimed_salary_range = (250000, 300000)\n",
        "relevant_job_titles = ['programming analyst', 'software engineer', 'hardware engineer', 'associate engineer']\n",
        "relevant_data = df[df['Designation'].str.lower().isin(map(str.lower, relevant_job_titles))]\n",
        "average_salary = relevant_data.groupby(relevant_data['Designation'].str.lower())['Salary'].mean()  #\n",
        "salary_results = pd.DataFrame({\n",
        "    'Designation': average_salary.index,\n",
        "    'Average Salary (INR)': average_salary.values\n",
        "})\n",
        "\n",
        "salary_results['Claim Test Result'] = salary_results['Average Salary (INR)'].apply(\n",
        "    lambda x: 'Claim is supported' if claimed_salary_range[0] <= x <= claimed_salary_range[1] else 'Claim is not supported'\n",
        ")\n",
        "\n",
        "print(salary_results)"
      ],
      "metadata": {
        "colab": {
          "base_uri": "https://localhost:8080/"
        },
        "id": "RWUHlgMtGb-m",
        "outputId": "6390ed58-9d3b-4c71-d393-35685a970d34"
      },
      "execution_count": 7,
      "outputs": [
        {
          "output_type": "stream",
          "name": "stdout",
          "text": [
            "          Designation  Average Salary (INR)       Claim Test Result\n",
            "0  associate engineer         290000.000000      Claim is supported\n",
            "1   hardware engineer         281250.000000      Claim is supported\n",
            "2   software engineer         341215.213358  Claim is not supported\n"
          ]
        }
      ]
    },
    {
      "cell_type": "code",
      "source": [
        "plt.figure(figsize=(10, 6))\n",
        "plt.bar(salary_results['Designation'], salary_results['Average Salary (INR)'], color='skyblue')\n",
        "plt.xlabel('Designation')\n",
        "plt.ylabel('Average Salary (INR)')\n",
        "plt.title('Average Salary for Relevant Job Titles')\n",
        "plt.xticks(rotation=45)\n",
        "plt.axhline(y=claimed_salary_range[0], color='r', linestyle='--', label='Claimed Salary Range')\n",
        "plt.axhline(y=claimed_salary_range[1], color='r', linestyle='--')\n",
        "plt.legend()\n",
        "plt.tight_layout()\n",
        "plt.show()"
      ],
      "metadata": {
        "colab": {
          "base_uri": "https://localhost:8080/",
          "height": 607
        },
        "id": "uefw9o6wRWEb",
        "outputId": "6f49a96d-1421-40dd-c302-c1f7ed57de24"
      },
      "execution_count": 8,
      "outputs": [
        {
          "output_type": "display_data",
          "data": {
            "text/plain": [
              "<Figure size 1000x600 with 1 Axes>"
            ],
            "image/png": "[encoded data removed]"
          },
          "metadata": {}
        }
      ]
    },
    {
      "cell_type": "code",
      "source": [
        "from scipy.stats import chi2_contingency\n",
        "\n",
        "contingency_table = pd.crosstab(df['Gender'], df['Specialization'])\n",
        "\n",
        "chi2, p_value, dof, expected = chi2_contingency(contingency_table)\n",
        "\n",
        "alpha = 0.05\n",
        "if p_value < alpha:\n",
        "    print(\"There is a significant relationship between gender and specialization.\")\n",
        "else:\n",
        "    print(\"There is no significant relationship between gender and specialization.\")\n"
      ],
      "metadata": {
        "colab": {
          "base_uri": "https://localhost:8080/"
        },
        "id": "MGiZhSm8RlFo",
        "outputId": "c9aff0f3-be21-4c03-c812-c9824a1a2d9c"
      },
      "execution_count": 9,
      "outputs": [
        {
          "output_type": "stream",
          "name": "stdout",
          "text": [
            "There is a significant relationship between gender and specialization.\n"
          ]
        }
      ]
    },
    {
      "cell_type": "code",
      "source": [
        "df[df['Designation'] == 'hardware engineer']"
      ],
      "metadata": {
        "colab": {
          "base_uri": "https://localhost:8080/",
          "height": 489
        },
        "id": "Epcag61RHhZR",
        "outputId": "a2994a53-31fc-4b47-b6d3-727d6a2677f7"
      },
      "execution_count": 17,
      "outputs": [
        {
          "output_type": "execute_result",
          "data": {
            "text/plain": [
              "     travel_type       ID  Salary        DOJ                  DOL  \\\n",
              "197        train  1001099  240000 2014-09-01              present   \n",
              "802        train  1077576  450000 2014-02-01              present   \n",
              "839        train   693533  315000 2013-08-01  2015-02-01 00:00:00   \n",
              "1886       train   354739  105000 2014-03-01  2015-04-01 00:00:00   \n",
              "2070       train   555964  180000 2014-05-01              present   \n",
              "2533       train   909998  400000 2014-07-01  2015-05-01 00:00:00   \n",
              "3438       train   341274  400000 2013-10-01              present   \n",
              "3547       train   212076  160000 2014-01-01              present   \n",
              "\n",
              "            Designation     JobCity Gender        DOB  10percentage  ...  \\\n",
              "197   hardware engineer     chennai      m 1993-06-06         81.00  ...   \n",
              "802   hardware engineer   Bangalore      m 1991-07-26         83.30  ...   \n",
              "839   hardware engineer      Mumbai      m 1989-10-02         78.80  ...   \n",
              "1886  hardware engineer   Bangalore      m 1988-08-12         56.00  ...   \n",
              "2070  hardware engineer   Bangalore      f 1991-10-18         86.40  ...   \n",
              "2533  hardware engineer  Coimbatore      f 1993-02-11         88.00  ...   \n",
              "3438  hardware engineer          -1      m 1990-12-08         90.58  ...   \n",
              "3547  hardware engineer      Mumbai      m 1989-02-25         55.33  ...   \n",
              "\n",
              "     ComputerScience  MechanicalEngg  ElectricalEngg TelecomEngg  CivilEngg  \\\n",
              "197               -1              -1             580          -1         -1   \n",
              "802               -1              -1              -1          -1         -1   \n",
              "839               -1              -1              -1         366         -1   \n",
              "1886              -1              -1              -1          -1         -1   \n",
              "2070              -1              -1              -1          -1         -1   \n",
              "2533              -1              -1              -1          -1         -1   \n",
              "3438              -1              -1              -1          -1         -1   \n",
              "3547              -1              -1              -1          -1         -1   \n",
              "\n",
              "      conscientiousness agreeableness extraversion  nueroticism  \\\n",
              "197              0.1282       -0.6201       0.0100      0.77980   \n",
              "802             -0.0154       -0.6201       0.3174     -1.50210   \n",
              "839              0.2718        1.2114       0.1637     -0.99500   \n",
              "1886            -1.8083        0.3838       0.2729      0.17980   \n",
              "2070             0.4155        0.5454      -1.0659      0.27270   \n",
              "2533             0.1282        0.8784       0.4711     -1.50210   \n",
              "3438             0.1623        0.6568      -0.4891     -1.14217   \n",
              "3547            -0.2628        0.0328       0.8171      0.53230   \n",
              "\n",
              "      openess_to_experience  \n",
              "197                 -0.8608  \n",
              "802                 -1.8189  \n",
              "839                  0.4805  \n",
              "1886                -0.1295  \n",
              "2070                 1.0554  \n",
              "2533                -0.0943  \n",
              "3438                -0.4455  \n",
              "3547                -0.2875  \n",
              "\n",
              "[8 rows x 39 columns]"
            ],
            "text/html": [
              "\n",
              "  <div id=\"df-dbd75822-f088-4f80-bf6f-8ab1459c6131\" class=\"colab-df-container\">\n",
              "    <div>\n",
              "<style scoped>\n",
              "    .dataframe tbody tr th:only-of-type {\n",
              "        vertical-align: middle;\n",
              "    }\n",
              "\n",
              "    .dataframe tbody tr th {\n",
              "        vertical-align: top;\n",
              "    }\n",
              "\n",
              "    .dataframe thead th {\n",
              "        text-align: right;\n",
              "    }\n",
              "</style>\n",
              "<table border=\"1\" class=\"dataframe\">\n",
              "  <thead>\n",
              "    <tr style=\"text-align: right;\">\n",
              "      <th></th>\n",
              "      <th>travel_type</th>\n",
              "      <th>ID</th>\n",
              "      <th>Salary</th>\n",
              "      <th>DOJ</th>\n",
              "      <th>DOL</th>\n",
              "      <th>Designation</th>\n",
              "      <th>JobCity</th>\n",
              "      <th>Gender</th>\n",
              "      <th>DOB</th>\n",
              "      <th>10percentage</th>\n",
              "      <th>...</th>\n",
              "      <th>ComputerScience</th>\n",
              "      <th>MechanicalEngg</th>\n",
              "      <th>ElectricalEngg</th>\n",
              "      <th>TelecomEngg</th>\n",
              "      <th>CivilEngg</th>\n",
              "      <th>conscientiousness</th>\n",
              "      <th>agreeableness</th>\n",
              "      <th>extraversion</th>\n",
              "      <th>nueroticism</th>\n",
              "      <th>openess_to_experience</th>\n",
              "    </tr>\n",
              "  </thead>\n",
              "  <tbody>\n",
              "    <tr>\n",
              "      <th>197</th>\n",
              "      <td>train</td>\n",
              "      <td>1001099</td>\n",
              "      <td>240000</td>\n",
              "      <td>2014-09-01</td>\n",
              "      <td>present</td>\n",
              "      <td>hardware engineer</td>\n",
              "      <td>chennai</td>\n",
              "      <td>m</td>\n",
              "      <td>1993-06-06</td>\n",
              "      <td>81.00</td>\n",
              "      <td>...</td>\n",
              "      <td>-1</td>\n",
              "      <td>-1</td>\n",
              "      <td>580</td>\n",
              "      <td>-1</td>\n",
              "      <td>-1</td>\n",
              "      <td>0.1282</td>\n",
              "      <td>-0.6201</td>\n",
              "      <td>0.0100</td>\n",
              "      <td>0.77980</td>\n",
              "      <td>-0.8608</td>\n",
              "    </tr>\n",
              "    <tr>\n",
              "      <th>802</th>\n",
              "      <td>train</td>\n",
              "      <td>1077576</td>\n",
              "      <td>450000</td>\n",
              "      <td>2014-02-01</td>\n",
              "      <td>present</td>\n",
              "      <td>hardware engineer</td>\n",
              "      <td>Bangalore</td>\n",
              "      <td>m</td>\n",
              "      <td>1991-07-26</td>\n",
              "      <td>83.30</td>\n",
              "      <td>...</td>\n",
              "      <td>-1</td>\n",
              "      <td>-1</td>\n",
              "      <td>-1</td>\n",
              "      <td>-1</td>\n",
              "      <td>-1</td>\n",
              "      <td>-0.0154</td>\n",
              "      <td>-0.6201</td>\n",
              "      <td>0.3174</td>\n",
              "      <td>-1.50210</td>\n",
              "      <td>-1.8189</td>\n",
              "    </tr>\n",
              "    <tr>\n",
              "      <th>839</th>\n",
              "      <td>train</td>\n",
              "      <td>693533</td>\n",
              "      <td>315000</td>\n",
              "      <td>2013-08-01</td>\n",
              "      <td>2015-02-01 00:00:00</td>\n",
              "      <td>hardware engineer</td>\n",
              "      <td>Mumbai</td>\n",
              "      <td>m</td>\n",
              "      <td>1989-10-02</td>\n",
              "      <td>78.80</td>\n",
              "      <td>...</td>\n",
              "      <td>-1</td>\n",
              "      <td>-1</td>\n",
              "      <td>-1</td>\n",
              "      <td>366</td>\n",
              "      <td>-1</td>\n",
              "      <td>0.2718</td>\n",
              "      <td>1.2114</td>\n",
              "      <td>0.1637</td>\n",
              "      <td>-0.99500</td>\n",
              "      <td>0.4805</td>\n",
              "    </tr>\n",
              "    <tr>\n",
              "      <th>1886</th>\n",
              "      <td>train</td>\n",
              "      <td>354739</td>\n",
              "      <td>105000</td>\n",
              "      <td>2014-03-01</td>\n",
              "      <td>2015-04-01 00:00:00</td>\n",
              "      <td>hardware engineer</td>\n",
              "      <td>Bangalore</td>\n",
              "      <td>m</td>\n",
              "      <td>1988-08-12</td>\n",
              "      <td>56.00</td>\n",
              "      <td>...</td>\n",
              "      <td>-1</td>\n",
              "      <td>-1</td>\n",
              "      <td>-1</td>\n",
              "      <td>-1</td>\n",
              "      <td>-1</td>\n",
              "      <td>-1.8083</td>\n",
              "      <td>0.3838</td>\n",
              "      <td>0.2729</td>\n",
              "      <td>0.17980</td>\n",
              "      <td>-0.1295</td>\n",
              "    </tr>\n",
              "    <tr>\n",
              "      <th>2070</th>\n",
              "      <td>train</td>\n",
              "      <td>555964</td>\n",
              "      <td>180000</td>\n",
              "      <td>2014-05-01</td>\n",
              "      <td>present</td>\n",
              "      <td>hardware engineer</td>\n",
              "      <td>Bangalore</td>\n",
              "      <td>f</td>\n",
              "      <td>1991-10-18</td>\n",
              "      <td>86.40</td>\n",
              "      <td>...</td>\n",
              "      <td>-1</td>\n",
              "      <td>-1</td>\n",
              "      <td>-1</td>\n",
              "      <td>-1</td>\n",
              "      <td>-1</td>\n",
              "      <td>0.4155</td>\n",
              "      <td>0.5454</td>\n",
              "      <td>-1.0659</td>\n",
              "      <td>0.27270</td>\n",
              "      <td>1.0554</td>\n",
              "    </tr>\n",
              "    <tr>\n",
              "      <th>2533</th>\n",
              "      <td>train</td>\n",
              "      <td>909998</td>\n",
              "      <td>400000</td>\n",
              "      <td>2014-07-01</td>\n",
              "      <td>2015-05-01 00:00:00</td>\n",
              "      <td>hardware engineer</td>\n",
              "      <td>Coimbatore</td>\n",
              "      <td>f</td>\n",
              "      <td>1993-02-11</td>\n",
              "      <td>88.00</td>\n",
              "      <td>...</td>\n",
              "      <td>-1</td>\n",
              "      <td>-1</td>\n",
              "      <td>-1</td>\n",
              "      <td>-1</td>\n",
              "      <td>-1</td>\n",
              "      <td>0.1282</td>\n",
              "      <td>0.8784</td>\n",
              "      <td>0.4711</td>\n",
              "      <td>-1.50210</td>\n",
              "      <td>-0.0943</td>\n",
              "    </tr>\n",
              "    <tr>\n",
              "      <th>3438</th>\n",
              "      <td>train</td>\n",
              "      <td>341274</td>\n",
              "      <td>400000</td>\n",
              "      <td>2013-10-01</td>\n",
              "      <td>present</td>\n",
              "      <td>hardware engineer</td>\n",
              "      <td>-1</td>\n",
              "      <td>m</td>\n",
              "      <td>1990-12-08</td>\n",
              "      <td>90.58</td>\n",
              "      <td>...</td>\n",
              "      <td>-1</td>\n",
              "      <td>-1</td>\n",
              "      <td>-1</td>\n",
              "      <td>-1</td>\n",
              "      <td>-1</td>\n",
              "      <td>0.1623</td>\n",
              "      <td>0.6568</td>\n",
              "      <td>-0.4891</td>\n",
              "      <td>-1.14217</td>\n",
              "      <td>-0.4455</td>\n",
              "    </tr>\n",
              "    <tr>\n",
              "      <th>3547</th>\n",
              "      <td>train</td>\n",
              "      <td>212076</td>\n",
              "      <td>160000</td>\n",
              "      <td>2014-01-01</td>\n",
              "      <td>present</td>\n",
              "      <td>hardware engineer</td>\n",
              "      <td>Mumbai</td>\n",
              "      <td>m</td>\n",
              "      <td>1989-02-25</td>\n",
              "      <td>55.33</td>\n",
              "      <td>...</td>\n",
              "      <td>-1</td>\n",
              "      <td>-1</td>\n",
              "      <td>-1</td>\n",
              "      <td>-1</td>\n",
              "      <td>-1</td>\n",
              "      <td>-0.2628</td>\n",
              "      <td>0.0328</td>\n",
              "      <td>0.8171</td>\n",
              "      <td>0.53230</td>\n",
              "      <td>-0.2875</td>\n",
              "    </tr>\n",
              "  </tbody>\n",
              "</table>\n",
              "<p>8 rows × 39 columns</p>\n",
              "</div>\n",
              "    <div class=\"colab-df-buttons\">\n",
              "\n",
              "  <div class=\"colab-df-container\">\n",
              "    <button class=\"colab-df-convert\" onclick=\"convertToInteractive('df-dbd75822-f088-4f80-bf6f-8ab1459c6131')\"\n",
              "            title=\"Convert this dataframe to an interactive table.\"\n",
              "            style=\"display:none;\">\n",
              "\n",
              "  <svg xmlns=\"http://www.w3.org/2000/svg\" height=\"24px\" viewBox=\"0 -960 960 960\">\n",
              "    <path d=\"M120-120v-720h720v720H120Zm60-500h600v-160H180v160Zm220 220h160v-160H400v160Zm0 220h160v-160H400v160ZM180-400h160v-160H180v160Zm440 0h160v-160H620v160ZM180-180h160v-160H180v160Zm440 0h160v-160H620v160Z\"/>\n",
              "  </svg>\n",
              "    </button>\n",
              "\n",
              "  <style>\n",
              "    .colab-df-container {\n",
              "      display:flex;\n",
              "      gap: 12px;\n",
              "    }\n",
              "\n",
              "    .colab-df-convert {\n",
              "      background-color: #E8F0FE;\n",
              "      border: none;\n",
              "      border-radius: 50%;\n",
              "      cursor: pointer;\n",
              "      display: none;\n",
              "      fill: #1967D2;\n",
              "      height: 32px;\n",
              "      padding: 0 0 0 0;\n",
              "      width: 32px;\n",
              "    }\n",
              "\n",
              "    .colab-df-convert:hover {\n",
              "      background-color: #E2EBFA;\n",
              "      box-shadow: 0px 1px 2px rgba(60, 64, 67, 0.3), 0px 1px 3px 1px rgba(60, 64, 67, 0.15);\n",
              "      fill: #174EA6;\n",
              "    }\n",
              "\n",
              "    .colab-df-buttons div {\n",
              "      margin-bottom: 4px;\n",
              "    }\n",
              "\n",
              "    [theme=dark] .colab-df-convert {\n",
              "      background-color: #3B4455;\n",
              "      fill: #D2E3FC;\n",
              "    }\n",
              "\n",
              "    [theme=dark] .colab-df-convert:hover {\n",
              "      background-color: #434B5C;\n",
              "      box-shadow: 0px 1px 3px 1px rgba(0, 0, 0, 0.15);\n",
              "      filter: drop-shadow(0px 1px 2px rgba(0, 0, 0, 0.3));\n",
              "      fill: #FFFFFF;\n",
              "    }\n",
              "  </style>\n",
              "\n",
              "    <script>\n",
              "      const buttonEl =\n",
              "        document.querySelector('#df-dbd75822-f088-4f80-bf6f-8ab1459c6131 button.colab-df-convert');\n",
              "      buttonEl.style.display =\n",
              "        google.colab.kernel.accessAllowed ? 'block' : 'none';\n",
              "\n",
              "      async function convertToInteractive(key) {\n",
              "        const element = document.querySelector('#df-dbd75822-f088-4f80-bf6f-8ab1459c6131');\n",
              "        const dataTable =\n",
              "          await google.colab.kernel.invokeFunction('convertToInteractive',\n",
              "                                                    [key], {});\n",
              "        if (!dataTable) return;\n",
              "\n",
              "        const docLinkHtml = 'Like what you see? Visit the ' +\n",
              "          '<a target=\"_blank\" href=https://colab.research.google.com/notebooks/data_table.ipynb>data table notebook</a>'\n",
              "          + ' to learn more about interactive tables.';\n",
              "        element.innerHTML = '';\n",
              "        dataTable['output_type'] = 'display_data';\n",
              "        await google.colab.output.renderOutput(dataTable, element);\n",
              "        const docLink = document.createElement('div');\n",
              "        docLink.innerHTML = docLinkHtml;\n",
              "        element.appendChild(docLink);\n",
              "      }\n",
              "    </script>\n",
              "  </div>\n",
              "\n",
              "\n",
              "<div id=\"df-3dd116a6-bce0-4049-aeb7-55424b25b5f0\">\n",
              "  <button class=\"colab-df-quickchart\" onclick=\"quickchart('df-3dd116a6-bce0-4049-aeb7-55424b25b5f0')\"\n",
              "            title=\"Suggest charts\"\n",
              "            style=\"display:none;\">\n",
              "\n",
              "<svg xmlns=\"http://www.w3.org/2000/svg\" height=\"24px\"viewBox=\"0 0 24 24\"\n",
              "     width=\"24px\">\n",
              "    <g>\n",
              "        <path d=\"M19 3H5c-1.1 0-2 .9-2 2v14c0 1.1.9 2 2 2h14c1.1 0 2-.9 2-2V5c0-1.1-.9-2-2-2zM9 17H7v-7h2v7zm4 0h-2V7h2v10zm4 0h-2v-4h2v4z\"/>\n",
              "    </g>\n",
              "</svg>\n",
              "  </button>\n",
              "\n",
              "<style>\n",
              "  .colab-df-quickchart {\n",
              "      --bg-color: #E8F0FE;\n",
              "      --fill-color: #1967D2;\n",
              "      --hover-bg-color: #E2EBFA;\n",
              "      --hover-fill-color: #174EA6;\n",
              "      --disabled-fill-color: #AAA;\n",
              "      --disabled-bg-color: #DDD;\n",
              "  }\n",
              "\n",
              "  [theme=dark] .colab-df-quickchart {\n",
              "      --bg-color: #3B4455;\n",
              "      --fill-color: #D2E3FC;\n",
              "      --hover-bg-color: #434B5C;\n",
              "      --hover-fill-color: #FFFFFF;\n",
              "      --disabled-bg-color: #3B4455;\n",
              "      --disabled-fill-color: #666;\n",
              "  }\n",
              "\n",
              "  .colab-df-quickchart {\n",
              "    background-color: var(--bg-color);\n",
              "    border: none;\n",
              "    border-radius: 50%;\n",
              "    cursor: pointer;\n",
              "    display: none;\n",
              "    fill: var(--fill-color);\n",
              "    height: 32px;\n",
              "    padding: 0;\n",
              "    width: 32px;\n",
              "  }\n",
              "\n",
              "  .colab-df-quickchart:hover {\n",
              "    background-color: var(--hover-bg-color);\n",
              "    box-shadow: 0 1px 2px rgba(60, 64, 67, 0.3), 0 1px 3px 1px rgba(60, 64, 67, 0.15);\n",
              "    fill: var(--button-hover-fill-color);\n",
              "  }\n",
              "\n",
              "  .colab-df-quickchart-complete:disabled,\n",
              "  .colab-df-quickchart-complete:disabled:hover {\n",
              "    background-color: var(--disabled-bg-color);\n",
              "    fill: var(--disabled-fill-color);\n",
              "    box-shadow: none;\n",
              "  }\n",
              "\n",
              "  .colab-df-spinner {\n",
              "    border: 2px solid var(--fill-color);\n",
              "    border-color: transparent;\n",
              "    border-bottom-color: var(--fill-color);\n",
              "    animation:\n",
              "      spin 1s steps(1) infinite;\n",
              "  }\n",
              "\n",
              "  @keyframes spin {\n",
              "    0% {\n",
              "      border-color: transparent;\n",
              "      border-bottom-color: var(--fill-color);\n",
              "      border-left-color: var(--fill-color);\n",
              "    }\n",
              "    20% {\n",
              "      border-color: transparent;\n",
              "      border-left-color: var(--fill-color);\n",
              "      border-top-color: var(--fill-color);\n",
              "    }\n",
              "    30% {\n",
              "      border-color: transparent;\n",
              "      border-left-color: var(--fill-color);\n",
              "      border-top-color: var(--fill-color);\n",
              "      border-right-color: var(--fill-color);\n",
              "    }\n",
              "    40% {\n",
              "      border-color: transparent;\n",
              "      border-right-color: var(--fill-color);\n",
              "      border-top-color: var(--fill-color);\n",
              "    }\n",
              "    60% {\n",
              "      border-color: transparent;\n",
              "      border-right-color: var(--fill-color);\n",
              "    }\n",
              "    80% {\n",
              "      border-color: transparent;\n",
              "      border-right-color: var(--fill-color);\n",
              "      border-bottom-color: var(--fill-color);\n",
              "    }\n",
              "    90% {\n",
              "      border-color: transparent;\n",
              "      border-bottom-color: var(--fill-color);\n",
              "    }\n",
              "  }\n",
              "</style>\n",
              "\n",
              "  <script>\n",
              "    async function quickchart(key) {\n",
              "      const quickchartButtonEl =\n",
              "        document.querySelector('#' + key + ' button');\n",
              "      quickchartButtonEl.disabled = true;  // To prevent multiple clicks.\n",
              "      quickchartButtonEl.classList.add('colab-df-spinner');\n",
              "      try {\n",
              "        const charts = await google.colab.kernel.invokeFunction(\n",
              "            'suggestCharts', [key], {});\n",
              "      } catch (error) {\n",
              "        console.error('Error during call to suggestCharts:', error);\n",
              "      }\n",
              "      quickchartButtonEl.classList.remove('colab-df-spinner');\n",
              "      quickchartButtonEl.classList.add('colab-df-quickchart-complete');\n",
              "    }\n",
              "    (() => {\n",
              "      let quickchartButtonEl =\n",
              "        document.querySelector('#df-3dd116a6-bce0-4049-aeb7-55424b25b5f0 button');\n",
              "      quickchartButtonEl.style.display =\n",
              "        google.colab.kernel.accessAllowed ? 'block' : 'none';\n",
              "    })();\n",
              "  </script>\n",
              "</div>\n",
              "\n",
              "    </div>\n",
              "  </div>\n"
            ],
            "application/vnd.google.colaboratory.intrinsic+json": {
              "type": "dataframe"
            }
          },
          "metadata": {},
          "execution_count": 17
        }
      ]
    },
    {
      "cell_type": "code",
      "source": [
        "\n",
        "gender_specialization_cross_tab = pd.crosstab(df['Gender'], df['Specialization'])\n",
        "gender_specialization_results = gender_specialization_cross_tab.reset_index()\n",
        "\n",
        "\n"
      ],
      "metadata": {
        "colab": {
          "base_uri": "https://localhost:8080/",
          "height": 216
        },
        "id": "EQix27wlD3Z1",
        "outputId": "add172c1-88b1-4834-ac1d-bd6e62176eaa"
      },
      "execution_count": 1,
      "outputs": [
        {
          "output_type": "error",
          "ename": "NameError",
          "evalue": "name 'pd' is not defined",
          "traceback": [
            "\u001b[0;31m---------------------------------------------------------------------------\u001b[0m",
            "\u001b[0;31mNameError\u001b[0m                                 Traceback (most recent call last)",
            "\u001b[0;32m<ipython-input-1-c7423ccbfc7f>\u001b[0m in \u001b[0;36m<cell line: 2>\u001b[0;34m()\u001b[0m\n\u001b[1;32m      1\u001b[0m \u001b[0;31m# Analyze the relationship between gender and specialization\u001b[0m\u001b[0;34m\u001b[0m\u001b[0;34m\u001b[0m\u001b[0m\n\u001b[0;32m----> 2\u001b[0;31m \u001b[0mgender_specialization_cross_tab\u001b[0m \u001b[0;34m=\u001b[0m \u001b[0mpd\u001b[0m\u001b[0;34m.\u001b[0m\u001b[0mcrosstab\u001b[0m\u001b[0;34m(\u001b[0m\u001b[0mdf\u001b[0m\u001b[0;34m[\u001b[0m\u001b[0;34m'Gender'\u001b[0m\u001b[0;34m]\u001b[0m\u001b[0;34m,\u001b[0m \u001b[0mdf\u001b[0m\u001b[0;34m[\u001b[0m\u001b[0;34m'Specialization'\u001b[0m\u001b[0;34m]\u001b[0m\u001b[0;34m)\u001b[0m\u001b[0;34m\u001b[0m\u001b[0;34m\u001b[0m\u001b[0m\n\u001b[0m\u001b[1;32m      3\u001b[0m \u001b[0mgender_specialization_results\u001b[0m \u001b[0;34m=\u001b[0m \u001b[0mgender_specialization_cross_tab\u001b[0m\u001b[0;34m.\u001b[0m\u001b[0mreset_index\u001b[0m\u001b[0;34m(\u001b[0m\u001b[0;34m)\u001b[0m\u001b[0;34m\u001b[0m\u001b[0;34m\u001b[0m\u001b[0m\n\u001b[1;32m      4\u001b[0m \u001b[0;34m\u001b[0m\u001b[0m\n\u001b[1;32m      5\u001b[0m \u001b[0;34m\u001b[0m\u001b[0m\n",
            "\u001b[0;31mNameError\u001b[0m: name 'pd' is not defined"
          ]
        }
      ]
    },
    {
      "cell_type": "code",
      "source": [
        "gender_specialization_results"
      ],
      "metadata": {
        "colab": {
          "base_uri": "https://localhost:8080/",
          "height": 214
        },
        "id": "PhD2wjsfWBqk",
        "outputId": "a80438eb-e3a8-48a6-e10f-f30a021d714f"
      },
      "execution_count": 28,
      "outputs": [
        {
          "output_type": "execute_result",
          "data": {
            "text/plain": [
              "Specialization Gender  aeronautical engineering  \\\n",
              "0                   f                         1   \n",
              "1                   m                         2   \n",
              "\n",
              "Specialization  applied electronics and instrumentation  \\\n",
              "0                                                     2   \n",
              "1                                                     7   \n",
              "\n",
              "Specialization  automobile/automotive engineering  biomedical engineering  \\\n",
              "0                                               0                       2   \n",
              "1                                               5                       0   \n",
              "\n",
              "Specialization  biotechnology  ceramic engineering  chemical engineering  \\\n",
              "0                           9                    0                     1   \n",
              "1                           6                    1                     8   \n",
              "\n",
              "Specialization  civil engineering  computer and communication engineering  \\\n",
              "0                               6                                       0   \n",
              "1                              23                                       1   \n",
              "\n",
              "Specialization  ...  internal combustion engine  \\\n",
              "0               ...                           0   \n",
              "1               ...                           1   \n",
              "\n",
              "Specialization  mechanical & production engineering  \\\n",
              "0                                                 0   \n",
              "1                                                 1   \n",
              "\n",
              "Specialization  mechanical and automation  mechanical engineering  \\\n",
              "0                                       0                      10   \n",
              "1                                       5                     191   \n",
              "\n",
              "Specialization  mechatronics  metallurgical engineering  other  \\\n",
              "0                          1                          0      0   \n",
              "1                          3                          2     13   \n",
              "\n",
              "Specialization  polymer technology  power systems and automation  \\\n",
              "0                                0                             0   \n",
              "1                                1                             1   \n",
              "\n",
              "Specialization  telecommunication engineering  \n",
              "0                                           1  \n",
              "1                                           5  \n",
              "\n",
              "[2 rows x 47 columns]"
            ],
            "text/html": [
              "\n",
              "  <div id=\"df-850c1259-2a83-4276-8ec1-da1a61b94b78\" class=\"colab-df-container\">\n",
              "    <div>\n",
              "<style scoped>\n",
              "    .dataframe tbody tr th:only-of-type {\n",
              "        vertical-align: middle;\n",
              "    }\n",
              "\n",
              "    .dataframe tbody tr th {\n",
              "        vertical-align: top;\n",
              "    }\n",
              "\n",
              "    .dataframe thead th {\n",
              "        text-align: right;\n",
              "    }\n",
              "</style>\n",
              "<table border=\"1\" class=\"dataframe\">\n",
              "  <thead>\n",
              "    <tr style=\"text-align: right;\">\n",
              "      <th>Specialization</th>\n",
              "      <th>Gender</th>\n",
              "      <th>aeronautical engineering</th>\n",
              "      <th>applied electronics and instrumentation</th>\n",
              "      <th>automobile/automotive engineering</th>\n",
              "      <th>biomedical engineering</th>\n",
              "      <th>biotechnology</th>\n",
              "      <th>ceramic engineering</th>\n",
              "      <th>chemical engineering</th>\n",
              "      <th>civil engineering</th>\n",
              "      <th>computer and communication engineering</th>\n",
              "      <th>...</th>\n",
              "      <th>internal combustion engine</th>\n",
              "      <th>mechanical &amp; production engineering</th>\n",
              "      <th>mechanical and automation</th>\n",
              "      <th>mechanical engineering</th>\n",
              "      <th>mechatronics</th>\n",
              "      <th>metallurgical engineering</th>\n",
              "      <th>other</th>\n",
              "      <th>polymer technology</th>\n",
              "      <th>power systems and automation</th>\n",
              "      <th>telecommunication engineering</th>\n",
              "    </tr>\n",
              "  </thead>\n",
              "  <tbody>\n",
              "    <tr>\n",
              "      <th>0</th>\n",
              "      <td>f</td>\n",
              "      <td>1</td>\n",
              "      <td>2</td>\n",
              "      <td>0</td>\n",
              "      <td>2</td>\n",
              "      <td>9</td>\n",
              "      <td>0</td>\n",
              "      <td>1</td>\n",
              "      <td>6</td>\n",
              "      <td>0</td>\n",
              "      <td>...</td>\n",
              "      <td>0</td>\n",
              "      <td>0</td>\n",
              "      <td>0</td>\n",
              "      <td>10</td>\n",
              "      <td>1</td>\n",
              "      <td>0</td>\n",
              "      <td>0</td>\n",
              "      <td>0</td>\n",
              "      <td>0</td>\n",
              "      <td>1</td>\n",
              "    </tr>\n",
              "    <tr>\n",
              "      <th>1</th>\n",
              "      <td>m</td>\n",
              "      <td>2</td>\n",
              "      <td>7</td>\n",
              "      <td>5</td>\n",
              "      <td>0</td>\n",
              "      <td>6</td>\n",
              "      <td>1</td>\n",
              "      <td>8</td>\n",
              "      <td>23</td>\n",
              "      <td>1</td>\n",
              "      <td>...</td>\n",
              "      <td>1</td>\n",
              "      <td>1</td>\n",
              "      <td>5</td>\n",
              "      <td>191</td>\n",
              "      <td>3</td>\n",
              "      <td>2</td>\n",
              "      <td>13</td>\n",
              "      <td>1</td>\n",
              "      <td>1</td>\n",
              "      <td>5</td>\n",
              "    </tr>\n",
              "  </tbody>\n",
              "</table>\n",
              "<p>2 rows × 47 columns</p>\n",
              "</div>\n",
              "    <div class=\"colab-df-buttons\">\n",
              "\n",
              "  <div class=\"colab-df-container\">\n",
              "    <button class=\"colab-df-convert\" onclick=\"convertToInteractive('df-850c1259-2a83-4276-8ec1-da1a61b94b78')\"\n",
              "            title=\"Convert this dataframe to an interactive table.\"\n",
              "            style=\"display:none;\">\n",
              "\n",
              "  <svg xmlns=\"http://www.w3.org/2000/svg\" height=\"24px\" viewBox=\"0 -960 960 960\">\n",
              "    <path d=\"M120-120v-720h720v720H120Zm60-500h600v-160H180v160Zm220 220h160v-160H400v160Zm0 220h160v-160H400v160ZM180-400h160v-160H180v160Zm440 0h160v-160H620v160ZM180-180h160v-160H180v160Zm440 0h160v-160H620v160Z\"/>\n",
              "  </svg>\n",
              "    </button>\n",
              "\n",
              "  <style>\n",
              "    .colab-df-container {\n",
              "      display:flex;\n",
              "      gap: 12px;\n",
              "    }\n",
              "\n",
              "    .colab-df-convert {\n",
              "      background-color: #E8F0FE;\n",
              "      border: none;\n",
              "      border-radius: 50%;\n",
              "      cursor: pointer;\n",
              "      display: none;\n",
              "      fill: #1967D2;\n",
              "      height: 32px;\n",
              "      padding: 0 0 0 0;\n",
              "      width: 32px;\n",
              "    }\n",
              "\n",
              "    .colab-df-convert:hover {\n",
              "      background-color: #E2EBFA;\n",
              "      box-shadow: 0px 1px 2px rgba(60, 64, 67, 0.3), 0px 1px 3px 1px rgba(60, 64, 67, 0.15);\n",
              "      fill: #174EA6;\n",
              "    }\n",
              "\n",
              "    .colab-df-buttons div {\n",
              "      margin-bottom: 4px;\n",
              "    }\n",
              "\n",
              "    [theme=dark] .colab-df-convert {\n",
              "      background-color: #3B4455;\n",
              "      fill: #D2E3FC;\n",
              "    }\n",
              "\n",
              "    [theme=dark] .colab-df-convert:hover {\n",
              "      background-color: #434B5C;\n",
              "      box-shadow: 0px 1px 3px 1px rgba(0, 0, 0, 0.15);\n",
              "      filter: drop-shadow(0px 1px 2px rgba(0, 0, 0, 0.3));\n",
              "      fill: #FFFFFF;\n",
              "    }\n",
              "  </style>\n",
              "\n",
              "    <script>\n",
              "      const buttonEl =\n",
              "        document.querySelector('#df-850c1259-2a83-4276-8ec1-da1a61b94b78 button.colab-df-convert');\n",
              "      buttonEl.style.display =\n",
              "        google.colab.kernel.accessAllowed ? 'block' : 'none';\n",
              "\n",
              "      async function convertToInteractive(key) {\n",
              "        const element = document.querySelector('#df-850c1259-2a83-4276-8ec1-da1a61b94b78');\n",
              "        const dataTable =\n",
              "          await google.colab.kernel.invokeFunction('convertToInteractive',\n",
              "                                                    [key], {});\n",
              "        if (!dataTable) return;\n",
              "\n",
              "        const docLinkHtml = 'Like what you see? Visit the ' +\n",
              "          '<a target=\"_blank\" href=https://colab.research.google.com/notebooks/data_table.ipynb>data table notebook</a>'\n",
              "          + ' to learn more about interactive tables.';\n",
              "        element.innerHTML = '';\n",
              "        dataTable['output_type'] = 'display_data';\n",
              "        await google.colab.output.renderOutput(dataTable, element);\n",
              "        const docLink = document.createElement('div');\n",
              "        docLink.innerHTML = docLinkHtml;\n",
              "        element.appendChild(docLink);\n",
              "      }\n",
              "    </script>\n",
              "  </div>\n",
              "\n",
              "\n",
              "<div id=\"df-86be3db7-f81b-4101-b861-4cffc767120e\">\n",
              "  <button class=\"colab-df-quickchart\" onclick=\"quickchart('df-86be3db7-f81b-4101-b861-4cffc767120e')\"\n",
              "            title=\"Suggest charts\"\n",
              "            style=\"display:none;\">\n",
              "\n",
              "<svg xmlns=\"http://www.w3.org/2000/svg\" height=\"24px\"viewBox=\"0 0 24 24\"\n",
              "     width=\"24px\">\n",
              "    <g>\n",
              "        <path d=\"M19 3H5c-1.1 0-2 .9-2 2v14c0 1.1.9 2 2 2h14c1.1 0 2-.9 2-2V5c0-1.1-.9-2-2-2zM9 17H7v-7h2v7zm4 0h-2V7h2v10zm4 0h-2v-4h2v4z\"/>\n",
              "    </g>\n",
              "</svg>\n",
              "  </button>\n",
              "\n",
              "<style>\n",
              "  .colab-df-quickchart {\n",
              "      --bg-color: #E8F0FE;\n",
              "      --fill-color: #1967D2;\n",
              "      --hover-bg-color: #E2EBFA;\n",
              "      --hover-fill-color: #174EA6;\n",
              "      --disabled-fill-color: #AAA;\n",
              "      --disabled-bg-color: #DDD;\n",
              "  }\n",
              "\n",
              "  [theme=dark] .colab-df-quickchart {\n",
              "      --bg-color: #3B4455;\n",
              "      --fill-color: #D2E3FC;\n",
              "      --hover-bg-color: #434B5C;\n",
              "      --hover-fill-color: #FFFFFF;\n",
              "      --disabled-bg-color: #3B4455;\n",
              "      --disabled-fill-color: #666;\n",
              "  }\n",
              "\n",
              "  .colab-df-quickchart {\n",
              "    background-color: var(--bg-color);\n",
              "    border: none;\n",
              "    border-radius: 50%;\n",
              "    cursor: pointer;\n",
              "    display: none;\n",
              "    fill: var(--fill-color);\n",
              "    height: 32px;\n",
              "    padding: 0;\n",
              "    width: 32px;\n",
              "  }\n",
              "\n",
              "  .colab-df-quickchart:hover {\n",
              "    background-color: var(--hover-bg-color);\n",
              "    box-shadow: 0 1px 2px rgba(60, 64, 67, 0.3), 0 1px 3px 1px rgba(60, 64, 67, 0.15);\n",
              "    fill: var(--button-hover-fill-color);\n",
              "  }\n",
              "\n",
              "  .colab-df-quickchart-complete:disabled,\n",
              "  .colab-df-quickchart-complete:disabled:hover {\n",
              "    background-color: var(--disabled-bg-color);\n",
              "    fill: var(--disabled-fill-color);\n",
              "    box-shadow: none;\n",
              "  }\n",
              "\n",
              "  .colab-df-spinner {\n",
              "    border: 2px solid var(--fill-color);\n",
              "    border-color: transparent;\n",
              "    border-bottom-color: var(--fill-color);\n",
              "    animation:\n",
              "      spin 1s steps(1) infinite;\n",
              "  }\n",
              "\n",
              "  @keyframes spin {\n",
              "    0% {\n",
              "      border-color: transparent;\n",
              "      border-bottom-color: var(--fill-color);\n",
              "      border-left-color: var(--fill-color);\n",
              "    }\n",
              "    20% {\n",
              "      border-color: transparent;\n",
              "      border-left-color: var(--fill-color);\n",
              "      border-top-color: var(--fill-color);\n",
              "    }\n",
              "    30% {\n",
              "      border-color: transparent;\n",
              "      border-left-color: var(--fill-color);\n",
              "      border-top-color: var(--fill-color);\n",
              "      border-right-color: var(--fill-color);\n",
              "    }\n",
              "    40% {\n",
              "      border-color: transparent;\n",
              "      border-right-color: var(--fill-color);\n",
              "      border-top-color: var(--fill-color);\n",
              "    }\n",
              "    60% {\n",
              "      border-color: transparent;\n",
              "      border-right-color: var(--fill-color);\n",
              "    }\n",
              "    80% {\n",
              "      border-color: transparent;\n",
              "      border-right-color: var(--fill-color);\n",
              "      border-bottom-color: var(--fill-color);\n",
              "    }\n",
              "    90% {\n",
              "      border-color: transparent;\n",
              "      border-bottom-color: var(--fill-color);\n",
              "    }\n",
              "  }\n",
              "</style>\n",
              "\n",
              "  <script>\n",
              "    async function quickchart(key) {\n",
              "      const quickchartButtonEl =\n",
              "        document.querySelector('#' + key + ' button');\n",
              "      quickchartButtonEl.disabled = true;  // To prevent multiple clicks.\n",
              "      quickchartButtonEl.classList.add('colab-df-spinner');\n",
              "      try {\n",
              "        const charts = await google.colab.kernel.invokeFunction(\n",
              "            'suggestCharts', [key], {});\n",
              "      } catch (error) {\n",
              "        console.error('Error during call to suggestCharts:', error);\n",
              "      }\n",
              "      quickchartButtonEl.classList.remove('colab-df-spinner');\n",
              "      quickchartButtonEl.classList.add('colab-df-quickchart-complete');\n",
              "    }\n",
              "    (() => {\n",
              "      let quickchartButtonEl =\n",
              "        document.querySelector('#df-86be3db7-f81b-4101-b861-4cffc767120e button');\n",
              "      quickchartButtonEl.style.display =\n",
              "        google.colab.kernel.accessAllowed ? 'block' : 'none';\n",
              "    })();\n",
              "  </script>\n",
              "</div>\n",
              "\n",
              "  <div id=\"id_4fd4ed4d-5550-4a62-b05e-8e441c72d402\">\n",
              "    <style>\n",
              "      .colab-df-generate {\n",
              "        background-color: #E8F0FE;\n",
              "        border: none;\n",
              "        border-radius: 50%;\n",
              "        cursor: pointer;\n",
              "        display: none;\n",
              "        fill: #1967D2;\n",
              "        height: 32px;\n",
              "        padding: 0 0 0 0;\n",
              "        width: 32px;\n",
              "      }\n",
              "\n",
              "      .colab-df-generate:hover {\n",
              "        background-color: #E2EBFA;\n",
              "        box-shadow: 0px 1px 2px rgba(60, 64, 67, 0.3), 0px 1px 3px 1px rgba(60, 64, 67, 0.15);\n",
              "        fill: #174EA6;\n",
              "      }\n",
              "\n",
              "      [theme=dark] .colab-df-generate {\n",
              "        background-color: #3B4455;\n",
              "        fill: #D2E3FC;\n",
              "      }\n",
              "\n",
              "      [theme=dark] .colab-df-generate:hover {\n",
              "        background-color: #434B5C;\n",
              "        box-shadow: 0px 1px 3px 1px rgba(0, 0, 0, 0.15);\n",
              "        filter: drop-shadow(0px 1px 2px rgba(0, 0, 0, 0.3));\n",
              "        fill: #FFFFFF;\n",
              "      }\n",
              "    </style>\n",
              "    <button class=\"colab-df-generate\" onclick=\"generateWithVariable('gender_specialization_results')\"\n",
              "            title=\"Generate code using this dataframe.\"\n",
              "            style=\"display:none;\">\n",
              "\n",
              "  <svg xmlns=\"http://www.w3.org/2000/svg\" height=\"24px\"viewBox=\"0 0 24 24\"\n",
              "       width=\"24px\">\n",
              "    <path d=\"M7,19H8.4L18.45,9,17,7.55,7,17.6ZM5,21V16.75L18.45,3.32a2,2,0,0,1,2.83,0l1.4,1.43a1.91,1.91,0,0,1,.58,1.4,1.91,1.91,0,0,1-.58,1.4L9.25,21ZM18.45,9,17,7.55Zm-12,3A5.31,5.31,0,0,0,4.9,8.1,5.31,5.31,0,0,0,1,6.5,5.31,5.31,0,0,0,4.9,4.9,5.31,5.31,0,0,0,6.5,1,5.31,5.31,0,0,0,8.1,4.9,5.31,5.31,0,0,0,12,6.5,5.46,5.46,0,0,0,6.5,12Z\"/>\n",
              "  </svg>\n",
              "    </button>\n",
              "    <script>\n",
              "      (() => {\n",
              "      const buttonEl =\n",
              "        document.querySelector('#id_4fd4ed4d-5550-4a62-b05e-8e441c72d402 button.colab-df-generate');\n",
              "      buttonEl.style.display =\n",
              "        google.colab.kernel.accessAllowed ? 'block' : 'none';\n",
              "\n",
              "      buttonEl.onclick = () => {\n",
              "        google.colab.notebook.generateWithVariable('gender_specialization_results');\n",
              "      }\n",
              "      })();\n",
              "    </script>\n",
              "  </div>\n",
              "\n",
              "    </div>\n",
              "  </div>\n"
            ],
            "application/vnd.google.colaboratory.intrinsic+json": {
              "type": "dataframe",
              "variable_name": "gender_specialization_results"
            }
          },
          "metadata": {},
          "execution_count": 28
        }
      ]
    },
    {
      "cell_type": "code",
      "source": [
        "gender_specialization_results.columns\n"
      ],
      "metadata": {
        "colab": {
          "base_uri": "https://localhost:8080/"
        },
        "id": "dmCnXa-aE-er",
        "outputId": "a5af897a-75ac-4999-eb45-7449287efa92"
      },
      "execution_count": 26,
      "outputs": [
        {
          "output_type": "execute_result",
          "data": {
            "text/plain": [
              "Index(['Gender', 'aeronautical engineering',\n",
              "       'applied electronics and instrumentation',\n",
              "       'automobile/automotive engineering', 'biomedical engineering',\n",
              "       'biotechnology', 'ceramic engineering', 'chemical engineering',\n",
              "       'civil engineering', 'computer and communication engineering',\n",
              "       'computer application', 'computer engineering', 'computer networking',\n",
              "       'computer science', 'computer science & engineering',\n",
              "       'computer science and technology',\n",
              "       'control and instrumentation engineering',\n",
              "       'electrical and power engineering', 'electrical engineering',\n",
              "       'electronics', 'electronics & instrumentation eng',\n",
              "       'electronics & telecommunications',\n",
              "       'electronics and communication engineering',\n",
              "       'electronics and computer engineering',\n",
              "       'electronics and electrical engineering',\n",
              "       'electronics and instrumentation engineering',\n",
              "       'electronics engineering', 'embedded systems technology',\n",
              "       'industrial & management engineering',\n",
              "       'industrial & production engineering', 'industrial engineering',\n",
              "       'information & communication technology', 'information science',\n",
              "       'information science engineering', 'information technology',\n",
              "       'instrumentation and control engineering',\n",
              "       'instrumentation engineering', 'internal combustion engine',\n",
              "       'mechanical & production engineering', 'mechanical and automation',\n",
              "       'mechanical engineering', 'mechatronics', 'metallurgical engineering',\n",
              "       'other', 'polymer technology', 'power systems and automation',\n",
              "       'telecommunication engineering'],\n",
              "      dtype='object', name='Specialization')"
            ]
          },
          "metadata": {},
          "execution_count": 26
        }
      ]
    },
    {
      "cell_type": "code",
      "source": [
        "gender_specialization_results_transposed = gender_specialization_results.T\n",
        "\n",
        "# Plotting the bar chart\n",
        "plt.figure(figsize=(20, 8))\n",
        "ax = gender_specialization_results_transposed.drop('Gender').plot(kind='bar', stacked=False, figsize=(15, 8))\n",
        "plt.xlabel('Specialization')\n",
        "plt.ylabel('Count')\n",
        "plt.title('Distribution of Specialization by Gender')\n",
        "plt.xticks(rotation=90)\n",
        "\n",
        "# Update legend labels\n",
        "legend_labels = {'0': 'Female', '1': 'Male'}\n",
        "handles, labels = ax.get_legend_handles_labels()\n",
        "ax.legend(handles, [legend_labels[label] for label in labels], title='Gender')\n",
        "plt.tight_layout()\n",
        "plt.show()"
      ],
      "metadata": {
        "colab": {
          "base_uri": "https://localhost:8080/",
          "height": 825
        },
        "id": "0VAtDQPuWPWc",
        "outputId": "1b5c2a61-1d0b-44e4-8a6f-a8cbda16e6d2"
      },
      "execution_count": 37,
      "outputs": [
        {
          "output_type": "display_data",
          "data": {
            "text/plain": [
              "<Figure size 2000x800 with 0 Axes>"
            ]
          },
          "metadata": {}
        },
        {
          "output_type": "display_data",
          "data": {
            "text/plain": [
              "<Figure size 1500x800 with 1 Axes>"
            ],
            "image/png": "[encoded data removed]"
          },
          "metadata": {}
        }
      ]
    },
    {
      "cell_type": "code",
      "execution_count": null,
      "metadata": {
        "id": "vAhWXNoKzria"
      },
      "outputs": [],
      "source": [
        "df.shape"
      ]
    },
    {
      "cell_type": "code",
      "execution_count": null,
      "metadata": {
        "id": "_FDBeW8Sz0SI"
      },
      "outputs": [],
      "source": [
        "df.describe()"
      ]
    },
    {
      "cell_type": "code",
      "execution_count": null,
      "metadata": {
        "id": "FZlaH1Yzz8qH"
      },
      "outputs": [],
      "source": [
        "df.dtypes"
      ]
    },
    {
      "cell_type": "code",
      "execution_count": null,
      "metadata": {
        "id": "b4sm3zlZ1uCw"
      },
      "outputs": [],
      "source": [
        "numerical_cols = df.select_dtypes(include=['int64', 'float64']).columns\n"
      ]
    },
    {
      "cell_type": "code",
      "execution_count": null,
      "metadata": {
        "id": "_o05BTJkDm3U"
      },
      "outputs": [],
      "source": [
        "numerical_cols"
      ]
    },
    {
      "cell_type": "markdown",
      "metadata": {
        "id": "9__0fOkPInNa"
      },
      "source": [
        "# **Salary**"
      ]
    },
    {
      "cell_type": "code",
      "execution_count": null,
      "metadata": {
        "id": "_BB3vW8619SP"
      },
      "outputs": [],
      "source": [
        "salary_data = df['Salary']\n",
        "\n",
        "# Plot the PDF using Matplotlib\n",
        "plt.figure(figsize=(8, 6))\n",
        "salary_data.plot(kind='density')\n",
        "plt.xlabel('Salary')\n",
        "plt.ylabel('Probability Density')\n",
        "plt.title('Probability Density Function (PDF) Plot for Salary')\n",
        "plt.grid(True)\n",
        "plt.savefig(r'/content/drive/MyDrive/Innomatics Research lab/Figures/Probability Density Function (PDF) Plot for Salary')\n",
        "plt.show()\n"
      ]
    },
    {
      "cell_type": "code",
      "execution_count": null,
      "metadata": {
        "id": "R72bF9ZvIERa"
      },
      "outputs": [],
      "source": [
        "plt.subplot(1, 2, 2)\n",
        "plt.boxplot(salary_data, vert=False)\n",
        "plt.xlabel('Salary')\n",
        "plt.title('Boxplot for Salary')\n",
        "plt.grid(True)\n",
        "\n",
        "plt.tight_layout()\n",
        "plt.savefig(r'/content/drive/MyDrive/Innomatics Research lab/Figures/Boxplot for Salary')\n",
        "plt.show()"
      ]
    },
    {
      "cell_type": "markdown",
      "metadata": {
        "id": "UxyL61PuIzLZ"
      },
      "source": [
        "# **Gender**"
      ]
    },
    {
      "cell_type": "code",
      "execution_count": null,
      "metadata": {
        "id": "9qBlrHQ8IOLB"
      },
      "outputs": [],
      "source": [
        "plt.subplot(1, 3, 2)\n",
        "sns.countplot(data=df, x='Gender')\n",
        "plt.xlabel('Gender')\n",
        "plt.ylabel('Count')\n",
        "plt.title('Countplot for Gender')\n",
        "\n",
        "plt.tight_layout()\n",
        "plt.savefig(r'/content/drive/MyDrive/Innomatics Research lab/Figures/Countplot for Gender')\n",
        "plt.show()"
      ]
    },
    {
      "cell_type": "code",
      "execution_count": null,
      "metadata": {
        "id": "8oOMbojnI4NW"
      },
      "outputs": [],
      "source": [
        "percentage_10_data = df['10percentage']\n",
        "\n",
        "# Plot the PDF using Matplotlib\n",
        "plt.figure(figsize=(8, 6))\n",
        "percentage_10_data.plot(kind='density')\n",
        "plt.xlabel('10percentage')\n",
        "plt.ylabel('Probability Density')\n",
        "plt.title('Probability Density Function (PDF) Plot for 10percentage')\n",
        "plt.grid(True)\n",
        "plt.savefig(r'/content/drive/MyDrive/Innomatics Research lab/Figures/Probability Density Function (PDF) Plot for 10percentage')\n",
        "plt.show()"
      ]
    },
    {
      "cell_type": "code",
      "execution_count": null,
      "metadata": {
        "id": "HSIjx-8CJH5x"
      },
      "outputs": [],
      "source": [
        "plt.subplot(1, 2, 2)\n",
        "plt.boxplot(percentage_10_data, vert=True)\n",
        "plt.xlabel('percentage_10')\n",
        "plt.title('Boxplot for percentage_10')\n",
        "plt.grid(True)\n",
        "\n",
        "plt.tight_layout()\n",
        "plt.savefig(r'/content/drive/MyDrive/Innomatics Research lab/Figures/Boxplot for percentage_10')\n",
        "plt.show()"
      ]
    },
    {
      "cell_type": "markdown",
      "metadata": {
        "id": "pOVPyWg0JbzS"
      },
      "source": [
        "# **12graduation**"
      ]
    },
    {
      "cell_type": "code",
      "execution_count": null,
      "metadata": {
        "id": "Iy2ujauAJWyq"
      },
      "outputs": [],
      "source": [
        "percentage_12_data = df['10percentage']\n",
        "\n",
        "# Plot the PDF using Matplotlib\n",
        "plt.figure(figsize=(8, 6))\n",
        "percentage_12_data.plot(kind='density')\n",
        "plt.xlabel('12graduation')\n",
        "plt.ylabel('Probability Density')\n",
        "plt.title('Probability Density Function (PDF) Plot for 12graduation')\n",
        "plt.grid(True)\n",
        "plt.savefig(r'/content/drive/MyDrive/Innomatics Research lab/Figures/Probability Density Function (PDF) Plot for 12graduation')\n",
        "plt.show()"
      ]
    },
    {
      "cell_type": "code",
      "execution_count": null,
      "metadata": {
        "id": "v6rCRhigJi_T"
      },
      "outputs": [],
      "source": [
        "plt.subplot(1, 2, 2)\n",
        "plt.boxplot(percentage_12_data, vert=True)\n",
        "plt.xlabel('12graduation')\n",
        "plt.title('Boxplot for 12graduation')\n",
        "plt.grid(True)\n",
        "\n",
        "plt.tight_layout()\n",
        "plt.savefig(r'/content/drive/MyDrive/Innomatics Research lab/Figures/Boxplot for 12graduation')\n",
        "plt.show()"
      ]
    },
    {
      "cell_type": "markdown",
      "metadata": {
        "id": "go5sh5qSYiOf"
      },
      "source": [
        "# **CollegeTier**"
      ]
    },
    {
      "cell_type": "code",
      "execution_count": null,
      "metadata": {
        "id": "pfFFnK_VYhl8"
      },
      "outputs": [],
      "source": [
        "plt.figure(figsize=(2, 6))\n",
        "sns.countplot(data=df, x='CollegeTier')\n",
        "plt.xlabel('College Tier')\n",
        "plt.ylabel('Count')\n",
        "plt.title('Countplot for College Tier')\n",
        "#plt.grid(True)\n",
        "plt.savefig(r'/content/drive/MyDrive/Innomatics Research lab/Figures/ountplot for College Tier')\n",
        "plt.show()"
      ]
    },
    {
      "cell_type": "markdown",
      "metadata": {
        "id": "t7rdGdk9ZSiL"
      },
      "source": [
        "# **collegeGPA**"
      ]
    },
    {
      "cell_type": "code",
      "execution_count": null,
      "metadata": {
        "id": "YzGJ3iujZdiP"
      },
      "outputs": [],
      "source": [
        "fig, ax = plt.subplots(figsize=(8, 6))\n",
        "\n",
        "# Plot boxplot for collegeGPA\n",
        "sns.boxplot(data=df, x='collegeGPA', ax=ax)\n",
        "ax.set_xlabel('College GPA')\n",
        "ax.set_title('Boxplot for College GPA')\n",
        "plt.savefig(r'/content/drive/MyDrive/Innomatics Research lab/Figures/Boxplot for College GPAy')\n",
        "\n",
        "plt.show()"
      ]
    },
    {
      "cell_type": "markdown",
      "metadata": {
        "id": "cbysgow7aVsV"
      },
      "source": [
        "# **CollegeCityTier**"
      ]
    },
    {
      "cell_type": "code",
      "execution_count": null,
      "metadata": {
        "id": "HpZmhMCbaU8k"
      },
      "outputs": [],
      "source": [
        "fig, ax = plt.subplots(figsize=(4, 6))\n",
        "\n",
        "# Plot countplot for CollegeCityTier\n",
        "sns.countplot(data=df, x='CollegeCityTier', ax=ax)\n",
        "ax.set_xlabel('College City Tier')\n",
        "ax.set_ylabel('Count')\n",
        "ax.set_title('Countplot for College City Tier')\n",
        "\n",
        "plt.tight_layout()\n",
        "plt.savefig(r'/content/drive/MyDrive/Innomatics Research lab/Figures/Countplot for College City Tier')\n",
        "plt.show()"
      ]
    },
    {
      "cell_type": "markdown",
      "metadata": {
        "id": "35egHfF2iCYX"
      },
      "source": [
        "# **GraduationYear**"
      ]
    },
    {
      "cell_type": "code",
      "execution_count": null,
      "metadata": {
        "id": "eWx10pusiGv1"
      },
      "outputs": [],
      "source": [
        "plt.figure(figsize=(8, 6))\n",
        "sns.countplot(data=df, x='GraduationYear')\n",
        "plt.xlabel('Graduation Year')\n",
        "plt.ylabel('Count')\n",
        "plt.title('Countplot for Graduation Year')\n",
        "plt.grid(True)\n",
        "plt.savefig(r'/content/drive/MyDrive/Innomatics Research lab/Figures/Countplot for Graduation Year')\n",
        "plt.show()"
      ]
    },
    {
      "cell_type": "markdown",
      "metadata": {
        "id": "AccIzT0JmNGY"
      },
      "source": [
        "# **All Subject**"
      ]
    },
    {
      "cell_type": "code",
      "execution_count": null,
      "metadata": {
        "id": "0hgFlQYTkSnR"
      },
      "outputs": [],
      "source": [
        "columns = ['English', 'Logical', 'Quant', 'Domain', 'ComputerProgramming',\n",
        "           'ElectronicsAndSemicon', 'ComputerScience', 'MechanicalEngg',\n",
        "           'ElectricalEngg', 'TelecomEngg', 'CivilEngg']\n",
        "\n",
        "# Plot histograms for each column\n",
        "plt.figure(figsize=(16, 12))\n",
        "for i, column in enumerate(columns, 1):\n",
        "    plt.subplot(4, 3, i)\n",
        "    plt.hist(df[column], bins=10, color='skyblue', edgecolor='black')\n",
        "    plt.xlabel(column)\n",
        "    plt.ylabel('Frequency')\n",
        "    plt.title(f'Histogram for {column}')\n",
        "    plt.grid(True)\n",
        "    plt.savefig(f'/content/drive/MyDrive/Innomatics Research lab/Figures/Histogram for {column}')\n",
        "\n",
        "plt.tight_layout()\n",
        "\n",
        "plt.show()"
      ]
    },
    {
      "cell_type": "code",
      "execution_count": null,
      "metadata": {
        "id": "tLBH-WDoZZyF"
      },
      "outputs": [],
      "source": [
        "column = 'English'\n",
        "plt.figure(figsize=(8, 6))\n",
        "\n",
        "sns.histplot(data=df, x=column, kde=True, color='skyblue', bins=20)\n",
        "plt.xlabel(column)\n",
        "plt.ylabel('Frequency')\n",
        "plt.title(f'Histogram for {column}')\n",
        "plt.grid(True)\n",
        "plt.savefig(f'/content/drive/MyDrive/Innomatics Research lab/Figures/Histogram for {column}')\n",
        "plt.show()"
      ]
    },
    {
      "cell_type": "code",
      "execution_count": null,
      "metadata": {
        "id": "Ngp48HQdZ-Yi"
      },
      "outputs": [],
      "source": [
        "column = 'Logical'\n",
        "plt.figure(figsize=(8, 6))\n",
        "\n",
        "sns.histplot(data=df, x=column, kde=True, color='skyblue', bins=20)\n",
        "plt.xlabel(column)\n",
        "plt.ylabel('Frequency')\n",
        "plt.title(f'Histogram for {column}')\n",
        "plt.grid(True)\n",
        "plt.savefig(f'/content/drive/MyDrive/Innomatics Research lab/Figures/Histogram for {column}')\n",
        "plt.show()"
      ]
    },
    {
      "cell_type": "code",
      "execution_count": null,
      "metadata": {
        "id": "sH8Q5Hy0aCNk"
      },
      "outputs": [],
      "source": [
        "column = 'Quant'\n",
        "plt.figure(figsize=(8, 6))\n",
        "\n",
        "sns.histplot(data=df, x=column, kde=True, color='skyblue', bins=20)\n",
        "plt.xlabel(column)\n",
        "plt.ylabel('Frequency')\n",
        "plt.title(f'Histogram for {column}')\n",
        "plt.grid(True)\n",
        "plt.savefig(f'/content/drive/MyDrive/Innomatics Research lab/Figures/Histogram for {column}')\n",
        "plt.show()"
      ]
    },
    {
      "cell_type": "code",
      "execution_count": null,
      "metadata": {
        "id": "Pl3XkW3QaFi2"
      },
      "outputs": [],
      "source": [
        "column = 'Domain'\n",
        "plt.figure(figsize=(8, 6))\n",
        "\n",
        "sns.histplot(data=df, x=column, kde=True, color='skyblue', bins=20)\n",
        "plt.xlabel(column)\n",
        "plt.ylabel('Frequency')\n",
        "plt.title(f'Histogram for {column}')\n",
        "plt.grid(True)\n",
        "plt.savefig(f'/content/drive/MyDrive/Innomatics Research lab/Figures/Histogram for {column}')\n",
        "plt.show()"
      ]
    },
    {
      "cell_type": "code",
      "execution_count": null,
      "metadata": {
        "id": "shObMU4_aKPp"
      },
      "outputs": [],
      "source": [
        "column = 'ComputerProgramming'\n",
        "plt.figure(figsize=(8, 6))\n",
        "\n",
        "sns.histplot(data=df, x=column, kde=True, color='skyblue', bins=20)\n",
        "plt.xlabel(column)\n",
        "plt.ylabel('Frequency')\n",
        "plt.title(f'Histogram for {column}')\n",
        "plt.grid(True)\n",
        "plt.savefig(f'/content/drive/MyDrive/Innomatics Research lab/Figures/Histogram for {column}')\n",
        "plt.show()"
      ]
    },
    {
      "cell_type": "code",
      "execution_count": null,
      "metadata": {
        "id": "M7NNypK1aOK0"
      },
      "outputs": [],
      "source": [
        "column = 'ElectronicsAndSemicon'\n",
        "plt.figure(figsize=(8, 6))\n",
        "\n",
        "sns.histplot(data=df, x=column, kde=True, color='skyblue', bins=20)\n",
        "plt.xlabel(column)\n",
        "plt.ylabel('Frequency')\n",
        "plt.title(f'Histogram for {column}')\n",
        "plt.grid(True)\n",
        "plt.savefig(f'/content/drive/MyDrive/Innomatics Research lab/Figures/Histogram for {column}')\n",
        "plt.show()"
      ]
    },
    {
      "cell_type": "code",
      "execution_count": null,
      "metadata": {
        "id": "EWOlJcGoaRDn"
      },
      "outputs": [],
      "source": [
        "column = 'ComputerScience'\n",
        "plt.figure(figsize=(8, 6))\n",
        "\n",
        "sns.histplot(data=df, x=column, kde=True, color='skyblue', bins=20)\n",
        "plt.xlabel(column)\n",
        "plt.ylabel('Frequency')\n",
        "plt.title(f'Histogram for {column}')\n",
        "plt.grid(True)\n",
        "plt.savefig(f'/content/drive/MyDrive/Innomatics Research lab/Figures/Histogram for {column}')\n",
        "plt.show()"
      ]
    },
    {
      "cell_type": "code",
      "execution_count": null,
      "metadata": {
        "id": "wLPRfCgHaUKR"
      },
      "outputs": [],
      "source": [
        "column = 'MechanicalEngg'\n",
        "plt.figure(figsize=(8, 6))\n",
        "\n",
        "sns.histplot(data=df, x=column, kde=True, color='skyblue', bins=20)\n",
        "plt.xlabel(column)\n",
        "plt.ylabel('Frequency')\n",
        "plt.title(f'Histogram for {column}')\n",
        "plt.grid(True)\n",
        "plt.savefig(f'/content/drive/MyDrive/Innomatics Research lab/Figures/Histogram for {column}')\n",
        "plt.show()"
      ]
    },
    {
      "cell_type": "code",
      "execution_count": null,
      "metadata": {
        "id": "nNSP5QzCaYEX"
      },
      "outputs": [],
      "source": [
        "column = 'ElectricalEngg'\n",
        "plt.figure(figsize=(8, 6))\n",
        "\n",
        "sns.histplot(data=df, x=column, kde=True, color='skyblue', bins=20)\n",
        "plt.xlabel(column)\n",
        "plt.ylabel('Frequency')\n",
        "plt.title(f'Histogram for {column}')\n",
        "plt.grid(True)\n",
        "plt.savefig(f'/content/drive/MyDrive/Innomatics Research lab/Figures/Histogram for {column}')\n",
        "plt.show()"
      ]
    },
    {
      "cell_type": "code",
      "execution_count": null,
      "metadata": {
        "id": "PJlJIz48aaq6"
      },
      "outputs": [],
      "source": [
        "column = 'TelecomEngg'\n",
        "plt.figure(figsize=(8, 6))\n",
        "\n",
        "sns.histplot(data=df, x=column, kde=True, color='skyblue', bins=20)\n",
        "plt.xlabel(column)\n",
        "plt.ylabel('Frequency')\n",
        "plt.title(f'Histogram for {column}')\n",
        "plt.grid(True)\n",
        "plt.savefig(f'/content/drive/MyDrive/Innomatics Research lab/Figures/Histogram for {column}')\n",
        "plt.show()"
      ]
    },
    {
      "cell_type": "code",
      "execution_count": null,
      "metadata": {
        "id": "w7817qTsadUT"
      },
      "outputs": [],
      "source": [
        "column = 'CivilEngg'\n",
        "plt.figure(figsize=(8, 6))\n",
        "\n",
        "sns.histplot(data=df, x=column, kde=True, color='skyblue', bins=20)\n",
        "plt.xlabel(column)\n",
        "plt.ylabel('Frequency')\n",
        "plt.title(f'Histogram for {column}')\n",
        "plt.grid(True)\n",
        "plt.savefig(f'/content/drive/MyDrive/Innomatics Research lab/Figures/Histogram for {column}')\n",
        "plt.show()"
      ]
    },
    {
      "cell_type": "code",
      "execution_count": null,
      "metadata": {
        "id": "vwMOVnrkmpVC"
      },
      "outputs": [],
      "source": [
        "plt.figure(figsize=(10, 20))\n",
        "\n",
        "# Histogram\n",
        "plt.subplot(3, 1, 1)\n",
        "plt.hist(df['conscientiousness'], bins=10, color='skyblue', edgecolor='black')\n",
        "plt.xlabel('Conscientiousness')\n",
        "plt.ylabel('Frequency')\n",
        "plt.title('Histogram for Conscientiousness')\n",
        "plt.grid(True)\n",
        "plt.savefig(r'/content/drive/MyDrive/Innomatics Research lab/Figures/Histogram for Conscientiousness')\n",
        "\n",
        "# Countplot\n",
        "plt.subplot(3, 1, 2)\n",
        "sns.countplot(data=df, x='conscientiousness')\n",
        "plt.xlabel('Conscientiousness')\n",
        "plt.ylabel('Count')\n",
        "plt.title('Countplot for Conscientiousness')\n",
        "plt.grid(True)\n",
        "plt.savefig(r'/content/drive/MyDrive/Innomatics Research lab/Figures/Countplot for Conscientiousness')\n",
        "\n",
        "# Boxplot\n",
        "plt.subplot(3, 1, 3)\n",
        "sns.boxplot(data=df, y='conscientiousness')\n",
        "plt.ylabel('Conscientiousness')\n",
        "plt.title('Boxplot for Conscientiousness')\n",
        "plt.grid(True)\n",
        "plt.savefig(r'/content/drive/MyDrive/Innomatics Research lab/Figures/Boxplot for Conscientiousness')\n",
        "\n",
        "plt.tight_layout()\n",
        "plt.show()"
      ]
    },
    {
      "cell_type": "markdown",
      "metadata": {
        "id": "mBzyOYhHoLzb"
      },
      "source": [
        "# **agreeableness**"
      ]
    },
    {
      "cell_type": "code",
      "execution_count": null,
      "metadata": {
        "id": "UXxHT_HyoJku"
      },
      "outputs": [],
      "source": [
        "plt.figure(figsize=(18, 18))\n",
        "\n",
        "# Histogram\n",
        "plt.subplot(3, 1, 1)\n",
        "plt.hist(df['agreeableness'], bins=10, color='skyblue', edgecolor='black')\n",
        "plt.xlabel('Agreeableness')\n",
        "plt.ylabel('Frequency')\n",
        "plt.title('Histogram for Agreeableness')\n",
        "plt.grid(True)\n",
        "plt.savefig(r'/content/drive/MyDrive/Innomatics Research lab/Figures/Histogram for Agreeableness')\n",
        "\n",
        "# Countplot\n",
        "plt.subplot(3, 1, 2)\n",
        "sns.countplot(data=df, x='agreeableness')\n",
        "plt.xlabel('Agreeableness')\n",
        "plt.ylabel('Count')\n",
        "plt.title('Countplot for Agreeableness')\n",
        "plt.grid(True)\n",
        "plt.savefig(r'/content/drive/MyDrive/Innomatics Research lab/Figures/Countplot for Agreeableness')\n",
        "\n",
        "# Boxplot\n",
        "plt.subplot(3, 1, 3)\n",
        "sns.boxplot(data=df, y='agreeableness')\n",
        "plt.ylabel('Agreeableness')\n",
        "plt.title('Boxplot for Agreeableness')\n",
        "plt.grid(True)\n",
        "plt.savefig(r'/content/drive/MyDrive/Innomatics Research lab/Figures/Boxplot for Agreeableness')\n",
        "\n",
        "plt.tight_layout()\n",
        "plt.show()"
      ]
    },
    {
      "cell_type": "markdown",
      "metadata": {
        "id": "1dz3uWCKoamE"
      },
      "source": [
        "# **Extraversion**"
      ]
    },
    {
      "cell_type": "code",
      "execution_count": null,
      "metadata": {
        "id": "6lpC5YfIoZ2E"
      },
      "outputs": [],
      "source": [
        "plt.figure(figsize=(18, 18))\n",
        "\n",
        "# Histogram\n",
        "plt.subplot(3, 1, 1)\n",
        "plt.hist(df['extraversion'], bins=10, color='skyblue', edgecolor='black')\n",
        "plt.xlabel('Extraversion')\n",
        "plt.ylabel('Frequency')\n",
        "plt.title('Histogram for Extraversion')\n",
        "plt.grid(True)\n",
        "plt.savefig(r'/content/drive/MyDrive/Innomatics Research lab/Figures/Histogram for Extraversion')\n",
        "\n",
        "# Countplot\n",
        "plt.subplot(3, 1, 2)\n",
        "sns.countplot(data=df, x='extraversion')\n",
        "plt.xlabel('Extraversion')\n",
        "plt.ylabel('Count')\n",
        "plt.title('Countplot for Extraversion')\n",
        "plt.grid(True)\n",
        "plt.savefig(r'/content/drive/MyDrive/Innomatics Research lab/Figures/Countplot for Extraversion')\n",
        "\n",
        "# Boxplot\n",
        "plt.subplot(3, 1, 3)\n",
        "sns.boxplot(data=df, y='extraversion')\n",
        "plt.ylabel('Extraversion')\n",
        "plt.title('Boxplot for Extraversion')\n",
        "plt.grid(True)\n",
        "plt.savefig(r'/content/drive/MyDrive/Innomatics Research lab/Figures/Boxplot for Extraversion')\n",
        "\n",
        "plt.tight_layout()\n",
        "plt.show()"
      ]
    },
    {
      "cell_type": "markdown",
      "metadata": {
        "id": "Ag_hGT2Xo1lM"
      },
      "source": [
        "# **Nueroticism**"
      ]
    },
    {
      "cell_type": "code",
      "execution_count": null,
      "metadata": {
        "id": "VrQL_z2wo1GF"
      },
      "outputs": [],
      "source": [
        "plt.figure(figsize=(18, 18))\n",
        "\n",
        "# Histogram\n",
        "plt.subplot(3, 1, 1)\n",
        "plt.hist(df['nueroticism'], bins=10, color='skyblue', edgecolor='black')\n",
        "plt.xlabel('Nueroticism')\n",
        "plt.ylabel('Frequency')\n",
        "plt.title('Histogram for Nueroticism')\n",
        "plt.grid(True)\n",
        "plt.savefig(r'/content/drive/MyDrive/Innomatics Research lab/Figures/Histogram for Nueroticism')\n",
        "\n",
        "# Countplot\n",
        "plt.subplot(3, 1, 2)\n",
        "sns.countplot(data=df, x='nueroticism')\n",
        "plt.xlabel('Nueroticism')\n",
        "plt.ylabel('Count')\n",
        "plt.title('Countplot for Nueroticism')\n",
        "plt.grid(True)\n",
        "plt.savefig(r'/content/drive/MyDrive/Innomatics Research lab/Figures/Countplot for Nueroticism')\n",
        "\n",
        "# Boxplot\n",
        "plt.subplot(3, 1, 3)\n",
        "sns.boxplot(data=df, y='nueroticism')\n",
        "plt.ylabel('Nueroticism')\n",
        "plt.title('Boxplot for Nueroticism')\n",
        "plt.grid(True)\n",
        "plt.savefig(r'/content/drive/MyDrive/Innomatics Research lab/Figures/Boxplot for Nueroticism')\n",
        "\n",
        "plt.tight_layout()\n",
        "plt.show()"
      ]
    },
    {
      "cell_type": "markdown",
      "metadata": {
        "id": "9RdU8C4QpKZx"
      },
      "source": [
        "# **Openness to Experience**"
      ]
    },
    {
      "cell_type": "code",
      "execution_count": null,
      "metadata": {
        "id": "4pMGbDfOpLAq"
      },
      "outputs": [],
      "source": [
        "plt.figure(figsize=(18, 18))\n",
        "\n",
        "# Histogram\n",
        "plt.subplot(3, 1, 1)\n",
        "plt.hist(df['openess_to_experience'], bins=10, color='skyblue', edgecolor='black')\n",
        "plt.xlabel('Openness to Experience')\n",
        "plt.ylabel('Frequency')\n",
        "plt.title('Histogram for Openness to Experience')\n",
        "plt.grid(True)\n",
        "plt.savefig(r'/content/drive/MyDrive/Innomatics Research lab/Figures/Histogram for Openness to Experience')\n",
        "\n",
        "# Countplot\n",
        "plt.subplot(3, 1, 2)\n",
        "sns.countplot(data=df, x='openess_to_experience')\n",
        "plt.xlabel('Openness to Experience')\n",
        "plt.ylabel('Count')\n",
        "plt.title('Countplot for Openness to Experience')\n",
        "plt.grid(True)\n",
        "plt.savefig(r'/content/drive/MyDrive/Innomatics Research lab/Figures/Countplot for Openness to Experience')\n",
        "\n",
        "# Boxplot\n",
        "plt.subplot(3, 1, 3)\n",
        "sns.boxplot(data=df, y='openess_to_experience')\n",
        "plt.ylabel('Openness to Experience')\n",
        "plt.title('Boxplot for Openness to Experience')\n",
        "plt.grid(True)\n",
        "plt.savefig(r'/content/drive/MyDrive/Innomatics Research lab/Figures/Boxplot for Openness to Experience')\n",
        "\n",
        "plt.tight_layout()\n",
        "plt.show()"
      ]
    },
    {
      "cell_type": "code",
      "execution_count": null,
      "metadata": {
        "id": "FLTc_GX-RTaI"
      },
      "outputs": [],
      "source": [
        "col = ['DOJ',  'DOB', '10percentage', '12graduation', '12percentage',\n",
        "       'CollegeID', 'collegeGPA', 'CollegeCityID',\n",
        "       'English', 'Logical', 'Quant', 'Domain', 'ComputerProgramming',\n",
        "       'ElectronicsAndSemicon', 'ComputerScience', 'MechanicalEngg', 'ElectricalEngg',\n",
        "       'TelecomEngg', 'CivilEngg', 'conscientiousness', 'agreeableness', 'extraversion',\n",
        "       'nueroticism', 'openess_to_experience']\n",
        "\n",
        "for col_name in col:\n",
        "    plt.figure(figsize=(8, 6))\n",
        "    plt.scatter(df['Salary'], df[col_name], color='m')\n",
        "    plt.title(f'Scatter plot between Salary and {col_name}')\n",
        "    plt.xlabel('Salary')\n",
        "    plt.ylabel(col_name)\n",
        "    plt.savefig(f'/content/drive/MyDrive/Innomatics Research lab/Figures/Scatter plot between Salary and {col_name}')\n",
        "    plt.show()\n",
        "    plt.subplots_adjust(bottom=0.2)\n"
      ]
    },
    {
      "cell_type": "code",
      "execution_count": null,
      "metadata": {
        "id": "OIwkK-35VKrn"
      },
      "outputs": [],
      "source": [
        "col = [ 'DOB', '10percentage', '12graduation', '12percentage',\n",
        "       'CollegeID', 'collegeGPA', 'CollegeCityID',\n",
        "       'English', 'Logical', 'Quant', 'Domain', 'ComputerProgramming',\n",
        "       'ElectronicsAndSemicon', 'ComputerScience', 'MechanicalEngg', 'ElectricalEngg',\n",
        "       'TelecomEngg', 'CivilEngg', 'conscientiousness', 'agreeableness', 'extraversion',\n",
        "       'nueroticism', 'openess_to_experience']\n",
        "\n",
        "for col_name in col:\n",
        "    plt.figure(figsize=(8, 6))\n",
        "    plt.scatter(df['DOJ'], df[col_name], color='m')\n",
        "    plt.title(f'Scatter plot between DOJ and {col_name}')\n",
        "    plt.xlabel('DOJ')\n",
        "    plt.ylabel(col_name)\n",
        "    plt.savefig(f'/content/drive/MyDrive/Innomatics Research lab/Figures/Scatter plot between DOJ and {col_name}')\n",
        "    plt.show()\n",
        "    plt.subplots_adjust(bottom=0.2)"
      ]
    },
    {
      "cell_type": "code",
      "execution_count": null,
      "metadata": {
        "id": "LB5UhUaYXGcU"
      },
      "outputs": [],
      "source": [
        "col = [ '10percentage', '12graduation', '12percentage',\n",
        "       'CollegeID', 'collegeGPA', 'CollegeCityID',\n",
        "       'English', 'Logical', 'Quant', 'Domain', 'ComputerProgramming',\n",
        "       'ElectronicsAndSemicon', 'ComputerScience', 'MechanicalEngg', 'ElectricalEngg',\n",
        "       'TelecomEngg', 'CivilEngg', 'conscientiousness', 'agreeableness', 'extraversion',\n",
        "       'nueroticism', 'openess_to_experience']\n",
        "\n",
        "for col_name in col:\n",
        "    plt.figure(figsize=(8, 6))\n",
        "    plt.scatter(df['DOB'], df[col_name], color='m')\n",
        "    plt.title(f'Scatter plot between DOB and {col_name}')\n",
        "    plt.xlabel('DOB')\n",
        "    plt.ylabel(col_name)\n",
        "    plt.savefig(f'/content/drive/MyDrive/Innomatics Research lab/Figures/Scatter plot between DOB and {col_name}')\n",
        "    plt.show()\n",
        "    plt.subplots_adjust(bottom=0.2)"
      ]
    },
    {
      "cell_type": "code",
      "execution_count": null,
      "metadata": {
        "id": "kUjqkdgAXqBC"
      },
      "outputs": [],
      "source": [
        "col = ['Gender', '12graduation', '12percentage',\n",
        "       'CollegeID', 'Degree', 'Specialization', 'collegeGPA', 'CollegeCityID', 'CollegeState',\n",
        "       'English', 'Logical', 'Quant', 'Domain', 'ComputerProgramming',\n",
        "       'ElectronicsAndSemicon', 'ComputerScience', 'MechanicalEngg', 'ElectricalEngg',\n",
        "       'TelecomEngg', 'CivilEngg', 'conscientiousness', 'agreeableness', 'extraversion',\n",
        "       'nueroticism', 'openess_to_experience']\n",
        "\n",
        "for col_name in col:\n",
        "    plt.figure(figsize=(8, 6))\n",
        "    plt.scatter(df['10percentage'], df[col_name], color='m')\n",
        "    plt.title(f'Scatter plot between 10percentage and {col_name}')\n",
        "    plt.xlabel('10percentage')\n",
        "    plt.ylabel(col_name)\n",
        "    plt.savefig(f'/content/drive/MyDrive/Innomatics Research lab/Figures/Scatter plot between 10percentage and {col_name}')\n",
        "    plt.show()\n",
        "    plt.subplots_adjust(bottom=0.2)"
      ]
    },
    {
      "cell_type": "code",
      "execution_count": null,
      "metadata": {
        "id": "TqudUrbeX3xJ"
      },
      "outputs": [],
      "source": [
        "col = ['12percentage',\n",
        "       'CollegeID','collegeGPA', 'CollegeCityID',\n",
        "       'English', 'Logical', 'Quant', 'Domain', 'ComputerProgramming',\n",
        "       'ElectronicsAndSemicon', 'ComputerScience', 'MechanicalEngg', 'ElectricalEngg',\n",
        "       'TelecomEngg', 'CivilEngg', 'conscientiousness', 'agreeableness', 'extraversion',\n",
        "       'nueroticism', 'openess_to_experience']\n",
        "\n",
        "for col_name in col:\n",
        "    plt.figure(figsize=(8, 6))\n",
        "    plt.scatter(df['12graduation'], df[col_name], color='m')\n",
        "    plt.title(f'Scatter plot between 12graduation and {col_name}')\n",
        "    plt.xlabel('12graduation')\n",
        "    plt.ylabel(col_name)\n",
        "    plt.savefig(f'/content/drive/MyDrive/Innomatics Research lab/Figures/Scatter plot between 12graduation and {col_name}')\n",
        "    plt.show()\n",
        "    plt.subplots_adjust(bottom=0.2)"
      ]
    },
    {
      "cell_type": "code",
      "execution_count": null,
      "metadata": {
        "id": "XJSgnzOpYIzy"
      },
      "outputs": [],
      "source": [
        "col = ['CollegeID', 'Degree', 'Specialization', 'collegeGPA', 'CollegeCityID', 'CollegeState',\n",
        "       'English', 'Logical', 'Quant', 'Domain', 'ComputerProgramming',\n",
        "       'ElectronicsAndSemicon', 'ComputerScience', 'MechanicalEngg', 'ElectricalEngg',\n",
        "       'TelecomEngg', 'CivilEngg', 'conscientiousness', 'agreeableness', 'extraversion',\n",
        "       'nueroticism', 'openess_to_experience']\n",
        "\n",
        "for col_name in col:\n",
        "    plt.figure(figsize=(8, 6))\n",
        "    plt.scatter(df['12percentage'], df[col_name], color='m')\n",
        "    plt.title(f'Scatter plot between 12percentage and {col_name}')\n",
        "    plt.xlabel('12percentage')\n",
        "    plt.ylabel(col_name)\n",
        "    plt.savefig(f'/content/drive/MyDrive/Innomatics Research lab/Figures/Scatter plot between 12percentage and {col_name}')\n",
        "    plt.show()\n",
        "    plt.subplots_adjust(bottom=0.2)"
      ]
    },
    {
      "cell_type": "code",
      "execution_count": null,
      "metadata": {
        "id": "8knVm5_zYTS4"
      },
      "outputs": [],
      "source": [
        "col = ['collegeGPA', 'CollegeCityID',\n",
        "       'English', 'Logical', 'Quant', 'Domain', 'ComputerProgramming',\n",
        "       'ElectronicsAndSemicon', 'ComputerScience', 'MechanicalEngg', 'ElectricalEngg',\n",
        "       'TelecomEngg', 'CivilEngg', 'conscientiousness', 'agreeableness', 'extraversion',\n",
        "       'nueroticism', 'openess_to_experience']\n",
        "\n",
        "for col_name in col:\n",
        "    plt.figure(figsize=(8, 6))\n",
        "    plt.scatter(df['CollegeID'], df[col_name], color='m')\n",
        "    plt.title(f'Scatter plot between CollegeID and {col_name}')\n",
        "    plt.xlabel('CollegeID')\n",
        "    plt.ylabel(col_name)\n",
        "    plt.savefig(f'/content/drive/MyDrive/Innomatics Research lab/Figures/Scatter plot between CollegeID and {col_name}')\n",
        "    plt.show()\n",
        "    plt.subplots_adjust(bottom=0.2)"
      ]
    },
    {
      "cell_type": "code",
      "execution_count": null,
      "metadata": {
        "id": "ooA3KjDIZh5f"
      },
      "outputs": [],
      "source": [
        "col = [ 'CollegeCityID',\n",
        "       'English', 'Logical', 'Quant', 'Domain', 'ComputerProgramming',\n",
        "       'ElectronicsAndSemicon', 'ComputerScience', 'MechanicalEngg', 'ElectricalEngg',\n",
        "       'TelecomEngg', 'CivilEngg', 'conscientiousness', 'agreeableness', 'extraversion',\n",
        "       'nueroticism', 'openess_to_experience']\n",
        "\n",
        "for col_name in col:\n",
        "    plt.figure(figsize=(8, 6))\n",
        "    plt.scatter(df['collegeGPA'], df[col_name], color='m')\n",
        "    plt.title(f'Scatter plot between collegeGPA and {col_name}')\n",
        "    plt.xlabel('collegeGPA')\n",
        "    plt.ylabel(col_name)\n",
        "    plt.savefig(f'/content/drive/MyDrive/Innomatics Research lab/Figures/Scatter plot between collegeGPA and {col_name}')\n",
        "    plt.show()\n",
        "    plt.subplots_adjust(bottom=0.2)"
      ]
    },
    {
      "cell_type": "code",
      "execution_count": null,
      "metadata": {
        "id": "xATdeYPVZtEl"
      },
      "outputs": [],
      "source": [
        "col = ['English', 'Logical', 'Quant', 'Domain', 'ComputerProgramming',\n",
        "       'ElectronicsAndSemicon', 'ComputerScience', 'MechanicalEngg', 'ElectricalEngg',\n",
        "       'TelecomEngg', 'CivilEngg', 'conscientiousness', 'agreeableness', 'extraversion',\n",
        "       'nueroticism', 'openess_to_experience']\n",
        "\n",
        "for col_name in col:\n",
        "    plt.figure(figsize=(8, 6))\n",
        "    plt.scatter(df['CollegeCityID'], df[col_name], color='m')\n",
        "    plt.title(f'Scatter plot between CollegeCityID and {col_name}')\n",
        "    plt.xlabel('CollegeCityID')\n",
        "    plt.ylabel(col_name)\n",
        "    plt.savefig(f'/content/drive/MyDrive/Innomatics Research lab/Figures/Scatter plot between CollegeCityID and {col_name}')\n",
        "    plt.show()\n",
        "    plt.subplots_adjust(bottom=0.2)"
      ]
    },
    {
      "cell_type": "code",
      "execution_count": null,
      "metadata": {
        "id": "eSJfu2C8aLDL"
      },
      "outputs": [],
      "source": [
        "col = ['Gender', 'Logical', 'Quant', 'Domain', 'ComputerProgramming',\n",
        "       'ElectronicsAndSemicon', 'ComputerScience', 'MechanicalEngg', 'ElectricalEngg',\n",
        "       'TelecomEngg', 'CivilEngg', 'conscientiousness', 'agreeableness', 'extraversion',\n",
        "       'nueroticism', 'openess_to_experience']\n",
        "\n",
        "for col_name in col:\n",
        "    plt.figure(figsize=(8, 6))\n",
        "    plt.scatter(df['English'], df[col_name], color='m')\n",
        "    plt.title(f'Scatter plot between English and {col_name}')\n",
        "    plt.xlabel('English')\n",
        "    plt.ylabel(col_name)\n",
        "    plt.savefig(f'/content/drive/MyDrive/Innomatics Research lab/Figures/Scatter plot between English and {col_name}')\n",
        "    plt.show()\n",
        "    plt.subplots_adjust(bottom=0.2)"
      ]
    },
    {
      "cell_type": "code",
      "execution_count": null,
      "metadata": {
        "id": "P7cQDK7BaZCE"
      },
      "outputs": [],
      "source": [
        "col = [ 'Quant', 'Domain', 'ComputerProgramming',\n",
        "       'ElectronicsAndSemicon', 'ComputerScience', 'MechanicalEngg', 'ElectricalEngg',\n",
        "       'TelecomEngg', 'CivilEngg', 'conscientiousness', 'agreeableness', 'extraversion',\n",
        "       'nueroticism', 'openess_to_experience']\n",
        "\n",
        "for col_name in col:\n",
        "    plt.figure(figsize=(8, 6))\n",
        "    plt.scatter(df['Logical'], df[col_name], color='m')\n",
        "    plt.title(f'Scatter plot between Logical and {col_name}')\n",
        "    plt.xlabel('Logical')\n",
        "    plt.ylabel(col_name)\n",
        "    plt.savefig(f'/content/drive/MyDrive/Innomatics Research lab/Figures/Scatter plot between Logical and {col_name}')\n",
        "    plt.show()\n",
        "    plt.subplots_adjust(bottom=0.2)"
      ]
    },
    {
      "cell_type": "code",
      "execution_count": null,
      "metadata": {
        "id": "6SEfXZMRakCT"
      },
      "outputs": [],
      "source": [
        "col = ['Domain', 'ComputerProgramming',\n",
        "       'ElectronicsAndSemicon', 'ComputerScience', 'MechanicalEngg', 'ElectricalEngg',\n",
        "       'TelecomEngg', 'CivilEngg', 'conscientiousness', 'agreeableness', 'extraversion',\n",
        "       'nueroticism', 'openess_to_experience']\n",
        "\n",
        "for col_name in col:\n",
        "    plt.figure(figsize=(8, 6))\n",
        "    plt.scatter(df['Quant'], df[col_name], color='m')\n",
        "    plt.title(f'Scatter plot between Quant and {col_name}')\n",
        "    plt.xlabel('Quant')\n",
        "    plt.ylabel(col_name)\n",
        "    plt.savefig(f'/content/drive/MyDrive/Innomatics Research lab/Figures/Scatter plot between Quant and {col_name}')\n",
        "    plt.show()\n",
        "    plt.subplots_adjust(bottom=0.2)"
      ]
    },
    {
      "cell_type": "code",
      "execution_count": null,
      "metadata": {
        "id": "yfbBDNg0arHH"
      },
      "outputs": [],
      "source": [
        "col = [ 'ComputerProgramming',\n",
        "       'ElectronicsAndSemicon', 'ComputerScience', 'MechanicalEngg', 'ElectricalEngg',\n",
        "       'TelecomEngg', 'CivilEngg', 'conscientiousness', 'agreeableness', 'extraversion',\n",
        "       'nueroticism', 'openess_to_experience']\n",
        "\n",
        "for col_name in col:\n",
        "    plt.figure(figsize=(8, 6))\n",
        "    plt.scatter(df['Domain'], df[col_name], color='m')\n",
        "    plt.title(f'Scatter plot between Domain and {col_name}')\n",
        "    plt.xlabel('Domain')\n",
        "    plt.ylabel(col_name)\n",
        "    plt.savefig(f'/content/drive/MyDrive/Innomatics Research lab/Figures/Scatter plot between Domain and {col_name}')\n",
        "    plt.show()\n",
        "    plt.subplots_adjust(bottom=0.2)"
      ]
    },
    {
      "cell_type": "code",
      "execution_count": null,
      "metadata": {
        "id": "ySiwxNAwbUGD"
      },
      "outputs": [],
      "source": [
        "col = [ 'ElectronicsAndSemicon', 'ComputerScience', 'MechanicalEngg', 'ElectricalEngg',\n",
        "       'TelecomEngg', 'CivilEngg', 'conscientiousness', 'agreeableness', 'extraversion',\n",
        "       'nueroticism', 'openess_to_experience']\n",
        "\n",
        "for col_name in col:\n",
        "    plt.figure(figsize=(8, 6))\n",
        "    plt.scatter(df['ComputerProgramming'], df[col_name], color='m')\n",
        "    plt.title(f'Scatter plot between ComputerProgramming and {col_name}')\n",
        "    plt.xlabel('ComputerProgramming')\n",
        "    plt.ylabel(col_name)\n",
        "    plt.savefig(f'/content/drive/MyDrive/Innomatics Research lab/Figures/Scatter plot between ComputerProgramming and {col_name}')\n",
        "    plt.show()\n",
        "    plt.subplots_adjust(bottom=0.2)"
      ]
    },
    {
      "cell_type": "code",
      "execution_count": null,
      "metadata": {
        "id": "TDzn3k6WbhnT"
      },
      "outputs": [],
      "source": [
        "col = [ 'ComputerScience', 'MechanicalEngg', 'ElectricalEngg',\n",
        "       'TelecomEngg', 'CivilEngg', 'conscientiousness', 'agreeableness', 'extraversion',\n",
        "       'nueroticism', 'openess_to_experience']\n",
        "\n",
        "for col_name in col:\n",
        "    plt.figure(figsize=(8, 6))\n",
        "    plt.scatter(df['ElectronicsAndSemicon'], df[col_name], color='m')\n",
        "    plt.title(f'Scatter plot between ElectronicsAndSemicon and {col_name}')\n",
        "    plt.xlabel('ElectronicsAndSemicon')\n",
        "    plt.ylabel(col_name)\n",
        "    plt.savefig(f'/content/drive/MyDrive/Innomatics Research lab/Figures/Scatter plot between ElectronicsAndSemicon and {col_name}')\n",
        "    plt.show()\n",
        "    plt.subplots_adjust(bottom=0.2)"
      ]
    },
    {
      "cell_type": "code",
      "execution_count": null,
      "metadata": {
        "id": "7Xrm82ekbplB"
      },
      "outputs": [],
      "source": [
        "col = [ 'ComputerScience', 'MechanicalEngg', 'ElectricalEngg',\n",
        "       'TelecomEngg', 'CivilEngg', 'conscientiousness', 'agreeableness', 'extraversion',\n",
        "       'nueroticism', 'openess_to_experience']\n",
        "\n",
        "for col_name in col:\n",
        "    plt.figure(figsize=(8, 6))\n",
        "    plt.scatter(df['ComputerScience'], df[col_name], color='m')\n",
        "    plt.title(f'Scatter plot between ComputerScience and {col_name}')\n",
        "    plt.xlabel('ComputerScience')\n",
        "    plt.ylabel(col_name)\n",
        "    plt.savefig(f'/content/drive/MyDrive/Innomatics Research lab/Figures/Scatter plot between ComputerScience and {col_name}')\n",
        "    plt.show()\n",
        "    plt.subplots_adjust(bottom=0.2)"
      ]
    },
    {
      "cell_type": "code",
      "execution_count": null,
      "metadata": {
        "id": "iJ2CEw2bb0KV"
      },
      "outputs": [],
      "source": [
        "col = ['ElectricalEngg',\n",
        "       'TelecomEngg', 'CivilEngg', 'conscientiousness', 'agreeableness', 'extraversion',\n",
        "       'nueroticism', 'openess_to_experience']\n",
        "\n",
        "for col_name in col:\n",
        "    plt.figure(figsize=(8, 6))\n",
        "    plt.scatter(df['MechanicalEngg'], df[col_name], color='m')\n",
        "    plt.title(f'Scatter plot between MechanicalEngg and {col_name}')\n",
        "    plt.xlabel('MechanicalEngg')\n",
        "    plt.ylabel(col_name)\n",
        "    plt.savefig(f'/content/drive/MyDrive/Innomatics Research lab/Figures/Scatter plot between MechanicalEngg and {col_name}')\n",
        "    plt.show()\n",
        "    plt.subplots_adjust(bottom=0.2)"
      ]
    },
    {
      "cell_type": "code",
      "execution_count": null,
      "metadata": {
        "id": "i6rEDFmab8-8"
      },
      "outputs": [],
      "source": [
        "col = ['TelecomEngg', 'CivilEngg', 'conscientiousness', 'agreeableness', 'extraversion',\n",
        "       'nueroticism', 'openess_to_experience']\n",
        "\n",
        "for col_name in col:\n",
        "    plt.figure(figsize=(8, 6))\n",
        "    plt.scatter(df['ElectricalEngg'], df[col_name], color='m')\n",
        "    plt.title(f'Scatter plot between ElectricalEngg and {col_name}')\n",
        "    plt.xlabel('ElectricalEngg')\n",
        "    plt.ylabel(col_name)\n",
        "    plt.savefig(f'/content/drive/MyDrive/Innomatics Research lab/Figures/Scatter plot between ElectricalEngg and {col_name}')\n",
        "    plt.show()\n",
        "    plt.subplots_adjust(bottom=0.2)"
      ]
    },
    {
      "cell_type": "code",
      "execution_count": null,
      "metadata": {
        "id": "TsIcQt5NcXVV"
      },
      "outputs": [],
      "source": [
        "col = ['conscientiousness', 'agreeableness', 'extraversion',\n",
        "       'nueroticism', 'openess_to_experience']\n",
        "\n",
        "for col_name in col:\n",
        "    plt.figure(figsize=(8, 6))\n",
        "    plt.scatter(df['CivilEngg'], df[col_name], color='m')\n",
        "    plt.title(f'Scatter plot between CivilEngg and {col_name}')\n",
        "    plt.xlabel('CivilEngg')\n",
        "    plt.ylabel(col_name)\n",
        "    plt.savefig(f'/content/drive/MyDrive/Innomatics Research lab/Figures/Scatter plot between CivilEngg and {col_name}')\n",
        "    plt.show()\n",
        "    plt.subplots_adjust(bottom=0.2)"
      ]
    },
    {
      "cell_type": "code",
      "execution_count": null,
      "metadata": {
        "id": "E952Tce5cy_E"
      },
      "outputs": [],
      "source": [
        "col = [ 'openess_to_experience']\n",
        "\n",
        "for col_name in col:\n",
        "    plt.figure(figsize=(8, 6))\n",
        "    plt.scatter(df['nueroticism'], df[col_name], color='m')\n",
        "    plt.title(f'Scatter plot between nueroticism and {col_name}')\n",
        "    plt.xlabel('nueroticism')\n",
        "    plt.ylabel(col_name)\n",
        "    plt.savefig(f'/content/drive/MyDrive/Innomatics Research lab/Figures/Scatter plot between nueroticism and {col_name}')\n",
        "    plt.show()\n",
        "    plt.subplots_adjust(bottom=0.2)"
      ]
    },
    {
      "cell_type": "code",
      "execution_count": null,
      "metadata": {
        "id": "UEsbyZRucpyv"
      },
      "outputs": [],
      "source": [
        "col = ['nueroticism', 'openess_to_experience']\n",
        "\n",
        "for col_name in col:\n",
        "    plt.figure(figsize=(8, 6))\n",
        "    plt.scatter(df['extraversion'], df[col_name], color='m')\n",
        "    plt.title(f'Scatter plot between extraversion and {col_name}')\n",
        "    plt.xlabel('extraversion')\n",
        "    plt.ylabel(col_name)\n",
        "    plt.savefig(f'/content/drive/MyDrive/Innomatics Research lab/Figures/Scatter plot between extraversion and {col_name}')\n",
        "    plt.show()\n",
        "    plt.subplots_adjust(bottom=0.2)"
      ]
    },
    {
      "cell_type": "code",
      "execution_count": null,
      "metadata": {
        "id": "Eumkggu7cjpj"
      },
      "outputs": [],
      "source": [
        "col = ['extraversion',\n",
        "       'nueroticism', 'openess_to_experience']\n",
        "\n",
        "for col_name in col:\n",
        "    plt.figure(figsize=(8, 6))\n",
        "    plt.scatter(df['agreeableness'], df[col_name], color='m')\n",
        "    plt.title(f'Scatter plot between agreeableness and {col_name}')\n",
        "    plt.xlabel('agreeableness')\n",
        "    plt.ylabel(col_name)\n",
        "    plt.savefig(f'/content/drive/MyDrive/Innomatics Research lab/Figures/Scatter plot between agreeableness and {col_name}')\n",
        "    plt.show()\n",
        "    plt.subplots_adjust(bottom=0.2)"
      ]
    },
    {
      "cell_type": "code",
      "execution_count": null,
      "metadata": {
        "id": "u_LC1kVscdig"
      },
      "outputs": [],
      "source": [
        "col = ['Gender','conscientiousness', 'agreeableness', 'extraversion',\n",
        "       'nueroticism', 'openess_to_experience']\n",
        "\n",
        "for col_name in col:\n",
        "    plt.figure(figsize=(8, 6))\n",
        "    plt.scatter(df['conscientiousness'], df[col_name], color='m')\n",
        "    plt.title(f'Scatter plot between conscientiousness and {col_name}')\n",
        "    plt.xlabel('conscientiousness')\n",
        "    plt.ylabel(col_name)\n",
        "    plt.savefig(f'/content/drive/MyDrive/Innomatics Research lab/Figures/Scatter plot between conscientiousness and {col_name}')\n",
        "    plt.show()\n",
        "    plt.subplots_adjust(bottom=0.2)"
      ]
    },
    {
      "cell_type": "code",
      "execution_count": null,
      "metadata": {
        "id": "HKvEx0_rcHcT"
      },
      "outputs": [],
      "source": [
        "col = ['CivilEngg', 'conscientiousness', 'agreeableness', 'extraversion',\n",
        "       'nueroticism', 'openess_to_experience']\n",
        "\n",
        "for col_name in col:\n",
        "    plt.figure(figsize=(8, 6))\n",
        "    plt.scatter(df['TelecomEngg'], df[col_name], color='m')\n",
        "    plt.title(f'Scatter plot between TelecomEngg and {col_name}')\n",
        "    plt.xlabel('TelecomEngg')\n",
        "    plt.ylabel(col_name)\n",
        "    plt.savefig(f'/content/drive/MyDrive/Innomatics Research lab/Figures/Scatter plot between TelecomEngg and {col_name}')\n",
        "    plt.show()\n",
        "    plt.subplots_adjust(bottom=0.2)"
      ]
    },
    {
      "cell_type": "code",
      "execution_count": null,
      "metadata": {
        "id": "15Povu61H_gc"
      },
      "outputs": [],
      "source": [
        "df.columns"
      ]
    },
    {
      "cell_type": "code",
      "execution_count": null,
      "metadata": {
        "id": "PUgQ7ZTU-f7T"
      },
      "outputs": [],
      "source": [
        "col = ['10percentage', '12graduation', '12percentage',\n",
        "       'CollegeID',  'collegeGPA', 'CollegeCityID',\n",
        "       'English', 'Logical', 'Quant', 'Domain', 'ComputerProgramming',\n",
        "       'ElectronicsAndSemicon', 'ComputerScience', 'MechanicalEngg', 'ElectricalEngg',\n",
        "       'TelecomEngg', 'CivilEngg', 'conscientiousness', 'agreeableness', 'extraversion',\n",
        "       'nueroticism', 'openess_to_experience']\n",
        "\n",
        "for col_name in col:\n",
        "    plt.figure(figsize=(8, 6))\n",
        "    plt.hexbin(df['Salary'], df[col_name], gridsize=20, cmap='PRGn')\n",
        "    plt.title(f'Hexbin plot between Salary and {col_name}')\n",
        "    plt.xlabel('Salary')\n",
        "    plt.ylabel(col_name)\n",
        "    plt.colorbar(label='count in bin')\n",
        "    plt.savefig(f'/content/drive/MyDrive/Innomatics Research lab/Figures/Hexbin plot between Salary and {col_name}')\n",
        "    plt.show()\n",
        "    plt.subplots_adjust(bottom=0.2)\n",
        "\n"
      ]
    },
    {
      "cell_type": "code",
      "execution_count": null,
      "metadata": {
        "id": "tQk6b1pXhuI3"
      },
      "outputs": [],
      "source": [
        "col = ['12graduation', '12percentage',\n",
        "       'CollegeID',  'collegeGPA', 'CollegeCityID',\n",
        "       'English', 'Logical', 'Quant', 'Domain', 'ComputerProgramming',\n",
        "       'ElectronicsAndSemicon', 'ComputerScience', 'MechanicalEngg', 'ElectricalEngg',\n",
        "       'TelecomEngg', 'CivilEngg', 'conscientiousness', 'agreeableness', 'extraversion',\n",
        "       'nueroticism', 'openess_to_experience']\n",
        "\n",
        "for col_name in col:\n",
        "    plt.figure(figsize=(8, 6))\n",
        "    plt.hexbin(df['10percentage'], df[col_name], gridsize=20, cmap='PRGn')\n",
        "    plt.title(f'Hexbin plot between 10percentage and {col_name}')\n",
        "    plt.xlabel('10percentage')\n",
        "    plt.ylabel(col_name)\n",
        "    plt.colorbar(label='count in bin')\n",
        "    plt.savefig(f'/content/drive/MyDrive/Innomatics Research lab/Figures/Hexbin plot between 10percentage and {col_name}')\n",
        "    plt.show()\n",
        "    plt.subplots_adjust(bottom=0.2)"
      ]
    },
    {
      "cell_type": "code",
      "execution_count": null,
      "metadata": {
        "id": "uYv9nmIOh1s0"
      },
      "outputs": [],
      "source": [
        "col = ['12percentage',\n",
        "       'CollegeID',  'collegeGPA', 'CollegeCityID',\n",
        "       'English', 'Logical', 'Quant', 'Domain', 'ComputerProgramming',\n",
        "       'ElectronicsAndSemicon', 'ComputerScience', 'MechanicalEngg', 'ElectricalEngg',\n",
        "       'TelecomEngg', 'CivilEngg', 'conscientiousness', 'agreeableness', 'extraversion',\n",
        "       'nueroticism', 'openess_to_experience']\n",
        "\n",
        "for col_name in col:\n",
        "    plt.figure(figsize=(8, 6))\n",
        "    plt.hexbin(df['12graduation'], df[col_name], gridsize=20, cmap='PRGn')\n",
        "    plt.title(f'Hexbin plot between 12graduation and {col_name}')\n",
        "    plt.xlabel('12graduation')\n",
        "    plt.ylabel(col_name)\n",
        "    plt.colorbar(label='count in bin')\n",
        "    plt.savefig(f'/content/drive/MyDrive/Innomatics Research lab/Figures/Hexbin plot between 12graduation and {col_name}')\n",
        "    plt.show()\n",
        "    plt.subplots_adjust(bottom=0.2)"
      ]
    },
    {
      "cell_type": "code",
      "execution_count": null,
      "metadata": {
        "id": "PU0LAhdeh9kR"
      },
      "outputs": [],
      "source": [
        "col = ['CollegeID',  'collegeGPA', 'CollegeCityID',\n",
        "       'English', 'Logical', 'Quant', 'Domain', 'ComputerProgramming',\n",
        "       'ElectronicsAndSemicon', 'ComputerScience', 'MechanicalEngg', 'ElectricalEngg',\n",
        "       'TelecomEngg', 'CivilEngg', 'conscientiousness', 'agreeableness', 'extraversion',\n",
        "       'nueroticism', 'openess_to_experience']\n",
        "\n",
        "for col_name in col:\n",
        "    plt.figure(figsize=(8, 6))\n",
        "    plt.hexbin(df['12percentage'], df[col_name], gridsize=20, cmap='PRGn')\n",
        "    plt.title(f'Hexbin plot between 12percentage and {col_name}')\n",
        "    plt.xlabel('12percentage')\n",
        "    plt.ylabel(col_name)\n",
        "    plt.colorbar(label='count in bin')\n",
        "    plt.savefig(f'/content/drive/MyDrive/Innomatics Research lab/Figures/Hexbin plot between 12percentage and {col_name}')\n",
        "    plt.show()\n",
        "    plt.subplots_adjust(bottom=0.2)"
      ]
    },
    {
      "cell_type": "code",
      "execution_count": null,
      "metadata": {
        "id": "up1X7t45iERJ"
      },
      "outputs": [],
      "source": [
        "col = ['collegeGPA', 'CollegeCityID',\n",
        "       'English', 'Logical', 'Quant', 'Domain', 'ComputerProgramming',\n",
        "       'ElectronicsAndSemicon', 'ComputerScience', 'MechanicalEngg', 'ElectricalEngg',\n",
        "       'TelecomEngg', 'CivilEngg', 'conscientiousness', 'agreeableness', 'extraversion',\n",
        "       'nueroticism', 'openess_to_experience']\n",
        "\n",
        "for col_name in col:\n",
        "    plt.figure(figsize=(8, 6))\n",
        "    plt.hexbin(df['CollegeID'], df[col_name], gridsize=20, cmap='PRGn')\n",
        "    plt.title(f'Hexbin plot between CollegeID and {col_name}')\n",
        "    plt.xlabel('CollegeID')\n",
        "    plt.ylabel(col_name)\n",
        "    plt.colorbar(label='count in bin')\n",
        "    plt.savefig(f'/content/drive/MyDrive/Innomatics Research lab/Figures/Hexbin plot between CollegeID and {col_name}')\n",
        "    plt.show()\n",
        "    plt.subplots_adjust(bottom=0.2)"
      ]
    },
    {
      "cell_type": "code",
      "execution_count": null,
      "metadata": {
        "id": "GTXI3F82iKDw"
      },
      "outputs": [],
      "source": [
        "col = [ 'CollegeCityID',\n",
        "       'English', 'Logical', 'Quant', 'Domain', 'ComputerProgramming',\n",
        "       'ElectronicsAndSemicon', 'ComputerScience', 'MechanicalEngg', 'ElectricalEngg',\n",
        "       'TelecomEngg', 'CivilEngg', 'conscientiousness', 'agreeableness', 'extraversion',\n",
        "       'nueroticism', 'openess_to_experience']\n",
        "\n",
        "for col_name in col:\n",
        "    plt.figure(figsize=(8, 6))\n",
        "    plt.hexbin(df['collegeGPA'], df[col_name], gridsize=20, cmap='PRGn')\n",
        "    plt.title(f'Hexbin plot between collegeGPA and {col_name}')\n",
        "    plt.xlabel('collegeGPA')\n",
        "    plt.ylabel(col_name)\n",
        "    plt.colorbar(label='count in bin')\n",
        "    plt.savefig(f'/content/drive/MyDrive/Innomatics Research lab/Figures/Hexbin plot between collegeGPA and {col_name}')\n",
        "    plt.show()\n",
        "    plt.subplots_adjust(bottom=0.2)"
      ]
    },
    {
      "cell_type": "code",
      "execution_count": null,
      "metadata": {
        "id": "c-3__KWmiPBr"
      },
      "outputs": [],
      "source": [
        "col = ['English', 'Logical', 'Quant', 'Domain', 'ComputerProgramming',\n",
        "       'ElectronicsAndSemicon', 'ComputerScience', 'MechanicalEngg', 'ElectricalEngg',\n",
        "       'TelecomEngg', 'CivilEngg', 'conscientiousness', 'agreeableness', 'extraversion',\n",
        "       'nueroticism', 'openess_to_experience']\n",
        "\n",
        "for col_name in col:\n",
        "    plt.figure(figsize=(8, 6))\n",
        "    plt.hexbin(df['CollegeCityID'], df[col_name], gridsize=20, cmap='PRGn')\n",
        "    plt.title(f'Hexbin plot between CollegeCityID and {col_name}')\n",
        "    plt.xlabel('CollegeCityID')\n",
        "    plt.ylabel(col_name)\n",
        "    plt.colorbar(label='count in bin')\n",
        "    plt.savefig(f'/content/drive/MyDrive/Innomatics Research lab/Figures/Hexbin plot between CollegeCityID and {col_name}')\n",
        "\n",
        "    plt.show()\n",
        "    plt.subplots_adjust(bottom=0.2)"
      ]
    },
    {
      "cell_type": "code",
      "execution_count": null,
      "metadata": {
        "id": "5bafeUldiVMf"
      },
      "outputs": [],
      "source": [
        "col = ['Logical', 'Quant', 'Domain', 'ComputerProgramming',\n",
        "       'ElectronicsAndSemicon', 'ComputerScience', 'MechanicalEngg', 'ElectricalEngg',\n",
        "       'TelecomEngg', 'CivilEngg', 'conscientiousness', 'agreeableness', 'extraversion',\n",
        "       'nueroticism', 'openess_to_experience']\n",
        "\n",
        "for col_name in col:\n",
        "    plt.figure(figsize=(8, 6))\n",
        "    plt.hexbin(df['English'], df[col_name], gridsize=20, cmap='PRGn')\n",
        "    plt.title(f'Hexbin plot between English and {col_name}')\n",
        "    plt.xlabel('English')\n",
        "    plt.ylabel(col_name)\n",
        "    plt.colorbar(label='count in bin')\n",
        "    plt.savefig(f'/content/drive/MyDrive/Innomatics Research lab/Figures/Hexbin plot between English and {col_name}')\n",
        "    plt.show()\n",
        "    plt.subplots_adjust(bottom=0.2)"
      ]
    },
    {
      "cell_type": "code",
      "execution_count": null,
      "metadata": {
        "id": "_0BlHJMriarL"
      },
      "outputs": [],
      "source": [
        "col = ['Quant', 'Domain', 'ComputerProgramming',\n",
        "       'ElectronicsAndSemicon', 'ComputerScience', 'MechanicalEngg', 'ElectricalEngg',\n",
        "       'TelecomEngg', 'CivilEngg', 'conscientiousness', 'agreeableness', 'extraversion',\n",
        "       'nueroticism', 'openess_to_experience']\n",
        "\n",
        "for col_name in col:\n",
        "    plt.figure(figsize=(8, 6))\n",
        "    plt.hexbin(df['Logical'], df[col_name], gridsize=20, cmap='PRGn')\n",
        "    plt.title(f'Hexbin plot between Logical and {col_name}')\n",
        "    plt.xlabel('Logical')\n",
        "    plt.ylabel(col_name)\n",
        "    plt.colorbar(label='count in bin')\n",
        "    plt.savefig(f'/content/drive/MyDrive/Innomatics Research lab/Figures/Hexbin plot between Logical and {col_name}')\n",
        "    plt.show()\n",
        "    plt.subplots_adjust(bottom=0.2)"
      ]
    },
    {
      "cell_type": "code",
      "execution_count": null,
      "metadata": {
        "id": "Oh7Iv7OSifXm"
      },
      "outputs": [],
      "source": [
        "col = ['Domain', 'ComputerProgramming',\n",
        "       'ElectronicsAndSemicon', 'ComputerScience', 'MechanicalEngg', 'ElectricalEngg',\n",
        "       'TelecomEngg', 'CivilEngg', 'conscientiousness', 'agreeableness', 'extraversion',\n",
        "       'nueroticism', 'openess_to_experience']\n",
        "\n",
        "for col_name in col:\n",
        "    plt.figure(figsize=(8, 6))\n",
        "    plt.hexbin(df['Quant'], df[col_name], gridsize=20, cmap='PRGn')\n",
        "    plt.title(f'Hexbin plot between Quant and {col_name}')\n",
        "    plt.xlabel('Quant')\n",
        "    plt.ylabel(col_name)\n",
        "    plt.colorbar(label='count in bin')\n",
        "    plt.savefig(f'/content/drive/MyDrive/Innomatics Research lab/Figures/Hexbin plot between Quant and {col_name}')\n",
        "    plt.show()\n",
        "    plt.subplots_adjust(bottom=0.2)"
      ]
    },
    {
      "cell_type": "code",
      "execution_count": null,
      "metadata": {
        "id": "7NwbQtfdijle"
      },
      "outputs": [],
      "source": [
        "col = ['ComputerProgramming',\n",
        "       'ElectronicsAndSemicon', 'ComputerScience', 'MechanicalEngg', 'ElectricalEngg',\n",
        "       'TelecomEngg', 'CivilEngg', 'conscientiousness', 'agreeableness', 'extraversion',\n",
        "       'nueroticism', 'openess_to_experience']\n",
        "\n",
        "for col_name in col:\n",
        "    plt.figure(figsize=(8, 6))\n",
        "    plt.hexbin(df['Domain'], df[col_name], gridsize=20, cmap='PRGn')\n",
        "    plt.title(f'Hexbin plot between Domain and {col_name}')\n",
        "    plt.xlabel('Domain')\n",
        "    plt.ylabel(col_name)\n",
        "    plt.colorbar(label='count in bin')\n",
        "    plt.savefig(f'/content/drive/MyDrive/Innomatics Research lab/Figures/Hexbin plot between Domain and {col_name}')\n",
        "    plt.show()\n",
        "    plt.subplots_adjust(bottom=0.2)"
      ]
    },
    {
      "cell_type": "code",
      "execution_count": null,
      "metadata": {
        "id": "OcAN9j2ciod5"
      },
      "outputs": [],
      "source": [
        "col = ['ElectronicsAndSemicon', 'ComputerScience', 'MechanicalEngg', 'ElectricalEngg',\n",
        "       'TelecomEngg', 'CivilEngg', 'conscientiousness', 'agreeableness', 'extraversion',\n",
        "       'nueroticism', 'openess_to_experience']\n",
        "\n",
        "for col_name in col:\n",
        "    plt.figure(figsize=(8, 6))\n",
        "    plt.hexbin(df['ComputerProgramming'], df[col_name], gridsize=20, cmap='PRGn')\n",
        "    plt.title(f'Hexbin plot between ComputerProgramming and {col_name}')\n",
        "    plt.xlabel('ComputerProgramming')\n",
        "    plt.ylabel(col_name)\n",
        "    plt.colorbar(label='count in bin')\n",
        "    plt.savefig(f'/content/drive/MyDrive/Innomatics Research lab/Figures/Hexbin plot between ComputerProgramming and {col_name}')\n",
        "    plt.show()\n",
        "    plt.subplots_adjust(bottom=0.2)"
      ]
    },
    {
      "cell_type": "code",
      "execution_count": null,
      "metadata": {
        "id": "1ll6-B33itVf"
      },
      "outputs": [],
      "source": [
        "col = ['ComputerScience', 'MechanicalEngg', 'ElectricalEngg',\n",
        "       'TelecomEngg', 'CivilEngg', 'conscientiousness', 'agreeableness', 'extraversion',\n",
        "       'nueroticism', 'openess_to_experience']\n",
        "\n",
        "for col_name in col:\n",
        "    plt.figure(figsize=(8, 6))\n",
        "    plt.hexbin(df['ElectronicsAndSemicon'], df[col_name], gridsize=20, cmap='PRGn')\n",
        "    plt.title(f'Hexbin plot between ElectronicsAndSemicon and {col_name}')\n",
        "    plt.xlabel('ElectronicsAndSemicon')\n",
        "    plt.ylabel(col_name)\n",
        "    plt.colorbar(label='count in bin')\n",
        "    plt.savefig(f'/content/drive/MyDrive/Innomatics Research lab/Figures/Hexbin plot between ElectronicsAndSemicon and {col_name}')\n",
        "    plt.show()\n",
        "    plt.subplots_adjust(bottom=0.2)"
      ]
    },
    {
      "cell_type": "code",
      "execution_count": null,
      "metadata": {
        "id": "EMOMZCVhixlk"
      },
      "outputs": [],
      "source": [
        "col = ['MechanicalEngg', 'ElectricalEngg',\n",
        "       'TelecomEngg', 'CivilEngg', 'conscientiousness', 'agreeableness', 'extraversion',\n",
        "       'nueroticism', 'openess_to_experience']\n",
        "\n",
        "for col_name in col:\n",
        "    plt.figure(figsize=(8, 6))\n",
        "    plt.hexbin(df['ComputerScience'], df[col_name], gridsize=20, cmap='PRGn')\n",
        "    plt.title(f'Hexbin plot between ComputerScience and {col_name}')\n",
        "    plt.xlabel('ComputerScience')\n",
        "    plt.ylabel(col_name)\n",
        "    plt.colorbar(label='count in bin')\n",
        "    plt.savefig(f'/content/drive/MyDrive/Innomatics Research lab/Figures/Hexbin plot between ComputerScience and {col_name}')\n",
        "    plt.show()\n",
        "    plt.subplots_adjust(bottom=0.2)"
      ]
    },
    {
      "cell_type": "code",
      "execution_count": null,
      "metadata": {
        "id": "9_WrZaBui35q"
      },
      "outputs": [],
      "source": [
        "col = ['ElectricalEngg',\n",
        "       'TelecomEngg', 'CivilEngg', 'conscientiousness', 'agreeableness', 'extraversion',\n",
        "       'nueroticism', 'openess_to_experience']\n",
        "\n",
        "for col_name in col:\n",
        "    plt.figure(figsize=(8, 6))\n",
        "    plt.hexbin(df['MechanicalEngg'], df[col_name], gridsize=20, cmap='PRGn')\n",
        "    plt.title(f'Hexbin plot between MechanicalEngg and {col_name}')\n",
        "    plt.xlabel('MechanicalEngg')\n",
        "    plt.ylabel(col_name)\n",
        "    plt.colorbar(label='count in bin')\n",
        "    plt.savefig(f'/content/drive/MyDrive/Innomatics Research lab/Figures/Hexbin plot between MechanicalEngg and {col_name}')\n",
        "    plt.show()\n",
        "    plt.subplots_adjust(bottom=0.2)"
      ]
    },
    {
      "cell_type": "code",
      "execution_count": null,
      "metadata": {
        "id": "4jrSzjlBi8ye"
      },
      "outputs": [],
      "source": [
        "col = ['TelecomEngg', 'CivilEngg', 'conscientiousness', 'agreeableness', 'extraversion',\n",
        "       'nueroticism', 'openess_to_experience']\n",
        "\n",
        "for col_name in col:\n",
        "    plt.figure(figsize=(8, 6))\n",
        "    plt.hexbin(df['ElectricalEngg'], df[col_name], gridsize=20, cmap='PRGn')\n",
        "    plt.title(f'Hexbin plot between ElectricalEngg and {col_name}')\n",
        "    plt.xlabel('ElectricalEngg')\n",
        "    plt.ylabel(col_name)\n",
        "    plt.colorbar(label='count in bin')\n",
        "    plt.savefig(f'/content/drive/MyDrive/Innomatics Research lab/Figures/Hexbin plot between ElectricalEngg and {col_name}')\n",
        "    plt.show()\n",
        "    plt.subplots_adjust(bottom=0.2)"
      ]
    },
    {
      "cell_type": "code",
      "execution_count": null,
      "metadata": {
        "id": "joqZQVTHjB8n"
      },
      "outputs": [],
      "source": [
        "col = ['CivilEngg', 'conscientiousness', 'agreeableness', 'extraversion',\n",
        "       'nueroticism', 'openess_to_experience']\n",
        "\n",
        "for col_name in col:\n",
        "    plt.figure(figsize=(8, 6))\n",
        "    plt.hexbin(df['TelecomEngg'], df[col_name], gridsize=20, cmap='PRGn')\n",
        "    plt.title(f'Hexbin plot between TelecomEngg and {col_name}')\n",
        "    plt.xlabel('TelecomEngg')\n",
        "    plt.ylabel(col_name)\n",
        "    plt.colorbar(label='count in bin')\n",
        "    plt.savefig(f'/content/drive/MyDrive/Innomatics Research lab/Figures/Hexbin plot between TelecomEngg and {col_name}')\n",
        "    plt.show()\n",
        "    plt.subplots_adjust(bottom=0.2)"
      ]
    },
    {
      "cell_type": "code",
      "execution_count": null,
      "metadata": {
        "id": "3i3wz995jH4M"
      },
      "outputs": [],
      "source": [
        "col = ['conscientiousness', 'agreeableness', 'extraversion',\n",
        "       'nueroticism', 'openess_to_experience']\n",
        "\n",
        "for col_name in col:\n",
        "    plt.figure(figsize=(8, 6))\n",
        "    plt.hexbin(df['CivilEngg'], df[col_name], gridsize=20, cmap='PRGn')\n",
        "    plt.title(f'Hexbin plot between CivilEngg and {col_name}')\n",
        "    plt.xlabel('CivilEngg')\n",
        "    plt.ylabel(col_name)\n",
        "    plt.colorbar(label='count in bin')\n",
        "    plt.savefig(f'/content/drive/MyDrive/Innomatics Research lab/Figures/Hexbin plot between CivilEngg and {col_name}')\n",
        "    plt.show()\n",
        "    plt.subplots_adjust(bottom=0.2)"
      ]
    },
    {
      "cell_type": "code",
      "execution_count": null,
      "metadata": {
        "id": "emcvWJzSjP-m"
      },
      "outputs": [],
      "source": [
        "col = ['agreeableness', 'extraversion',\n",
        "       'nueroticism', 'openess_to_experience']\n",
        "\n",
        "for col_name in col:\n",
        "    plt.figure(figsize=(8, 6))\n",
        "    plt.hexbin(df['conscientiousness'], df[col_name], gridsize=20, cmap='PRGn')\n",
        "    plt.title(f'Hexbin plot between conscientiousness and {col_name}')\n",
        "    plt.xlabel('conscientiousness')\n",
        "    plt.ylabel(col_name)\n",
        "    plt.colorbar(label='count in bin')\n",
        "    plt.savefig(f'/content/drive/MyDrive/Innomatics Research lab/Figures/Hexbin plot between conscientiousness and {col_name}')\n",
        "    plt.show()\n",
        "    plt.subplots_adjust(bottom=0.2)"
      ]
    },
    {
      "cell_type": "code",
      "execution_count": null,
      "metadata": {
        "id": "ysJE1EMhjUwf"
      },
      "outputs": [],
      "source": [
        "col = ['extraversion',\n",
        "       'nueroticism', 'openess_to_experience']\n",
        "\n",
        "for col_name in col:\n",
        "    plt.figure(figsize=(8, 6))\n",
        "    plt.hexbin(df['agreeableness'], df[col_name], gridsize=20, cmap='PRGn')\n",
        "    plt.title(f'Hexbin plot between agreeableness and {col_name}')\n",
        "    plt.xlabel('agreeableness')\n",
        "    plt.ylabel(col_name)\n",
        "    plt.colorbar(label='count in bin')\n",
        "    plt.savefig(f'/content/drive/MyDrive/Innomatics Research lab/Figures/Hexbin plot between agreeableness and {col_name}')\n",
        "    plt.show()\n",
        "    plt.subplots_adjust(bottom=0.2)"
      ]
    },
    {
      "cell_type": "code",
      "execution_count": null,
      "metadata": {
        "id": "gIMILIZDjZ_x"
      },
      "outputs": [],
      "source": [
        "col = ['nueroticism', 'openess_to_experience']\n",
        "\n",
        "for col_name in col:\n",
        "    plt.figure(figsize=(8, 6))\n",
        "    plt.hexbin(df['extraversion'], df[col_name], gridsize=20, cmap='PRGn')\n",
        "    plt.title(f'Hexbin plot between extraversion and {col_name}')\n",
        "    plt.xlabel('extraversion')\n",
        "    plt.ylabel(col_name)\n",
        "    plt.colorbar(label='count in bin')\n",
        "    plt.savefig(f'/content/drive/MyDrive/Innomatics Research lab/Figures/Hexbin plot between extraversion and {col_name}')\n",
        "    plt.show()\n",
        "    plt.subplots_adjust(bottom=0.2)"
      ]
    },
    {
      "cell_type": "code",
      "execution_count": null,
      "metadata": {
        "id": "rjxQ8Yi7ji-c"
      },
      "outputs": [],
      "source": [
        "plt.figure(figsize=(8, 6))\n",
        "plt.hexbin(df['nueroticism'], df['openess_to_experience'], gridsize=20, cmap='PRGn')\n",
        "plt.title(f'Hexbin plot between nueroticism and openess_to_experience')\n",
        "plt.xlabel('nueroticism')\n",
        "plt.ylabel('openess_to_experience')\n",
        "plt.colorbar(label='count in bin')\n",
        "plt.savefig(r'/content/drive/MyDrive/Innomatics Research lab/Figures/Hexbin plot between nueroticism and openess_to_experience')\n",
        "plt.show()\n",
        "plt.subplots_adjust(bottom=0.2)"
      ]
    },
    {
      "cell_type": "code",
      "execution_count": null,
      "metadata": {
        "id": "HaDj1Cf7m0VL"
      },
      "outputs": [],
      "source": [
        "col = ['10percentage', '12graduation', '12percentage',\n",
        "       'CollegeID',  'collegeGPA', 'CollegeCityID',\n",
        "       'English', 'Logical', 'Quant', 'Domain', 'ComputerProgramming',\n",
        "       'ElectronicsAndSemicon', 'ComputerScience', 'MechanicalEngg', 'ElectricalEngg',\n",
        "       'TelecomEngg', 'CivilEngg', 'conscientiousness', 'agreeableness', 'extraversion',\n",
        "       'nueroticism', 'openess_to_experience']\n",
        "\n",
        "for col_name in col:\n",
        "    plt.figure(figsize=(8, 6))\n",
        "    sns.pairplot(data=df, x_vars=['Salary'], y_vars=[col_name])\n",
        "    plt.title(f'Pairplot between Salary and {col_name}')\n",
        "    plt.xlabel('Salary')\n",
        "    plt.ylabel(col_name)\n",
        "    plt.savefig(f'/content/drive/MyDrive/Innomatics Research lab/Figures/Pairplot between Salary and {col_name}')\n",
        "    plt.show()"
      ]
    },
    {
      "cell_type": "code",
      "execution_count": null,
      "metadata": {
        "id": "Lg_wn36No9kn"
      },
      "outputs": [],
      "source": [
        "col = ['12graduation', '12percentage',\n",
        "       'CollegeID',  'collegeGPA', 'CollegeCityID',\n",
        "       'English', 'Logical', 'Quant', 'Domain', 'ComputerProgramming',\n",
        "       'ElectronicsAndSemicon', 'ComputerScience', 'MechanicalEngg', 'ElectricalEngg',\n",
        "       'TelecomEngg', 'CivilEngg', 'conscientiousness', 'agreeableness', 'extraversion',\n",
        "       'nueroticism', 'openess_to_experience']\n",
        "\n",
        "for col_name in col:\n",
        "    plt.figure(figsize=(8, 6))\n",
        "    sns.pairplot(data=df, x_vars=['10percentage'], y_vars=[col_name])\n",
        "    plt.title(f'Pairplot between 10percentage and {col_name}')\n",
        "    plt.xlabel('10percentage')\n",
        "    plt.ylabel(col_name)\n",
        "    plt.savefig(f'/content/drive/MyDrive/Innomatics Research lab/Figures/Pairplot between 10percentage and {col_name}')\n",
        "    plt.show()"
      ]
    },
    {
      "cell_type": "code",
      "execution_count": null,
      "metadata": {
        "id": "MEfKj7ejpBBy"
      },
      "outputs": [],
      "source": [
        "col = ['12percentage',\n",
        "       'CollegeID',  'collegeGPA', 'CollegeCityID',\n",
        "       'English', 'Logical', 'Quant', 'Domain', 'ComputerProgramming',\n",
        "       'ElectronicsAndSemicon', 'ComputerScience', 'MechanicalEngg', 'ElectricalEngg',\n",
        "       'TelecomEngg', 'CivilEngg', 'conscientiousness', 'agreeableness', 'extraversion',\n",
        "       'nueroticism', 'openess_to_experience']\n",
        "\n",
        "for col_name in col:\n",
        "    plt.figure(figsize=(8, 6))\n",
        "    sns.pairplot(data=df, x_vars=['12graduation'], y_vars=[col_name])\n",
        "    plt.title(f'Pairplot between 12graduation and {col_name}')\n",
        "    plt.xlabel('12graduation')\n",
        "    plt.ylabel(col_name)\n",
        "    plt.savefig(f'/content/drive/MyDrive/Innomatics Research lab/Figures/Pairplot between 12graduation and {col_name}')\n",
        "    plt.show()"
      ]
    },
    {
      "cell_type": "code",
      "execution_count": null,
      "metadata": {
        "id": "mRW5cCUipIHc"
      },
      "outputs": [],
      "source": [
        "col = ['CollegeID',  'collegeGPA', 'CollegeCityID',\n",
        "       'English', 'Logical', 'Quant', 'Domain', 'ComputerProgramming',\n",
        "       'ElectronicsAndSemicon', 'ComputerScience', 'MechanicalEngg', 'ElectricalEngg',\n",
        "       'TelecomEngg', 'CivilEngg', 'conscientiousness', 'agreeableness', 'extraversion',\n",
        "       'nueroticism', 'openess_to_experience']\n",
        "\n",
        "for col_name in col:\n",
        "    plt.figure(figsize=(8, 6))\n",
        "    sns.pairplot(data=df, x_vars=['12percentage'], y_vars=[col_name])\n",
        "    plt.title(f'Pairplot between 12percentage and {col_name}')\n",
        "    plt.xlabel('12percentage')\n",
        "    plt.ylabel(col_name)\n",
        "    plt.savefig(f'/content/drive/MyDrive/Innomatics Research lab/Figures/Pairplot between 12percentage and {col_name}')\n",
        "    plt.show()"
      ]
    },
    {
      "cell_type": "code",
      "execution_count": null,
      "metadata": {
        "id": "vL4VJZOoqR_P"
      },
      "outputs": [],
      "source": [
        "col = ['collegeGPA', 'CollegeCityID',\n",
        "       'English', 'Logical', 'Quant', 'Domain', 'ComputerProgramming',\n",
        "       'ElectronicsAndSemicon', 'ComputerScience', 'MechanicalEngg', 'ElectricalEngg',\n",
        "       'TelecomEngg', 'CivilEngg', 'conscientiousness', 'agreeableness', 'extraversion',\n",
        "       'nueroticism', 'openess_to_experience']\n",
        "\n",
        "for col_name in col:\n",
        "    plt.figure(figsize=(8, 6))\n",
        "    sns.pairplot(data=df, x_vars=['CollegeID'], y_vars=[col_name])\n",
        "    plt.title(f'Pairplot between CollegeID and {col_name}')\n",
        "    plt.xlabel('CollegeID')\n",
        "    plt.ylabel(col_name)\n",
        "    plt.savefig(f'/content/drive/MyDrive/Innomatics Research lab/Figures/Pairplot between CollegeID and {col_name}')\n",
        "    plt.show()"
      ]
    },
    {
      "cell_type": "code",
      "execution_count": null,
      "metadata": {
        "id": "N2aLvqppqWtr"
      },
      "outputs": [],
      "source": [
        "col = ['CollegeCityID',\n",
        "       'English', 'Logical', 'Quant', 'Domain', 'ComputerProgramming',\n",
        "       'ElectronicsAndSemicon', 'ComputerScience', 'MechanicalEngg', 'ElectricalEngg',\n",
        "       'TelecomEngg', 'CivilEngg', 'conscientiousness', 'agreeableness', 'extraversion',\n",
        "       'nueroticism', 'openess_to_experience']\n",
        "\n",
        "for col_name in col:\n",
        "    plt.figure(figsize=(8, 6))\n",
        "    sns.pairplot(data=df, x_vars=['collegeGPA'], y_vars=[col_name])\n",
        "    plt.title(f'Pairplot between collegeGPA and {col_name}')\n",
        "    plt.xlabel('collegeGPA')\n",
        "    plt.ylabel(col_name)\n",
        "    plt.savefig(f'/content/drive/MyDrive/Innomatics Research lab/Figures/Pairplot between collegeGPA and {col_name}')\n",
        "    plt.show()"
      ]
    },
    {
      "cell_type": "code",
      "execution_count": null,
      "metadata": {
        "id": "ii2SaKoaqa5-"
      },
      "outputs": [],
      "source": [
        "col = ['English', 'Logical', 'Quant', 'Domain', 'ComputerProgramming',\n",
        "       'ElectronicsAndSemicon', 'ComputerScience', 'MechanicalEngg', 'ElectricalEngg',\n",
        "       'TelecomEngg', 'CivilEngg', 'conscientiousness', 'agreeableness', 'extraversion',\n",
        "       'nueroticism', 'openess_to_experience']\n",
        "\n",
        "for col_name in col:\n",
        "    plt.figure(figsize=(8, 6))\n",
        "    sns.pairplot(data=df, x_vars=['CollegeCityID'], y_vars=[col_name])\n",
        "    plt.title(f'Pairplot between CollegeCityID and {col_name}')\n",
        "    plt.xlabel('CollegeCityID')\n",
        "    plt.ylabel(col_name)\n",
        "    plt.savefig(f'/content/drive/MyDrive/Innomatics Research lab/Figures/Pairplot between CollegeCityID and {col_name}')\n",
        "    plt.show()"
      ]
    },
    {
      "cell_type": "code",
      "execution_count": null,
      "metadata": {
        "id": "kqybacKyqkJS"
      },
      "outputs": [],
      "source": [
        "col = ['Logical', 'Quant', 'Domain', 'ComputerProgramming',\n",
        "       'ElectronicsAndSemicon', 'ComputerScience', 'MechanicalEngg', 'ElectricalEngg',\n",
        "       'TelecomEngg', 'CivilEngg', 'conscientiousness', 'agreeableness', 'extraversion',\n",
        "       'nueroticism', 'openess_to_experience']\n",
        "\n",
        "for col_name in col:\n",
        "    plt.figure(figsize=(8, 6))\n",
        "    sns.pairplot(data=df, x_vars=['English'], y_vars=[col_name])\n",
        "    plt.title(f'Pairplot between English and {col_name}')\n",
        "    plt.xlabel('English')\n",
        "    plt.ylabel(col_name)\n",
        "    plt.savefig(f'/content/drive/MyDrive/Innomatics Research lab/Figures/Pairplot between English and {col_name}')\n",
        "    plt.show()"
      ]
    },
    {
      "cell_type": "code",
      "execution_count": null,
      "metadata": {
        "id": "3Dy9MAQRqooB"
      },
      "outputs": [],
      "source": [
        "col = ['Quant', 'Domain', 'ComputerProgramming',\n",
        "       'ElectronicsAndSemicon', 'ComputerScience', 'MechanicalEngg', 'ElectricalEngg',\n",
        "       'TelecomEngg', 'CivilEngg', 'conscientiousness', 'agreeableness', 'extraversion',\n",
        "       'nueroticism', 'openess_to_experience']\n",
        "\n",
        "for col_name in col:\n",
        "    plt.figure(figsize=(8, 6))\n",
        "    sns.pairplot(data=df, x_vars=['Logical'], y_vars=[col_name])\n",
        "    plt.title(f'Pairplot between Logical and {col_name}')\n",
        "    plt.xlabel('Logical')\n",
        "    plt.ylabel(col_name)\n",
        "    plt.savefig(f'/content/drive/MyDrive/Innomatics Research lab/Figures/Pairplot between Logical and {col_name}')\n",
        "    plt.show()"
      ]
    },
    {
      "cell_type": "code",
      "execution_count": null,
      "metadata": {
        "id": "Lbdqvj4KqtD2"
      },
      "outputs": [],
      "source": [
        "col = ['Domain', 'ComputerProgramming',\n",
        "       'ElectronicsAndSemicon', 'ComputerScience', 'MechanicalEngg', 'ElectricalEngg',\n",
        "       'TelecomEngg', 'CivilEngg', 'conscientiousness', 'agreeableness', 'extraversion',\n",
        "       'nueroticism', 'openess_to_experience']\n",
        "\n",
        "for col_name in col:\n",
        "    plt.figure(figsize=(8, 6))\n",
        "    sns.pairplot(data=df, x_vars=['Quant'], y_vars=[col_name])\n",
        "    plt.title(f'Pairplot between Quant and {col_name}')\n",
        "    plt.xlabel('Quant')\n",
        "    plt.ylabel(col_name)\n",
        "    plt.savefig(f'/content/drive/MyDrive/Innomatics Research lab/Figures/Pairplot between Quant and {col_name}')\n",
        "    plt.show()"
      ]
    },
    {
      "cell_type": "code",
      "execution_count": null,
      "metadata": {
        "id": "yDqbBsMXqzFO"
      },
      "outputs": [],
      "source": [
        "col = ['ComputerProgramming',\n",
        "       'ElectronicsAndSemicon', 'ComputerScience', 'MechanicalEngg', 'ElectricalEngg',\n",
        "       'TelecomEngg', 'CivilEngg', 'conscientiousness', 'agreeableness', 'extraversion',\n",
        "       'nueroticism', 'openess_to_experience']\n",
        "\n",
        "for col_name in col:\n",
        "    plt.figure(figsize=(8, 6))\n",
        "    sns.pairplot(data=df, x_vars=['Domain'], y_vars=[col_name])\n",
        "    plt.title(f'Pairplot between Domain and {col_name}')\n",
        "    plt.xlabel('Domain')\n",
        "    plt.ylabel(col_name)\n",
        "    plt.savefig(f'/content/drive/MyDrive/Innomatics Research lab/Figures/Pairplot between Domain and {col_name}')\n",
        "    plt.show()"
      ]
    },
    {
      "cell_type": "code",
      "execution_count": null,
      "metadata": {
        "id": "v9YaVm0Aq9_c"
      },
      "outputs": [],
      "source": [
        "col = ['ElectronicsAndSemicon', 'ComputerScience', 'MechanicalEngg', 'ElectricalEngg',\n",
        "       'TelecomEngg', 'CivilEngg', 'conscientiousness', 'agreeableness', 'extraversion',\n",
        "       'nueroticism', 'openess_to_experience']\n",
        "\n",
        "for col_name in col:\n",
        "    plt.figure(figsize=(8, 6))\n",
        "    sns.pairplot(data=df, x_vars=['ComputerProgramming'], y_vars=[col_name])\n",
        "    plt.title(f'Pairplot between ComputerProgramming and {col_name}')\n",
        "    plt.xlabel('ComputerProgramming')\n",
        "    plt.ylabel(col_name)\n",
        "    plt.savefig(f'/content/drive/MyDrive/Innomatics Research lab/Figures/Pairplot between ComputerProgramming and {col_name}')\n",
        "    plt.show()"
      ]
    },
    {
      "cell_type": "code",
      "execution_count": null,
      "metadata": {
        "id": "jqXHEOJurCi4"
      },
      "outputs": [],
      "source": [
        "col = ['ComputerScience', 'MechanicalEngg', 'ElectricalEngg',\n",
        "       'TelecomEngg', 'CivilEngg', 'conscientiousness', 'agreeableness', 'extraversion',\n",
        "       'nueroticism', 'openess_to_experience']\n",
        "\n",
        "for col_name in col:\n",
        "    plt.figure(figsize=(8, 6))\n",
        "    sns.pairplot(data=df, x_vars=['ElectronicsAndSemicon'], y_vars=[col_name])\n",
        "    plt.title(f'Pairplot between ElectronicsAndSemicon and {col_name}')\n",
        "    plt.xlabel('ElectronicsAndSemicon')\n",
        "    plt.ylabel(col_name)\n",
        "    plt.savefig(f'/content/drive/MyDrive/Innomatics Research lab/Figures/Pairplot between ElectronicsAndSemicon and {col_name}')\n",
        "    plt.show()"
      ]
    },
    {
      "cell_type": "code",
      "execution_count": null,
      "metadata": {
        "id": "PIB6i9Our4aT"
      },
      "outputs": [],
      "source": [
        "col = ['MechanicalEngg', 'ElectricalEngg',\n",
        "       'TelecomEngg', 'CivilEngg', 'conscientiousness', 'agreeableness', 'extraversion',\n",
        "       'nueroticism', 'openess_to_experience']\n",
        "\n",
        "for col_name in col:\n",
        "    plt.figure(figsize=(8, 6))\n",
        "    sns.pairplot(data=df, x_vars=['ComputerScience'], y_vars=[col_name])\n",
        "    plt.title(f'Pairplot between ComputerScience and {col_name}')\n",
        "    plt.xlabel('ComputerScience')\n",
        "    plt.ylabel(col_name)\n",
        "    plt.savefig(f'/content/drive/MyDrive/Innomatics Research lab/Figures/Pairplot between ComputerScience and {col_name}')\n",
        "    plt.show()"
      ]
    },
    {
      "cell_type": "code",
      "execution_count": null,
      "metadata": {
        "id": "12aRg2Zyr9M0"
      },
      "outputs": [],
      "source": [
        "col = ['ElectricalEngg',\n",
        "       'TelecomEngg', 'CivilEngg', 'conscientiousness', 'agreeableness', 'extraversion',\n",
        "       'nueroticism', 'openess_to_experience']\n",
        "\n",
        "for col_name in col:\n",
        "    plt.figure(figsize=(8, 6))\n",
        "    sns.pairplot(data=df, x_vars=['MechanicalEngg'], y_vars=[col_name])\n",
        "    plt.title(f'Pairplot between MechanicalEngg and {col_name}')\n",
        "    plt.xlabel('MechanicalEngg')\n",
        "    plt.ylabel(col_name)\n",
        "    plt.savefig(f'/content/drive/MyDrive/Innomatics Research lab/Figures/Pairplot between MechanicalEngg and {col_name}')\n",
        "    plt.show()"
      ]
    },
    {
      "cell_type": "code",
      "execution_count": null,
      "metadata": {
        "id": "3JEGNBSisBgN"
      },
      "outputs": [],
      "source": [
        "col = ['TelecomEngg', 'CivilEngg', 'conscientiousness', 'agreeableness', 'extraversion',\n",
        "       'nueroticism', 'openess_to_experience']\n",
        "\n",
        "for col_name in col:\n",
        "    plt.figure(figsize=(8, 6))\n",
        "    sns.pairplot(data=df, x_vars=['ElectricalEngg'], y_vars=[col_name])\n",
        "    plt.title(f'Pairplot between ElectricalEngg and {col_name}')\n",
        "    plt.xlabel('ElectricalEngg')\n",
        "    plt.ylabel(col_name)\n",
        "    plt.savefig(f'/content/drive/MyDrive/Innomatics Research lab/Figures/Pairplot between ElectricalEngg and {col_name}')\n",
        "    plt.show()"
      ]
    },
    {
      "cell_type": "code",
      "execution_count": null,
      "metadata": {
        "id": "ERAUVdsisGQz"
      },
      "outputs": [],
      "source": [
        "col = ['CivilEngg', 'conscientiousness', 'agreeableness', 'extraversion',\n",
        "       'nueroticism', 'openess_to_experience']\n",
        "\n",
        "for col_name in col:\n",
        "    plt.figure(figsize=(8, 6))\n",
        "    sns.pairplot(data=df, x_vars=['TelecomEngg'], y_vars=[col_name])\n",
        "    plt.title(f'Pairplot between TelecomEngg and {col_name}')\n",
        "    plt.xlabel('TelecomEngg')\n",
        "    plt.ylabel(col_name)\n",
        "    plt.savefig(f'/content/drive/MyDrive/Innomatics Research lab/Figures/Pairplot between TelecomEngg and {col_name}')\n",
        "    plt.show()"
      ]
    },
    {
      "cell_type": "code",
      "execution_count": null,
      "metadata": {
        "id": "f42VchU1sMrY"
      },
      "outputs": [],
      "source": [
        "col = ['conscientiousness', 'agreeableness', 'extraversion',\n",
        "       'nueroticism', 'openess_to_experience']\n",
        "\n",
        "for col_name in col:\n",
        "    plt.figure(figsize=(8, 6))\n",
        "    sns.pairplot(data=df, x_vars=['CivilEngg'], y_vars=[col_name])\n",
        "    plt.title(f'Pairplot between CivilEngg and {col_name}')\n",
        "    plt.xlabel('CivilEngg')\n",
        "    plt.ylabel(col_name)\n",
        "    plt.savefig(f'/content/drive/MyDrive/Innomatics Research lab/Figures/Pairplot between CivilEngg and {col_name}')\n",
        "    plt.show()"
      ]
    },
    {
      "cell_type": "code",
      "execution_count": null,
      "metadata": {
        "id": "W6KXF-cSsSl_"
      },
      "outputs": [],
      "source": [
        "col = ['agreeableness', 'extraversion',\n",
        "       'nueroticism', 'openess_to_experience']\n",
        "\n",
        "for col_name in col:\n",
        "    plt.figure(figsize=(8, 6))\n",
        "    sns.pairplot(data=df, x_vars=['conscientiousness'], y_vars=[col_name])\n",
        "    plt.title(f'Pairplot between conscientiousness and {col_name}')\n",
        "    plt.xlabel('conscientiousness')\n",
        "    plt.ylabel(col_name)\n",
        "    plt.savefig(f'/content/drive/MyDrive/Innomatics Research lab/Figures/Pairplot between conscientiousness and {col_name}')\n",
        "    plt.show()"
      ]
    },
    {
      "cell_type": "code",
      "execution_count": null,
      "metadata": {
        "id": "O6hmLXPrsXkz"
      },
      "outputs": [],
      "source": [
        "col = ['extraversion',\n",
        "       'nueroticism', 'openess_to_experience']\n",
        "\n",
        "for col_name in col:\n",
        "    plt.figure(figsize=(8, 6))\n",
        "    sns.pairplot(data=df, x_vars=['agreeableness'], y_vars=[col_name])\n",
        "    plt.title(f'Pairplot between agreeableness and {col_name}')\n",
        "    plt.xlabel('agreeableness')\n",
        "    plt.ylabel(col_name)\n",
        "    plt.savefig(f'/content/drive/MyDrive/Innomatics Research lab/Figures/Pairplot between agreeableness and {col_name}')\n",
        "    plt.show()"
      ]
    },
    {
      "cell_type": "code",
      "execution_count": null,
      "metadata": {
        "id": "p-XeRLfVscDO"
      },
      "outputs": [],
      "source": [
        "col = ['nueroticism', 'openess_to_experience']\n",
        "\n",
        "for col_name in col:\n",
        "    plt.figure(figsize=(8, 6))\n",
        "    sns.pairplot(data=df, x_vars=['extraversion'], y_vars=[col_name])\n",
        "    plt.title(f'Pairplot between extraversion and {col_name}')\n",
        "    plt.xlabel('extraversion')\n",
        "    plt.ylabel(col_name)\n",
        "    plt.savefig(f'/content/drive/MyDrive/Innomatics Research lab/Figures/Pairplot between extraversion and {col_name}')\n",
        "    plt.show()"
      ]
    },
    {
      "cell_type": "code",
      "execution_count": null,
      "metadata": {
        "id": "k7ALkqNtsifj"
      },
      "outputs": [],
      "source": [
        "col = ['openess_to_experience']\n",
        "\n",
        "for col_name in col:\n",
        "    plt.figure(figsize=(8, 6))\n",
        "    sns.pairplot(data=df, x_vars=['nueroticism'], y_vars=[col_name])\n",
        "    plt.title(f'Pairplot between nueroticism and {col_name}')\n",
        "    plt.xlabel('nueroticism')\n",
        "    plt.ylabel(col_name)\n",
        "    plt.savefig(f'/content/drive/MyDrive/Innomatics Research lab/Figures/Pairplot between nueroticism and {col_name}')\n",
        "    plt.show()"
      ]
    },
    {
      "cell_type": "code",
      "execution_count": null,
      "metadata": {
        "id": "2wXFGcsRssoy"
      },
      "outputs": [],
      "source": [
        "categorical_columns = ['Gender', '10board', '12board', 'Degree', 'Specialization', 'CollegeState']\n",
        "numerical_columns = ['Salary', '10percentage', '12percentage', 'collegeGPA', 'English', 'Logical', 'Quant', 'Domain', 'ComputerProgramming', 'ElectronicsAndSemicon', 'ComputerScience', 'MechanicalEngg', 'ElectricalEngg', 'TelecomEngg', 'CivilEngg', 'conscientiousness', 'agreeableness', 'extraversion', 'nueroticism', 'openess_to_experience']\n"
      ]
    },
    {
      "cell_type": "code",
      "execution_count": null,
      "metadata": {
        "id": "jUkWQ_3WrviF"
      },
      "outputs": [],
      "source": [
        "for num_col in numerical_columns:\n",
        "        plt.figure(figsize=(10, 60))\n",
        "        sns.boxplot(x=num_col, y='Designation', data=df)\n",
        "        plt.title(f'Designation vs {num_col}')\n",
        "        plt.xticks(rotation=45)\n",
        "        plt.savefig(f'/content/drive/MyDrive/Innomatics Research lab/Figures/boxplot Designation vs {num_col}')\n",
        "        plt.show()\n",
        "        plt.subplots_adjust(bottom=0.2)"
      ]
    },
    {
      "cell_type": "code",
      "execution_count": null,
      "metadata": {
        "id": "d8nNMFOBrviG"
      },
      "outputs": [],
      "source": [
        "for num_col in numerical_columns:\n",
        "        plt.figure(figsize=(10, 60))\n",
        "        sns.boxplot(x=num_col, y='JobCity', data=df)\n",
        "        plt.title(f'JobCity vs {num_col}')\n",
        "        plt.xticks(rotation=45)\n",
        "        plt.savefig(f'/content/drive/MyDrive/Innomatics Research lab/Figures/boxplot JobCity vs {num_col}')\n",
        "        plt.show()\n",
        "        plt.subplots_adjust(bottom=0.2)"
      ]
    },
    {
      "cell_type": "code",
      "execution_count": null,
      "metadata": {
        "id": "1JsslV3rrviH"
      },
      "outputs": [],
      "source": [
        "for num_col in numerical_columns:\n",
        "        plt.figure(figsize=(10, 60))\n",
        "        sns.boxplot(x=num_col, y='10board', data=df)\n",
        "        plt.title(f'10board vs {num_col}')\n",
        "        plt.xticks(rotation=45)\n",
        "        plt.savefig(f'/content/drive/MyDrive/Innomatics Research lab/Figures/boxplot 10board vs {num_col}')\n",
        "        plt.show()\n",
        "        plt.subplots_adjust(bottom=0.2)"
      ]
    },
    {
      "cell_type": "code",
      "execution_count": null,
      "metadata": {
        "id": "oHHPJamlrviI"
      },
      "outputs": [],
      "source": [
        "for num_col in numerical_columns:\n",
        "        plt.figure(figsize=(9, 5))\n",
        "        sns.boxplot(x=num_col, y='Gender', data=df)\n",
        "        plt.title(f'Gender vs {num_col}')\n",
        "        plt.xticks(rotation=45)\n",
        "        plt.savefig(f'/content/drive/MyDrive/Innomatics Research lab/Figures/boxplot Gender vs {num_col}')\n",
        "        plt.show()\n",
        "        plt.subplots_adjust(bottom=0.2)"
      ]
    },
    {
      "cell_type": "code",
      "execution_count": null,
      "metadata": {
        "id": "fVdkDNJSrviI"
      },
      "outputs": [],
      "source": [
        "for num_col in numerical_columns:\n",
        "        plt.figure(figsize=(9, 8))\n",
        "        sns.boxplot(x=num_col, y='Degree', data=df)\n",
        "        plt.title(f'Degree vs {num_col}')\n",
        "        plt.xticks(rotation=45)\n",
        "        plt.savefig(f'/content/drive/MyDrive/Innomatics Research lab/Figures/boxplot Degree vs {num_col}')\n",
        "        plt.show()\n",
        "        plt.subplots_adjust(bottom=0.2)"
      ]
    },
    {
      "cell_type": "code",
      "execution_count": null,
      "metadata": {
        "id": "R_YYMmXKrviI"
      },
      "outputs": [],
      "source": [
        "for num_col in numerical_columns:\n",
        "        plt.figure(figsize=(9, 8))\n",
        "        sns.boxplot(x=num_col, y='Specialization', data=df)\n",
        "        plt.title(f'Specialization vs {num_col}')\n",
        "        plt.xticks(rotation=45)\n",
        "        plt.savefig(f'/content/drive/MyDrive/Innomatics Research lab/Figures/boxplot Specialization vs {num_col}')\n",
        "        plt.show()\n",
        "        plt.subplots_adjust(bottom=0.2)"
      ]
    },
    {
      "cell_type": "code",
      "execution_count": null,
      "metadata": {
        "id": "VeVsTdhPrviI"
      },
      "outputs": [],
      "source": [
        "for num_col in numerical_columns:\n",
        "        plt.figure(figsize=(9, 8))\n",
        "        sns.boxplot(x=num_col, y='CollegeState', data=df)\n",
        "        plt.title(f'CollegeState vs {num_col}')\n",
        "        plt.xticks(rotation=45)\n",
        "        plt.savefig(f'/content/drive/MyDrive/Innomatics Research lab/Figures/boxplot CollegeState vs {num_col}')\n",
        "        plt.show()\n",
        "        plt.subplots_adjust(bottom=0.2)"
      ]
    },
    {
      "cell_type": "code",
      "execution_count": null,
      "metadata": {
        "id": "ioHbMtz6rviJ"
      },
      "outputs": [],
      "source": [
        "for num_col in numerical_columns:\n",
        "        plt.figure(figsize=(10, 60))\n",
        "        sns.boxplot(x=num_col, y='12board', data=df)\n",
        "        plt.title(f'12board vs {num_col}')\n",
        "        plt.xticks(rotation=45)\n",
        "        plt.savefig(f'/content/drive/MyDrive/Innomatics Research lab/Figures/boxplot 12board vs {num_col}')\n",
        "        plt.show()\n",
        "        plt.subplots_adjust(bottom=0.2)"
      ]
    },
    {
      "cell_type": "code",
      "execution_count": null,
      "metadata": {
        "id": "DCOirbpGrviJ"
      },
      "outputs": [],
      "source": [
        "for num_col in numerical_columns:\n",
        "        plt.figure(figsize=(10, 60))\n",
        "        sns.swarmplot(x=num_col, y='Designation', data=df)\n",
        "        plt.title(f'Designation vs {num_col}')\n",
        "        plt.xticks(rotation=45)\n",
        "        plt.savefig(f'/content/drive/MyDrive/Innomatics Research lab/Figures/swarmplot Designation vs {num_col}')\n",
        "        plt.show()\n",
        "        plt.subplots_adjust(bottom=0.2)"
      ]
    },
    {
      "cell_type": "code",
      "execution_count": null,
      "metadata": {
        "id": "FAsC8SxTrviK"
      },
      "outputs": [],
      "source": [
        "for num_col in numerical_columns:\n",
        "        plt.figure(figsize=(10, 60))\n",
        "        sns.swarmplot(x=num_col, y='JobCity', data=df)\n",
        "        plt.title(f'JobCity vs {num_col}')\n",
        "        plt.xticks(rotation=45)\n",
        "        plt.savefig(f'/content/drive/MyDrive/Innomatics Research lab/Figures/swarmplot JobCity vs {num_col}')\n",
        "        plt.show()\n",
        "        plt.subplots_adjust(bottom=0.2)"
      ]
    },
    {
      "cell_type": "code",
      "execution_count": null,
      "metadata": {
        "id": "T6yEpGN6rviQ"
      },
      "outputs": [],
      "source": [
        "for num_col in numerical_columns:\n",
        "        plt.figure(figsize=(9, 5))\n",
        "        sns.barplot(x=num_col, y='Gender', data=df)\n",
        "        plt.title(f'Gender vs {num_col}')\n",
        "        plt.xticks(rotation=45)\n",
        "        plt.savefig(f'/content/drive/MyDrive/Innomatics Research lab/Figures/barplot Gender vs {num_col}')\n",
        "        plt.show()\n",
        "        plt.subplots_adjust(bottom=0.2)"
      ]
    },
    {
      "cell_type": "code",
      "execution_count": null,
      "metadata": {
        "id": "IkqoxfUnrviQ"
      },
      "outputs": [],
      "source": [
        "for num_col in numerical_columns:\n",
        "        plt.figure(figsize=(9, 8))\n",
        "        sns.barplot(x=num_col, y='Degree', data=df)\n",
        "        plt.title(f'Degree vs {num_col}')\n",
        "        plt.xticks(rotation=45)\n",
        "        plt.savefig(f'/content/drive/MyDrive/Innomatics Research lab/Figures/barplot Degree vs {num_col}')\n",
        "        plt.show()\n",
        "        plt.subplots_adjust(bottom=0.2)"
      ]
    },
    {
      "cell_type": "code",
      "execution_count": null,
      "metadata": {
        "id": "KW6hzDDirviR"
      },
      "outputs": [],
      "source": [
        "for num_col in numerical_columns:\n",
        "        plt.figure(figsize=(9, 8))\n",
        "        sns.barplot(x=num_col, y='Specialization', data=df)\n",
        "        plt.title(f'Specialization vs {num_col}')\n",
        "        plt.xticks(rotation=45)\n",
        "        plt.savefig(f'/content/drive/MyDrive/Innomatics Research lab/Figures/barplot Specialization vs {num_col}')\n",
        "        plt.show()\n",
        "        plt.subplots_adjust(bottom=0.2)"
      ]
    },
    {
      "cell_type": "code",
      "execution_count": null,
      "metadata": {
        "id": "dJyF62TurviR"
      },
      "outputs": [],
      "source": [
        "for num_col in numerical_columns:\n",
        "        plt.figure(figsize=(9, 8))\n",
        "        sns.barplot(x=num_col, y='CollegeState', data=df)\n",
        "        plt.title(f'CollegeState vs {num_col}')\n",
        "        plt.xticks(rotation=45)\n",
        "        plt.savefig(f'/content/drive/MyDrive/Innomatics Research lab/Figures/barplot CollegeState vs {num_col}')\n",
        "        plt.show()\n",
        "        plt.subplots_adjust(bottom=0.2)"
      ]
    },
    {
      "cell_type": "code",
      "execution_count": null,
      "metadata": {
        "id": "NBitUD5orviR"
      },
      "outputs": [],
      "source": [
        "categorical_columns = [ 'Gender', 'Degree']\n",
        "\n",
        "# Plot stacked bar plots for relationships between categorical columns\n",
        "for i in range(len(categorical_columns)):\n",
        "    for j in range(i+1, len(categorical_columns)):\n",
        "        plt.figure(figsize=(min(len(df[categorical_columns[i]].unique()) * 0.5, 15), min(len(df[categorical_columns[j]].unique()) * 0.5, 10)))\n",
        "        stacked_data = df.groupby([categorical_columns[i], categorical_columns[j]]).size().unstack()\n",
        "        stacked_data.plot(kind='bar', stacked=True)\n",
        "        plt.title(f'Stacked Bar Plot of {categorical_columns[i]} vs {categorical_columns[j]}')\n",
        "        plt.xticks(rotation=45)\n",
        "        plt.legend(title=categorical_columns[j])\n",
        "        plt.savefig(f'/content/drive/MyDrive/Innomatics Research lab/Figures/Stacked Bar Plot of {categorical_columns[i]} vs {categorical_columns[j]}')\n",
        "        plt.show()"
      ]
    },
    {
      "cell_type": "code",
      "execution_count": null,
      "metadata": {
        "id": "UoirQzBBrviS"
      },
      "outputs": [],
      "source": [
        "corr = df[numerical_columns].corr()\n",
        "\n",
        "plt.figure(figsize=(12, 10))\n",
        "sns.heatmap(corr, annot=True, cmap='coolwarm', fmt=\".2f\", linewidths=.5)\n",
        "plt.title('Correlation Heatmap of Numerical Columns')\n",
        "\n",
        "plt.savefig('correlation_heatmap.png')\n",
        "\n",
        "plt.show()"
      ]
    },
    {
      "cell_type": "code",
      "source": [],
      "metadata": {
        "id": "AjYD-4dVlZvr"
      },
      "execution_count": null,
      "outputs": []
    }
  ],
  "metadata": {
    "colab": {
      "provenance": []
    },
    "kernelspec": {
      "display_name": "Python 3",
      "name": "python3"
    },
    "language_info": {
      "codemirror_mode": {
        "name": "ipython",
        "version": 3
      },
      "file_extension": ".py",
      "mimetype": "text/x-python",
      "name": "python",
      "nbconvert_exporter": "python",
      "pygments_lexer": "ipython3",
      "version": "3.8.8"
    }
  },
  "nbformat": 4,
  "nbformat_minor": 0
}